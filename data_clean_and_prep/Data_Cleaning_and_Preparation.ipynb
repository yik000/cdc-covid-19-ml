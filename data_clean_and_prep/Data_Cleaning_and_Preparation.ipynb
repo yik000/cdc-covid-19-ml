{
 "cells": [
  {
   "cell_type": "markdown",
   "id": "6f26db54",
   "metadata": {},
   "source": [
    "# Import Required Packages"
   ]
  },
  {
   "cell_type": "code",
   "execution_count": 7,
   "id": "e3e2fcd1",
   "metadata": {},
   "outputs": [],
   "source": [
    "import pandas as pd\n",
    "import numpy as np\n",
    "import matplotlib.pyplot as plt\n",
    "from matplotlib.backends.backend_pdf import PdfPages\n",
    "import datetime"
   ]
  },
  {
   "cell_type": "markdown",
   "id": "d73dabe7",
   "metadata": {},
   "source": [
    "# Bold Print Function"
   ]
  },
  {
   "cell_type": "code",
   "execution_count": 8,
   "id": "c57a62f1",
   "metadata": {},
   "outputs": [],
   "source": [
    "def print_bold(string):\n",
    "    \"\"\"\n",
    "    Function to print strings in bold text.\n",
    "    \"\"\"\n",
    "    print(\"\\033[1m\" + string + \"\\033[0m\")"
   ]
  },
  {
   "cell_type": "markdown",
   "id": "01b491e3",
   "metadata": {},
   "source": [
    "# Load Original CSV file - covid19-cdc-20204844.csv"
   ]
  },
  {
   "cell_type": "code",
   "execution_count": 9,
   "id": "73bb104a",
   "metadata": {},
   "outputs": [],
   "source": [
    "df = pd.read_csv('data/covid19-cdc-20204844.csv')"
   ]
  },
  {
   "cell_type": "markdown",
   "id": "b09ac4af",
   "metadata": {},
   "source": [
    "# 1. Data Quality Report (40)"
   ]
  },
  {
   "cell_type": "markdown",
   "id": "18120901",
   "metadata": {},
   "source": [
    "### Check how many rows the CSV has"
   ]
  },
  {
   "cell_type": "code",
   "execution_count": 10,
   "id": "006a0693",
   "metadata": {
    "scrolled": true
   },
   "outputs": [
    {
     "name": "stdout",
     "output_type": "stream",
     "text": [
      "The dataset has 10000 rows with 12 features.\n"
     ]
    }
   ],
   "source": [
    "num_rows = df.shape[0]\n",
    "features = df.shape[1]\n",
    "print(f\"The dataset has {num_rows} rows with {features} features.\")"
   ]
  },
  {
   "cell_type": "markdown",
   "id": "03dce7fa",
   "metadata": {},
   "source": [
    "### Print the first 5 and last 5 rows  "
   ]
  },
  {
   "cell_type": "code",
   "execution_count": 11,
   "id": "909645a6",
   "metadata": {},
   "outputs": [
    {
     "name": "stdout",
     "output_type": "stream",
     "text": [
      "The first 5 Rows are:\n"
     ]
    },
    {
     "data": {
      "text/html": [
       "<div>\n",
       "<style scoped>\n",
       "    .dataframe tbody tr th:only-of-type {\n",
       "        vertical-align: middle;\n",
       "    }\n",
       "\n",
       "    .dataframe tbody tr th {\n",
       "        vertical-align: top;\n",
       "    }\n",
       "\n",
       "    .dataframe thead th {\n",
       "        text-align: right;\n",
       "    }\n",
       "</style>\n",
       "<table border=\"1\" class=\"dataframe\">\n",
       "  <thead>\n",
       "    <tr style=\"text-align: right;\">\n",
       "      <th></th>\n",
       "      <th>cdc_case_earliest_dt</th>\n",
       "      <th>cdc_report_dt</th>\n",
       "      <th>pos_spec_dt</th>\n",
       "      <th>onset_dt</th>\n",
       "      <th>current_status</th>\n",
       "      <th>sex</th>\n",
       "      <th>age_group</th>\n",
       "      <th>race_ethnicity_combined</th>\n",
       "      <th>hosp_yn</th>\n",
       "      <th>icu_yn</th>\n",
       "      <th>death_yn</th>\n",
       "      <th>medcond_yn</th>\n",
       "    </tr>\n",
       "  </thead>\n",
       "  <tbody>\n",
       "    <tr>\n",
       "      <th>0</th>\n",
       "      <td>2020/03/18</td>\n",
       "      <td>2021/01/16</td>\n",
       "      <td>2020/03/19</td>\n",
       "      <td>2020/03/18</td>\n",
       "      <td>Laboratory-confirmed case</td>\n",
       "      <td>Male</td>\n",
       "      <td>20 - 29 Years</td>\n",
       "      <td>Unknown</td>\n",
       "      <td>No</td>\n",
       "      <td>Missing</td>\n",
       "      <td>No</td>\n",
       "      <td>Yes</td>\n",
       "    </tr>\n",
       "    <tr>\n",
       "      <th>1</th>\n",
       "      <td>2020/12/04</td>\n",
       "      <td>NaN</td>\n",
       "      <td>NaN</td>\n",
       "      <td>NaN</td>\n",
       "      <td>Laboratory-confirmed case</td>\n",
       "      <td>Female</td>\n",
       "      <td>10 - 19 Years</td>\n",
       "      <td>Multiple/Other, Non-Hispanic</td>\n",
       "      <td>No</td>\n",
       "      <td>Missing</td>\n",
       "      <td>No</td>\n",
       "      <td>Missing</td>\n",
       "    </tr>\n",
       "    <tr>\n",
       "      <th>2</th>\n",
       "      <td>2021/01/12</td>\n",
       "      <td>NaN</td>\n",
       "      <td>NaN</td>\n",
       "      <td>NaN</td>\n",
       "      <td>Laboratory-confirmed case</td>\n",
       "      <td>Male</td>\n",
       "      <td>0 - 9 Years</td>\n",
       "      <td>Unknown</td>\n",
       "      <td>Unknown</td>\n",
       "      <td>Missing</td>\n",
       "      <td>No</td>\n",
       "      <td>Missing</td>\n",
       "    </tr>\n",
       "    <tr>\n",
       "      <th>3</th>\n",
       "      <td>2020/11/04</td>\n",
       "      <td>2020/11/15</td>\n",
       "      <td>NaN</td>\n",
       "      <td>2020/11/04</td>\n",
       "      <td>Laboratory-confirmed case</td>\n",
       "      <td>Male</td>\n",
       "      <td>50 - 59 Years</td>\n",
       "      <td>White, Non-Hispanic</td>\n",
       "      <td>No</td>\n",
       "      <td>Unknown</td>\n",
       "      <td>No</td>\n",
       "      <td>No</td>\n",
       "    </tr>\n",
       "    <tr>\n",
       "      <th>4</th>\n",
       "      <td>2020/04/10</td>\n",
       "      <td>2021/01/20</td>\n",
       "      <td>2020/04/12</td>\n",
       "      <td>2020/04/10</td>\n",
       "      <td>Laboratory-confirmed case</td>\n",
       "      <td>Male</td>\n",
       "      <td>50 - 59 Years</td>\n",
       "      <td>Unknown</td>\n",
       "      <td>No</td>\n",
       "      <td>Missing</td>\n",
       "      <td>No</td>\n",
       "      <td>Missing</td>\n",
       "    </tr>\n",
       "  </tbody>\n",
       "</table>\n",
       "</div>"
      ],
      "text/plain": [
       "  cdc_case_earliest_dt cdc_report_dt pos_spec_dt    onset_dt  \\\n",
       "0           2020/03/18    2021/01/16  2020/03/19  2020/03/18   \n",
       "1           2020/12/04           NaN         NaN         NaN   \n",
       "2           2021/01/12           NaN         NaN         NaN   \n",
       "3           2020/11/04    2020/11/15         NaN  2020/11/04   \n",
       "4           2020/04/10    2021/01/20  2020/04/12  2020/04/10   \n",
       "\n",
       "              current_status     sex      age_group  \\\n",
       "0  Laboratory-confirmed case    Male  20 - 29 Years   \n",
       "1  Laboratory-confirmed case  Female  10 - 19 Years   \n",
       "2  Laboratory-confirmed case    Male    0 - 9 Years   \n",
       "3  Laboratory-confirmed case    Male  50 - 59 Years   \n",
       "4  Laboratory-confirmed case    Male  50 - 59 Years   \n",
       "\n",
       "        race_ethnicity_combined  hosp_yn   icu_yn death_yn medcond_yn  \n",
       "0                       Unknown       No  Missing       No        Yes  \n",
       "1  Multiple/Other, Non-Hispanic       No  Missing       No    Missing  \n",
       "2                       Unknown  Unknown  Missing       No    Missing  \n",
       "3           White, Non-Hispanic       No  Unknown       No         No  \n",
       "4                       Unknown       No  Missing       No    Missing  "
      ]
     },
     "execution_count": 11,
     "metadata": {},
     "output_type": "execute_result"
    }
   ],
   "source": [
    "print(\"The first 5 Rows are:\")\n",
    "df.head(5)"
   ]
  },
  {
   "cell_type": "code",
   "execution_count": 12,
   "id": "165123cf",
   "metadata": {},
   "outputs": [
    {
     "name": "stdout",
     "output_type": "stream",
     "text": [
      "The last 5 Rows are:\n"
     ]
    },
    {
     "data": {
      "text/html": [
       "<div>\n",
       "<style scoped>\n",
       "    .dataframe tbody tr th:only-of-type {\n",
       "        vertical-align: middle;\n",
       "    }\n",
       "\n",
       "    .dataframe tbody tr th {\n",
       "        vertical-align: top;\n",
       "    }\n",
       "\n",
       "    .dataframe thead th {\n",
       "        text-align: right;\n",
       "    }\n",
       "</style>\n",
       "<table border=\"1\" class=\"dataframe\">\n",
       "  <thead>\n",
       "    <tr style=\"text-align: right;\">\n",
       "      <th></th>\n",
       "      <th>cdc_case_earliest_dt</th>\n",
       "      <th>cdc_report_dt</th>\n",
       "      <th>pos_spec_dt</th>\n",
       "      <th>onset_dt</th>\n",
       "      <th>current_status</th>\n",
       "      <th>sex</th>\n",
       "      <th>age_group</th>\n",
       "      <th>race_ethnicity_combined</th>\n",
       "      <th>hosp_yn</th>\n",
       "      <th>icu_yn</th>\n",
       "      <th>death_yn</th>\n",
       "      <th>medcond_yn</th>\n",
       "    </tr>\n",
       "  </thead>\n",
       "  <tbody>\n",
       "    <tr>\n",
       "      <th>9995</th>\n",
       "      <td>2020/12/14</td>\n",
       "      <td>2020/12/14</td>\n",
       "      <td>NaN</td>\n",
       "      <td>2020/12/14</td>\n",
       "      <td>Laboratory-confirmed case</td>\n",
       "      <td>Male</td>\n",
       "      <td>30 - 39 Years</td>\n",
       "      <td>Unknown</td>\n",
       "      <td>No</td>\n",
       "      <td>Missing</td>\n",
       "      <td>No</td>\n",
       "      <td>Missing</td>\n",
       "    </tr>\n",
       "    <tr>\n",
       "      <th>9996</th>\n",
       "      <td>2020/08/18</td>\n",
       "      <td>2020/08/23</td>\n",
       "      <td>2020/08/19</td>\n",
       "      <td>2020/08/18</td>\n",
       "      <td>Laboratory-confirmed case</td>\n",
       "      <td>Male</td>\n",
       "      <td>50 - 59 Years</td>\n",
       "      <td>White, Non-Hispanic</td>\n",
       "      <td>Missing</td>\n",
       "      <td>Missing</td>\n",
       "      <td>No</td>\n",
       "      <td>No</td>\n",
       "    </tr>\n",
       "    <tr>\n",
       "      <th>9997</th>\n",
       "      <td>2020/04/15</td>\n",
       "      <td>2020/06/10</td>\n",
       "      <td>NaN</td>\n",
       "      <td>2020/04/15</td>\n",
       "      <td>Laboratory-confirmed case</td>\n",
       "      <td>Male</td>\n",
       "      <td>50 - 59 Years</td>\n",
       "      <td>Hispanic/Latino</td>\n",
       "      <td>No</td>\n",
       "      <td>Unknown</td>\n",
       "      <td>No</td>\n",
       "      <td>Yes</td>\n",
       "    </tr>\n",
       "    <tr>\n",
       "      <th>9998</th>\n",
       "      <td>2020/12/17</td>\n",
       "      <td>NaN</td>\n",
       "      <td>NaN</td>\n",
       "      <td>NaN</td>\n",
       "      <td>Laboratory-confirmed case</td>\n",
       "      <td>Male</td>\n",
       "      <td>40 - 49 Years</td>\n",
       "      <td>White, Non-Hispanic</td>\n",
       "      <td>No</td>\n",
       "      <td>Missing</td>\n",
       "      <td>No</td>\n",
       "      <td>Missing</td>\n",
       "    </tr>\n",
       "    <tr>\n",
       "      <th>9999</th>\n",
       "      <td>2020/06/29</td>\n",
       "      <td>2020/06/29</td>\n",
       "      <td>NaN</td>\n",
       "      <td>NaN</td>\n",
       "      <td>Laboratory-confirmed case</td>\n",
       "      <td>Female</td>\n",
       "      <td>30 - 39 Years</td>\n",
       "      <td>White, Non-Hispanic</td>\n",
       "      <td>No</td>\n",
       "      <td>Missing</td>\n",
       "      <td>No</td>\n",
       "      <td>Missing</td>\n",
       "    </tr>\n",
       "  </tbody>\n",
       "</table>\n",
       "</div>"
      ],
      "text/plain": [
       "     cdc_case_earliest_dt cdc_report_dt pos_spec_dt    onset_dt  \\\n",
       "9995           2020/12/14    2020/12/14         NaN  2020/12/14   \n",
       "9996           2020/08/18    2020/08/23  2020/08/19  2020/08/18   \n",
       "9997           2020/04/15    2020/06/10         NaN  2020/04/15   \n",
       "9998           2020/12/17           NaN         NaN         NaN   \n",
       "9999           2020/06/29    2020/06/29         NaN         NaN   \n",
       "\n",
       "                 current_status     sex      age_group  \\\n",
       "9995  Laboratory-confirmed case    Male  30 - 39 Years   \n",
       "9996  Laboratory-confirmed case    Male  50 - 59 Years   \n",
       "9997  Laboratory-confirmed case    Male  50 - 59 Years   \n",
       "9998  Laboratory-confirmed case    Male  40 - 49 Years   \n",
       "9999  Laboratory-confirmed case  Female  30 - 39 Years   \n",
       "\n",
       "     race_ethnicity_combined  hosp_yn   icu_yn death_yn medcond_yn  \n",
       "9995                 Unknown       No  Missing       No    Missing  \n",
       "9996     White, Non-Hispanic  Missing  Missing       No         No  \n",
       "9997         Hispanic/Latino       No  Unknown       No        Yes  \n",
       "9998     White, Non-Hispanic       No  Missing       No    Missing  \n",
       "9999     White, Non-Hispanic       No  Missing       No    Missing  "
      ]
     },
     "execution_count": 12,
     "metadata": {},
     "output_type": "execute_result"
    }
   ],
   "source": [
    "print(\"The last 5 Rows are:\")\n",
    "df.tail(5)"
   ]
  },
  {
   "cell_type": "markdown",
   "id": "1ca8d72e",
   "metadata": {},
   "source": [
    "### Convert the features to their appropriate data types (continuous / categorical)  "
   ]
  },
  {
   "cell_type": "code",
   "execution_count": 13,
   "id": "c0e7880c",
   "metadata": {
    "scrolled": true
   },
   "outputs": [
    {
     "data": {
      "text/plain": [
       "cdc_case_earliest_dt       object\n",
       "cdc_report_dt              object\n",
       "pos_spec_dt                object\n",
       "onset_dt                   object\n",
       "current_status             object\n",
       "sex                        object\n",
       "age_group                  object\n",
       "race_ethnicity_combined    object\n",
       "hosp_yn                    object\n",
       "icu_yn                     object\n",
       "death_yn                   object\n",
       "medcond_yn                 object\n",
       "dtype: object"
      ]
     },
     "execution_count": 13,
     "metadata": {},
     "output_type": "execute_result"
    }
   ],
   "source": [
    "df.dtypes"
   ]
  },
  {
   "cell_type": "markdown",
   "id": "44ea6a71",
   "metadata": {},
   "source": [
    "> All the columns appear as objects, need to take a closer look at each feature. Column names are satisfactory as they are and do not need any cleaning."
   ]
  },
  {
   "cell_type": "code",
   "execution_count": 14,
   "id": "41ef562e",
   "metadata": {
    "scrolled": false
   },
   "outputs": [
    {
     "data": {
      "text/html": [
       "<div>\n",
       "<style scoped>\n",
       "    .dataframe tbody tr th:only-of-type {\n",
       "        vertical-align: middle;\n",
       "    }\n",
       "\n",
       "    .dataframe tbody tr th {\n",
       "        vertical-align: top;\n",
       "    }\n",
       "\n",
       "    .dataframe thead th {\n",
       "        text-align: right;\n",
       "    }\n",
       "</style>\n",
       "<table border=\"1\" class=\"dataframe\">\n",
       "  <thead>\n",
       "    <tr style=\"text-align: right;\">\n",
       "      <th></th>\n",
       "      <th>count</th>\n",
       "      <th>unique</th>\n",
       "      <th>top</th>\n",
       "      <th>freq</th>\n",
       "    </tr>\n",
       "  </thead>\n",
       "  <tbody>\n",
       "    <tr>\n",
       "      <th>cdc_case_earliest_dt</th>\n",
       "      <td>10000</td>\n",
       "      <td>323</td>\n",
       "      <td>2021/01/04</td>\n",
       "      <td>119</td>\n",
       "    </tr>\n",
       "    <tr>\n",
       "      <th>cdc_report_dt</th>\n",
       "      <td>7730</td>\n",
       "      <td>327</td>\n",
       "      <td>2020/06/10</td>\n",
       "      <td>139</td>\n",
       "    </tr>\n",
       "    <tr>\n",
       "      <th>pos_spec_dt</th>\n",
       "      <td>2792</td>\n",
       "      <td>314</td>\n",
       "      <td>2021/01/05</td>\n",
       "      <td>36</td>\n",
       "    </tr>\n",
       "    <tr>\n",
       "      <th>onset_dt</th>\n",
       "      <td>5084</td>\n",
       "      <td>324</td>\n",
       "      <td>2020/12/03</td>\n",
       "      <td>48</td>\n",
       "    </tr>\n",
       "    <tr>\n",
       "      <th>current_status</th>\n",
       "      <td>10000</td>\n",
       "      <td>2</td>\n",
       "      <td>Laboratory-confirmed case</td>\n",
       "      <td>9310</td>\n",
       "    </tr>\n",
       "    <tr>\n",
       "      <th>sex</th>\n",
       "      <td>10000</td>\n",
       "      <td>4</td>\n",
       "      <td>Female</td>\n",
       "      <td>5160</td>\n",
       "    </tr>\n",
       "    <tr>\n",
       "      <th>age_group</th>\n",
       "      <td>10000</td>\n",
       "      <td>10</td>\n",
       "      <td>20 - 29 Years</td>\n",
       "      <td>1911</td>\n",
       "    </tr>\n",
       "    <tr>\n",
       "      <th>race_ethnicity_combined</th>\n",
       "      <td>10000</td>\n",
       "      <td>9</td>\n",
       "      <td>Unknown</td>\n",
       "      <td>3942</td>\n",
       "    </tr>\n",
       "    <tr>\n",
       "      <th>hosp_yn</th>\n",
       "      <td>10000</td>\n",
       "      <td>4</td>\n",
       "      <td>No</td>\n",
       "      <td>5294</td>\n",
       "    </tr>\n",
       "    <tr>\n",
       "      <th>icu_yn</th>\n",
       "      <td>10000</td>\n",
       "      <td>4</td>\n",
       "      <td>Missing</td>\n",
       "      <td>7622</td>\n",
       "    </tr>\n",
       "    <tr>\n",
       "      <th>death_yn</th>\n",
       "      <td>10000</td>\n",
       "      <td>2</td>\n",
       "      <td>No</td>\n",
       "      <td>9674</td>\n",
       "    </tr>\n",
       "    <tr>\n",
       "      <th>medcond_yn</th>\n",
       "      <td>10000</td>\n",
       "      <td>4</td>\n",
       "      <td>Missing</td>\n",
       "      <td>7446</td>\n",
       "    </tr>\n",
       "  </tbody>\n",
       "</table>\n",
       "</div>"
      ],
      "text/plain": [
       "                         count unique                        top  freq\n",
       "cdc_case_earliest_dt     10000    323                 2021/01/04   119\n",
       "cdc_report_dt             7730    327                 2020/06/10   139\n",
       "pos_spec_dt               2792    314                 2021/01/05    36\n",
       "onset_dt                  5084    324                 2020/12/03    48\n",
       "current_status           10000      2  Laboratory-confirmed case  9310\n",
       "sex                      10000      4                     Female  5160\n",
       "age_group                10000     10              20 - 29 Years  1911\n",
       "race_ethnicity_combined  10000      9                    Unknown  3942\n",
       "hosp_yn                  10000      4                         No  5294\n",
       "icu_yn                   10000      4                    Missing  7622\n",
       "death_yn                 10000      2                         No  9674\n",
       "medcond_yn               10000      4                    Missing  7446"
      ]
     },
     "execution_count": 14,
     "metadata": {},
     "output_type": "execute_result"
    }
   ],
   "source": [
    "# Descriptive Statistics\n",
    "df.describe().T"
   ]
  },
  {
   "cell_type": "code",
   "execution_count": 15,
   "id": "02cef56d",
   "metadata": {
    "scrolled": true
   },
   "outputs": [
    {
     "data": {
      "text/plain": [
       "array(['20 - 29 Years', '10 - 19 Years', '0 - 9 Years', '50 - 59 Years',\n",
       "       '30 - 39 Years', '60 - 69 Years', '40 - 49 Years', '70 - 79 Years',\n",
       "       '80+ Years', 'Missing'], dtype=object)"
      ]
     },
     "execution_count": 15,
     "metadata": {},
     "output_type": "execute_result"
    }
   ],
   "source": [
    "# Taking a look at age_group\n",
    "df['age_group'].unique()"
   ]
  },
  {
   "cell_type": "markdown",
   "id": "a7c72c5b",
   "metadata": {},
   "source": [
    "> *cdc_case_earliest_dt*, *cdc_report_dt*, *pos_spec_dt*, and *onset_dt* are all **dates**, I will treat these as continuous and change them to the '*datetime64*' datatype.\n",
    "<br><br>\n",
    "I will treat the rest of the features as categorical as they are not numerical features."
   ]
  },
  {
   "cell_type": "code",
   "execution_count": 16,
   "id": "11b12112",
   "metadata": {},
   "outputs": [],
   "source": [
    "# Select columns containing categorical data\n",
    "categorical_columns = df[['current_status','sex','age_group','race_ethnicity_combined','hosp_yn','icu_yn','death_yn','medcond_yn']].columns\n",
    "\n",
    "# Change the column type to category\n",
    "for column in categorical_columns:\n",
    "    df[column] = df[column].astype('category')"
   ]
  },
  {
   "cell_type": "code",
   "execution_count": 17,
   "id": "cc665128",
   "metadata": {},
   "outputs": [],
   "source": [
    "# Select columns containing continuous data (the dates)\n",
    "continuous_columns = df[['cdc_case_earliest_dt','cdc_report_dt','pos_spec_dt','onset_dt']].columns\n",
    "\n",
    "# \n",
    "for column in continuous_columns:\n",
    "    df[column] = df[column].astype('datetime64')"
   ]
  },
  {
   "cell_type": "code",
   "execution_count": 18,
   "id": "31075cb0",
   "metadata": {
    "scrolled": false
   },
   "outputs": [
    {
     "data": {
      "text/plain": [
       "cdc_case_earliest_dt       datetime64[ns]\n",
       "cdc_report_dt              datetime64[ns]\n",
       "pos_spec_dt                datetime64[ns]\n",
       "onset_dt                   datetime64[ns]\n",
       "current_status                   category\n",
       "sex                              category\n",
       "age_group                        category\n",
       "race_ethnicity_combined          category\n",
       "hosp_yn                          category\n",
       "icu_yn                           category\n",
       "death_yn                         category\n",
       "medcond_yn                       category\n",
       "dtype: object"
      ]
     },
     "execution_count": 18,
     "metadata": {},
     "output_type": "execute_result"
    }
   ],
   "source": [
    "df.dtypes"
   ]
  },
  {
   "cell_type": "markdown",
   "id": "2073e7d3",
   "metadata": {},
   "source": [
    "### Drop duplicate rows and columns (if any)"
   ]
  },
  {
   "cell_type": "markdown",
   "id": "3f98a1a1",
   "metadata": {},
   "source": [
    "##### Checking for duplicate rows"
   ]
  },
  {
   "cell_type": "code",
   "execution_count": 19,
   "id": "a05075be",
   "metadata": {},
   "outputs": [
    {
     "name": "stdout",
     "output_type": "stream",
     "text": [
      "There are 431 duplicated rows in this dataset (excluding the first row).\n",
      "There are 777 duplicated rows in this dataset (including row that is duplicated).\n"
     ]
    }
   ],
   "source": [
    "# Find number of duplicate rows\n",
    "num_duplicate_rows = df.duplicated().sum()\n",
    "print(f\"There are {num_duplicate_rows} duplicated rows in this dataset (excluding the first row).\")\n",
    "num_duplicate_rows_inclusive = df[df.duplicated(keep=False)].shape[0]\n",
    "print(f\"There are {num_duplicate_rows_inclusive} duplicated rows in this dataset (including row that is duplicated).\")"
   ]
  },
  {
   "cell_type": "markdown",
   "id": "4169de5c",
   "metadata": {},
   "source": [
    "##### Checking for duplicate columns"
   ]
  },
  {
   "cell_type": "code",
   "execution_count": 20,
   "id": "aacac15d",
   "metadata": {
    "scrolled": true
   },
   "outputs": [
    {
     "name": "stdout",
     "output_type": "stream",
     "text": [
      "There are 0 duplicated columns in this dataset (excluding the first column).\n",
      "There are 0 duplicated columns in this dataset (including column that is duplicated).\n"
     ]
    }
   ],
   "source": [
    "# Find number of duplicate columns\n",
    "df_transposed = df.T\n",
    "num_duplicate_cols = df_transposed.duplicated().sum()\n",
    "print(f\"There are {num_duplicate_cols} duplicated columns in this dataset (excluding the first column).\")\n",
    "num_duplicate_cols_inclusive = df_transposed[df_transposed.duplicated(keep=False)].shape[0]\n",
    "print(f\"There are {num_duplicate_cols_inclusive} duplicated columns in this dataset (including column that is duplicated).\")"
   ]
  },
  {
   "cell_type": "markdown",
   "id": "8ffd3cb7",
   "metadata": {},
   "source": [
    "> There are duplicate rows in this dataset.  \n",
    "However, there is no primary key in the dataset to determine whether the same individual has been entered twice.\n",
    "<br><br>\n",
    "> There are no duplicate columns in this dataset."
   ]
  },
  {
   "cell_type": "code",
   "execution_count": 21,
   "id": "3f2921ea",
   "metadata": {
    "scrolled": true
   },
   "outputs": [
    {
     "data": {
      "text/html": [
       "<div>\n",
       "<style scoped>\n",
       "    .dataframe tbody tr th:only-of-type {\n",
       "        vertical-align: middle;\n",
       "    }\n",
       "\n",
       "    .dataframe tbody tr th {\n",
       "        vertical-align: top;\n",
       "    }\n",
       "\n",
       "    .dataframe thead th {\n",
       "        text-align: right;\n",
       "    }\n",
       "</style>\n",
       "<table border=\"1\" class=\"dataframe\">\n",
       "  <thead>\n",
       "    <tr style=\"text-align: right;\">\n",
       "      <th></th>\n",
       "      <th>cdc_case_earliest_dt</th>\n",
       "      <th>cdc_report_dt</th>\n",
       "      <th>pos_spec_dt</th>\n",
       "      <th>onset_dt</th>\n",
       "      <th>current_status</th>\n",
       "      <th>sex</th>\n",
       "      <th>age_group</th>\n",
       "      <th>race_ethnicity_combined</th>\n",
       "      <th>hosp_yn</th>\n",
       "      <th>icu_yn</th>\n",
       "      <th>death_yn</th>\n",
       "      <th>medcond_yn</th>\n",
       "    </tr>\n",
       "  </thead>\n",
       "  <tbody>\n",
       "    <tr>\n",
       "      <th>7713</th>\n",
       "      <td>2020-03-26</td>\n",
       "      <td>2021-01-16</td>\n",
       "      <td>2020-03-26</td>\n",
       "      <td>NaT</td>\n",
       "      <td>Laboratory-confirmed case</td>\n",
       "      <td>Male</td>\n",
       "      <td>50 - 59 Years</td>\n",
       "      <td>Unknown</td>\n",
       "      <td>Missing</td>\n",
       "      <td>Missing</td>\n",
       "      <td>No</td>\n",
       "      <td>Missing</td>\n",
       "    </tr>\n",
       "    <tr>\n",
       "      <th>2285</th>\n",
       "      <td>2020-03-26</td>\n",
       "      <td>2021-01-16</td>\n",
       "      <td>2020-03-26</td>\n",
       "      <td>NaT</td>\n",
       "      <td>Laboratory-confirmed case</td>\n",
       "      <td>Male</td>\n",
       "      <td>50 - 59 Years</td>\n",
       "      <td>Unknown</td>\n",
       "      <td>Missing</td>\n",
       "      <td>Missing</td>\n",
       "      <td>No</td>\n",
       "      <td>Missing</td>\n",
       "    </tr>\n",
       "    <tr>\n",
       "      <th>8960</th>\n",
       "      <td>2020-05-04</td>\n",
       "      <td>2021-01-21</td>\n",
       "      <td>2020-05-04</td>\n",
       "      <td>NaT</td>\n",
       "      <td>Laboratory-confirmed case</td>\n",
       "      <td>Female</td>\n",
       "      <td>20 - 29 Years</td>\n",
       "      <td>Unknown</td>\n",
       "      <td>Missing</td>\n",
       "      <td>Missing</td>\n",
       "      <td>No</td>\n",
       "      <td>Missing</td>\n",
       "    </tr>\n",
       "    <tr>\n",
       "      <th>2500</th>\n",
       "      <td>2020-05-04</td>\n",
       "      <td>2021-01-21</td>\n",
       "      <td>2020-05-04</td>\n",
       "      <td>NaT</td>\n",
       "      <td>Laboratory-confirmed case</td>\n",
       "      <td>Female</td>\n",
       "      <td>20 - 29 Years</td>\n",
       "      <td>Unknown</td>\n",
       "      <td>Missing</td>\n",
       "      <td>Missing</td>\n",
       "      <td>No</td>\n",
       "      <td>Missing</td>\n",
       "    </tr>\n",
       "    <tr>\n",
       "      <th>4759</th>\n",
       "      <td>2020-05-12</td>\n",
       "      <td>2021-01-22</td>\n",
       "      <td>2020-05-12</td>\n",
       "      <td>NaT</td>\n",
       "      <td>Probable Case</td>\n",
       "      <td>Female</td>\n",
       "      <td>40 - 49 Years</td>\n",
       "      <td>Unknown</td>\n",
       "      <td>Missing</td>\n",
       "      <td>Missing</td>\n",
       "      <td>No</td>\n",
       "      <td>Missing</td>\n",
       "    </tr>\n",
       "    <tr>\n",
       "      <th>...</th>\n",
       "      <td>...</td>\n",
       "      <td>...</td>\n",
       "      <td>...</td>\n",
       "      <td>...</td>\n",
       "      <td>...</td>\n",
       "      <td>...</td>\n",
       "      <td>...</td>\n",
       "      <td>...</td>\n",
       "      <td>...</td>\n",
       "      <td>...</td>\n",
       "      <td>...</td>\n",
       "      <td>...</td>\n",
       "    </tr>\n",
       "    <tr>\n",
       "      <th>1377</th>\n",
       "      <td>2021-01-15</td>\n",
       "      <td>NaT</td>\n",
       "      <td>NaT</td>\n",
       "      <td>NaT</td>\n",
       "      <td>Laboratory-confirmed case</td>\n",
       "      <td>Female</td>\n",
       "      <td>60 - 69 Years</td>\n",
       "      <td>Unknown</td>\n",
       "      <td>Missing</td>\n",
       "      <td>Missing</td>\n",
       "      <td>No</td>\n",
       "      <td>Missing</td>\n",
       "    </tr>\n",
       "    <tr>\n",
       "      <th>3367</th>\n",
       "      <td>2021-01-16</td>\n",
       "      <td>NaT</td>\n",
       "      <td>NaT</td>\n",
       "      <td>NaT</td>\n",
       "      <td>Laboratory-confirmed case</td>\n",
       "      <td>Male</td>\n",
       "      <td>10 - 19 Years</td>\n",
       "      <td>Unknown</td>\n",
       "      <td>Unknown</td>\n",
       "      <td>Missing</td>\n",
       "      <td>No</td>\n",
       "      <td>Missing</td>\n",
       "    </tr>\n",
       "    <tr>\n",
       "      <th>2991</th>\n",
       "      <td>2021-01-16</td>\n",
       "      <td>NaT</td>\n",
       "      <td>NaT</td>\n",
       "      <td>NaT</td>\n",
       "      <td>Laboratory-confirmed case</td>\n",
       "      <td>Male</td>\n",
       "      <td>30 - 39 Years</td>\n",
       "      <td>Unknown</td>\n",
       "      <td>Missing</td>\n",
       "      <td>Missing</td>\n",
       "      <td>No</td>\n",
       "      <td>Missing</td>\n",
       "    </tr>\n",
       "    <tr>\n",
       "      <th>7829</th>\n",
       "      <td>2021-01-16</td>\n",
       "      <td>NaT</td>\n",
       "      <td>NaT</td>\n",
       "      <td>NaT</td>\n",
       "      <td>Laboratory-confirmed case</td>\n",
       "      <td>Male</td>\n",
       "      <td>30 - 39 Years</td>\n",
       "      <td>Unknown</td>\n",
       "      <td>Missing</td>\n",
       "      <td>Missing</td>\n",
       "      <td>No</td>\n",
       "      <td>Missing</td>\n",
       "    </tr>\n",
       "    <tr>\n",
       "      <th>1343</th>\n",
       "      <td>2021-01-16</td>\n",
       "      <td>NaT</td>\n",
       "      <td>NaT</td>\n",
       "      <td>NaT</td>\n",
       "      <td>Laboratory-confirmed case</td>\n",
       "      <td>Male</td>\n",
       "      <td>10 - 19 Years</td>\n",
       "      <td>Unknown</td>\n",
       "      <td>Unknown</td>\n",
       "      <td>Missing</td>\n",
       "      <td>No</td>\n",
       "      <td>Missing</td>\n",
       "    </tr>\n",
       "  </tbody>\n",
       "</table>\n",
       "<p>777 rows × 12 columns</p>\n",
       "</div>"
      ],
      "text/plain": [
       "     cdc_case_earliest_dt cdc_report_dt pos_spec_dt onset_dt  \\\n",
       "7713           2020-03-26    2021-01-16  2020-03-26      NaT   \n",
       "2285           2020-03-26    2021-01-16  2020-03-26      NaT   \n",
       "8960           2020-05-04    2021-01-21  2020-05-04      NaT   \n",
       "2500           2020-05-04    2021-01-21  2020-05-04      NaT   \n",
       "4759           2020-05-12    2021-01-22  2020-05-12      NaT   \n",
       "...                   ...           ...         ...      ...   \n",
       "1377           2021-01-15           NaT         NaT      NaT   \n",
       "3367           2021-01-16           NaT         NaT      NaT   \n",
       "2991           2021-01-16           NaT         NaT      NaT   \n",
       "7829           2021-01-16           NaT         NaT      NaT   \n",
       "1343           2021-01-16           NaT         NaT      NaT   \n",
       "\n",
       "                 current_status     sex      age_group  \\\n",
       "7713  Laboratory-confirmed case    Male  50 - 59 Years   \n",
       "2285  Laboratory-confirmed case    Male  50 - 59 Years   \n",
       "8960  Laboratory-confirmed case  Female  20 - 29 Years   \n",
       "2500  Laboratory-confirmed case  Female  20 - 29 Years   \n",
       "4759              Probable Case  Female  40 - 49 Years   \n",
       "...                         ...     ...            ...   \n",
       "1377  Laboratory-confirmed case  Female  60 - 69 Years   \n",
       "3367  Laboratory-confirmed case    Male  10 - 19 Years   \n",
       "2991  Laboratory-confirmed case    Male  30 - 39 Years   \n",
       "7829  Laboratory-confirmed case    Male  30 - 39 Years   \n",
       "1343  Laboratory-confirmed case    Male  10 - 19 Years   \n",
       "\n",
       "     race_ethnicity_combined  hosp_yn   icu_yn death_yn medcond_yn  \n",
       "7713                 Unknown  Missing  Missing       No    Missing  \n",
       "2285                 Unknown  Missing  Missing       No    Missing  \n",
       "8960                 Unknown  Missing  Missing       No    Missing  \n",
       "2500                 Unknown  Missing  Missing       No    Missing  \n",
       "4759                 Unknown  Missing  Missing       No    Missing  \n",
       "...                      ...      ...      ...      ...        ...  \n",
       "1377                 Unknown  Missing  Missing       No    Missing  \n",
       "3367                 Unknown  Unknown  Missing       No    Missing  \n",
       "2991                 Unknown  Missing  Missing       No    Missing  \n",
       "7829                 Unknown  Missing  Missing       No    Missing  \n",
       "1343                 Unknown  Unknown  Missing       No    Missing  \n",
       "\n",
       "[777 rows x 12 columns]"
      ]
     },
     "execution_count": 21,
     "metadata": {},
     "output_type": "execute_result"
    }
   ],
   "source": [
    "# Show all the duplicated rows sorting by *cdc_case_earliest_dt* to compare\n",
    "df_duplicates = df[df.duplicated(keep=False)].sort_values('cdc_case_earliest_dt')\n",
    "df_duplicates"
   ]
  },
  {
   "cell_type": "markdown",
   "id": "09a7f3e2",
   "metadata": {},
   "source": [
    "> Interesting that from above all duplicates appear to have the value 'No' for *death_yn* and that the main features have unknown/missing values"
   ]
  },
  {
   "cell_type": "code",
   "execution_count": 22,
   "id": "5dd8ed11",
   "metadata": {
    "scrolled": false
   },
   "outputs": [
    {
     "data": {
      "text/plain": [
       "No     777\n",
       "Yes      0\n",
       "Name: death_yn, dtype: int64"
      ]
     },
     "execution_count": 22,
     "metadata": {},
     "output_type": "execute_result"
    }
   ],
   "source": [
    "# Check the value breakdown for 'death_yn' in the duplicate rows\n",
    "df_duplicates['death_yn'].value_counts()"
   ]
  },
  {
   "cell_type": "markdown",
   "id": "125b2029",
   "metadata": {},
   "source": [
    "> All of the duplicate rows have 'No' as the value for *death_yn*. As this is my target variable I am adverse to removing these rows so as not to skew any analysis."
   ]
  },
  {
   "cell_type": "code",
   "execution_count": 23,
   "id": "5bc3fcaf",
   "metadata": {},
   "outputs": [
    {
     "name": "stdout",
     "output_type": "stream",
     "text": [
      "\u001b[1mValue count for 'sex' in duplicate rows:\u001b[0m\n",
      "Female     406\n",
      "Male       371\n",
      "Missing      0\n",
      "Unknown      0\n",
      "Name: sex, dtype: int64\n",
      "\u001b[1m\n",
      "Value count for 'age_group' in duplicate rows:\u001b[0m\n",
      "20 - 29 Years    206\n",
      "40 - 49 Years    176\n",
      "30 - 39 Years    150\n",
      "50 - 59 Years     87\n",
      "10 - 19 Years     86\n",
      "60 - 69 Years     47\n",
      "0 - 9 Years       17\n",
      "70 - 79 Years      6\n",
      "80+ Years          2\n",
      "Missing            0\n",
      "Name: age_group, dtype: int64\n",
      "\u001b[1m\n",
      "Value count for 'race_ethnicity_combined' in duplicate rows:\u001b[0m\n",
      "Unknown                                                 683\n",
      "White, Non-Hispanic                                      51\n",
      "Multiple/Other, Non-Hispanic                             23\n",
      "Hispanic/Latino                                          10\n",
      "Asian, Non-Hispanic                                       6\n",
      "Black, Non-Hispanic                                       4\n",
      "American Indian/Alaska Native, Non-Hispanic               0\n",
      "Missing                                                   0\n",
      "Native Hawaiian/Other Pacific Islander, Non-Hispanic      0\n",
      "Name: race_ethnicity_combined, dtype: int64\n",
      "\u001b[1m\n",
      "Value count for 'hosp_yn' in duplicate rows:\u001b[0m\n",
      "Missing    388\n",
      "Unknown    261\n",
      "No         128\n",
      "Yes          0\n",
      "Name: hosp_yn, dtype: int64\n",
      "\u001b[1m\n",
      "Value count for 'icu_yn' in duplicate rows:\u001b[0m\n",
      "Missing    750\n",
      "Unknown     25\n",
      "No           2\n",
      "Yes          0\n",
      "Name: icu_yn, dtype: int64\n",
      "\u001b[1m\n",
      "Value count for 'medcond_yn' in duplicate rows:\u001b[0m\n",
      "Missing    752\n",
      "Unknown     25\n",
      "No           0\n",
      "Yes          0\n",
      "Name: medcond_yn, dtype: int64\n"
     ]
    }
   ],
   "source": [
    "print_bold(\"Value count for 'sex' in duplicate rows:\")\n",
    "print(df_duplicates['sex'].value_counts())\n",
    "\n",
    "print_bold(\"\\nValue count for 'age_group' in duplicate rows:\")\n",
    "print(df_duplicates['age_group'].value_counts())\n",
    "\n",
    "print_bold(\"\\nValue count for 'race_ethnicity_combined' in duplicate rows:\")\n",
    "print(df_duplicates['race_ethnicity_combined'].value_counts())\n",
    "\n",
    "print_bold(\"\\nValue count for 'hosp_yn' in duplicate rows:\")\n",
    "print(df_duplicates['hosp_yn'].value_counts())\n",
    "\n",
    "print_bold(\"\\nValue count for 'icu_yn' in duplicate rows:\")\n",
    "print(df_duplicates['icu_yn'].value_counts())\n",
    "\n",
    "print_bold(\"\\nValue count for 'medcond_yn' in duplicate rows:\")\n",
    "print(df_duplicates['medcond_yn'].value_counts())"
   ]
  },
  {
   "cell_type": "markdown",
   "id": "75b936a1",
   "metadata": {},
   "source": [
    "> On further analysis it appears that in the duplicate rows many of the features have missing values. Only *sex*, *race_ethnicity_combined* and *age_group* have no missing values. However, a large proportion of the *race_ethnicity_combined* values are 'Unknown' and there appears to be an even divide in *sex* in the duplicates rows.\n",
    "<br><br>\n",
    "Due to the missing values for the features in the duplicate rows I have decided to drop the duplicate rows from this dataset."
   ]
  },
  {
   "cell_type": "code",
   "execution_count": 24,
   "id": "7258d22e",
   "metadata": {},
   "outputs": [],
   "source": [
    "# Drop duplicate rows\n",
    "df = df.drop_duplicates(keep=False)"
   ]
  },
  {
   "cell_type": "code",
   "execution_count": 25,
   "id": "9e78f6d1",
   "metadata": {},
   "outputs": [
    {
     "name": "stdout",
     "output_type": "stream",
     "text": [
      "Duplicate rows remaining: 0\n"
     ]
    }
   ],
   "source": [
    "# Check that duplicates have been removed\n",
    "num_duplicate_rows = df[df.duplicated()].shape[0]\n",
    "print(f\"Duplicate rows remaining: {num_duplicate_rows}\")"
   ]
  },
  {
   "cell_type": "markdown",
   "id": "2a3f28d2",
   "metadata": {},
   "source": [
    "### Drop constant columns"
   ]
  },
  {
   "cell_type": "markdown",
   "id": "ac88a9b1",
   "metadata": {},
   "source": [
    "##### Check for Constant Columns"
   ]
  },
  {
   "cell_type": "code",
   "execution_count": 26,
   "id": "0eb046a5",
   "metadata": {
    "scrolled": false
   },
   "outputs": [
    {
     "data": {
      "text/html": [
       "<div>\n",
       "<style scoped>\n",
       "    .dataframe tbody tr th:only-of-type {\n",
       "        vertical-align: middle;\n",
       "    }\n",
       "\n",
       "    .dataframe tbody tr th {\n",
       "        vertical-align: top;\n",
       "    }\n",
       "\n",
       "    .dataframe thead th {\n",
       "        text-align: right;\n",
       "    }\n",
       "</style>\n",
       "<table border=\"1\" class=\"dataframe\">\n",
       "  <thead>\n",
       "    <tr style=\"text-align: right;\">\n",
       "      <th></th>\n",
       "      <th>count</th>\n",
       "      <th>unique</th>\n",
       "      <th>top</th>\n",
       "      <th>freq</th>\n",
       "    </tr>\n",
       "  </thead>\n",
       "  <tbody>\n",
       "    <tr>\n",
       "      <th>current_status</th>\n",
       "      <td>9223</td>\n",
       "      <td>2</td>\n",
       "      <td>Laboratory-confirmed case</td>\n",
       "      <td>8540</td>\n",
       "    </tr>\n",
       "    <tr>\n",
       "      <th>sex</th>\n",
       "      <td>9223</td>\n",
       "      <td>4</td>\n",
       "      <td>Female</td>\n",
       "      <td>4754</td>\n",
       "    </tr>\n",
       "    <tr>\n",
       "      <th>age_group</th>\n",
       "      <td>9223</td>\n",
       "      <td>10</td>\n",
       "      <td>20 - 29 Years</td>\n",
       "      <td>1705</td>\n",
       "    </tr>\n",
       "    <tr>\n",
       "      <th>race_ethnicity_combined</th>\n",
       "      <td>9223</td>\n",
       "      <td>9</td>\n",
       "      <td>White, Non-Hispanic</td>\n",
       "      <td>3379</td>\n",
       "    </tr>\n",
       "    <tr>\n",
       "      <th>hosp_yn</th>\n",
       "      <td>9223</td>\n",
       "      <td>4</td>\n",
       "      <td>No</td>\n",
       "      <td>5166</td>\n",
       "    </tr>\n",
       "    <tr>\n",
       "      <th>icu_yn</th>\n",
       "      <td>9223</td>\n",
       "      <td>4</td>\n",
       "      <td>Missing</td>\n",
       "      <td>6872</td>\n",
       "    </tr>\n",
       "    <tr>\n",
       "      <th>death_yn</th>\n",
       "      <td>9223</td>\n",
       "      <td>2</td>\n",
       "      <td>No</td>\n",
       "      <td>8897</td>\n",
       "    </tr>\n",
       "    <tr>\n",
       "      <th>medcond_yn</th>\n",
       "      <td>9223</td>\n",
       "      <td>4</td>\n",
       "      <td>Missing</td>\n",
       "      <td>6694</td>\n",
       "    </tr>\n",
       "  </tbody>\n",
       "</table>\n",
       "</div>"
      ],
      "text/plain": [
       "                        count unique                        top  freq\n",
       "current_status           9223      2  Laboratory-confirmed case  8540\n",
       "sex                      9223      4                     Female  4754\n",
       "age_group                9223     10              20 - 29 Years  1705\n",
       "race_ethnicity_combined  9223      9        White, Non-Hispanic  3379\n",
       "hosp_yn                  9223      4                         No  5166\n",
       "icu_yn                   9223      4                    Missing  6872\n",
       "death_yn                 9223      2                         No  8897\n",
       "medcond_yn               9223      4                    Missing  6694"
      ]
     },
     "execution_count": 26,
     "metadata": {},
     "output_type": "execute_result"
    }
   ],
   "source": [
    "# Print Categorical Descriptive Statistics\n",
    "df.select_dtypes(['category']).describe().T"
   ]
  },
  {
   "cell_type": "markdown",
   "id": "185fa6ac",
   "metadata": {},
   "source": [
    "> All categorical features have more than 1 unique value, therefore there are no constant columns that need to be dropped."
   ]
  },
  {
   "cell_type": "code",
   "execution_count": 27,
   "id": "201f7f53",
   "metadata": {
    "scrolled": true
   },
   "outputs": [
    {
     "data": {
      "text/plain": [
       "cdc_case_earliest_dt   86 days 07:59:23.388256672\n",
       "cdc_report_dt          81 days 09:19:09.980629870\n",
       "pos_spec_dt            91 days 03:39:47.475978219\n",
       "onset_dt               85 days 15:22:23.339754007\n",
       "dtype: timedelta64[ns]"
      ]
     },
     "execution_count": 27,
     "metadata": {},
     "output_type": "execute_result"
    }
   ],
   "source": [
    "# Check that the continuous features have a standard deviation greater than zero\n",
    "df[continuous_columns].std()"
   ]
  },
  {
   "cell_type": "markdown",
   "id": "30ece887",
   "metadata": {},
   "source": [
    "> All continuous features have a non zero standard deviation and therefore there are no constant columns."
   ]
  },
  {
   "cell_type": "markdown",
   "id": "99902794",
   "metadata": {},
   "source": [
    "### Save update/cleaned data frame in new CSV file"
   ]
  },
  {
   "cell_type": "code",
   "execution_count": 28,
   "id": "31f6a88d",
   "metadata": {},
   "outputs": [],
   "source": [
    "df.to_csv('data/covid19-cdc-20204844_1-1_cleaned.csv')"
   ]
  },
  {
   "cell_type": "markdown",
   "id": "1ac22339",
   "metadata": {},
   "source": [
    "## For clean CSV and dataframe"
   ]
  },
  {
   "cell_type": "markdown",
   "id": "262db6bb",
   "metadata": {},
   "source": [
    "### Prepare table with descriptive stats for all **continuous** features"
   ]
  },
  {
   "cell_type": "code",
   "execution_count": 29,
   "id": "8d142c80",
   "metadata": {},
   "outputs": [
    {
     "data": {
      "text/html": [
       "<div>\n",
       "<style scoped>\n",
       "    .dataframe tbody tr th:only-of-type {\n",
       "        vertical-align: middle;\n",
       "    }\n",
       "\n",
       "    .dataframe tbody tr th {\n",
       "        vertical-align: top;\n",
       "    }\n",
       "\n",
       "    .dataframe thead th {\n",
       "        text-align: right;\n",
       "    }\n",
       "</style>\n",
       "<table border=\"1\" class=\"dataframe\">\n",
       "  <thead>\n",
       "    <tr style=\"text-align: right;\">\n",
       "      <th></th>\n",
       "      <th>count</th>\n",
       "      <th>mean</th>\n",
       "      <th>min</th>\n",
       "      <th>25%</th>\n",
       "      <th>50%</th>\n",
       "      <th>75%</th>\n",
       "      <th>max</th>\n",
       "    </tr>\n",
       "  </thead>\n",
       "  <tbody>\n",
       "    <tr>\n",
       "      <th>cdc_case_earliest_dt</th>\n",
       "      <td>9223</td>\n",
       "      <td>2020-09-30 07:06:14.325056768</td>\n",
       "      <td>2020-01-01</td>\n",
       "      <td>2020-07-22 00:00:00</td>\n",
       "      <td>2020-11-01</td>\n",
       "      <td>2020-12-11</td>\n",
       "      <td>2021-01-16</td>\n",
       "    </tr>\n",
       "    <tr>\n",
       "      <th>cdc_report_dt</th>\n",
       "      <td>7573</td>\n",
       "      <td>2020-10-15 19:32:27.603327744</td>\n",
       "      <td>2020-01-01</td>\n",
       "      <td>2020-08-14 00:00:00</td>\n",
       "      <td>2020-11-10</td>\n",
       "      <td>2020-12-20</td>\n",
       "      <td>2021-01-29</td>\n",
       "    </tr>\n",
       "    <tr>\n",
       "      <th>pos_spec_dt</th>\n",
       "      <td>2749</td>\n",
       "      <td>2020-09-19 07:33:38.042924544</td>\n",
       "      <td>2020-03-12</td>\n",
       "      <td>2020-07-06 00:00:00</td>\n",
       "      <td>2020-10-20</td>\n",
       "      <td>2020-12-04</td>\n",
       "      <td>2021-01-26</td>\n",
       "    </tr>\n",
       "    <tr>\n",
       "      <th>onset_dt</th>\n",
       "      <td>4995</td>\n",
       "      <td>2020-09-20 14:49:39.459459584</td>\n",
       "      <td>2020-01-01</td>\n",
       "      <td>2020-07-14 12:00:00</td>\n",
       "      <td>2020-10-18</td>\n",
       "      <td>2020-12-01</td>\n",
       "      <td>2021-01-29</td>\n",
       "    </tr>\n",
       "  </tbody>\n",
       "</table>\n",
       "</div>"
      ],
      "text/plain": [
       "                     count                          mean        min  \\\n",
       "cdc_case_earliest_dt  9223 2020-09-30 07:06:14.325056768 2020-01-01   \n",
       "cdc_report_dt         7573 2020-10-15 19:32:27.603327744 2020-01-01   \n",
       "pos_spec_dt           2749 2020-09-19 07:33:38.042924544 2020-03-12   \n",
       "onset_dt              4995 2020-09-20 14:49:39.459459584 2020-01-01   \n",
       "\n",
       "                                     25%        50%        75%        max  \n",
       "cdc_case_earliest_dt 2020-07-22 00:00:00 2020-11-01 2020-12-11 2021-01-16  \n",
       "cdc_report_dt        2020-08-14 00:00:00 2020-11-10 2020-12-20 2021-01-29  \n",
       "pos_spec_dt          2020-07-06 00:00:00 2020-10-20 2020-12-04 2021-01-26  \n",
       "onset_dt             2020-07-14 12:00:00 2020-10-18 2020-12-01 2021-01-29  "
      ]
     },
     "execution_count": 29,
     "metadata": {},
     "output_type": "execute_result"
    }
   ],
   "source": [
    "# Print table with descriptive statistics for all the categorical features\n",
    "continuousFeatureDesc = df[continuous_columns].describe(datetime_is_numeric=True).T\n",
    "continuousFeatureDesc.to_csv(\"data/continuousFeatureDescription.csv\")\n",
    "continuousFeatureDesc"
   ]
  },
  {
   "cell_type": "code",
   "execution_count": 30,
   "id": "e4990398",
   "metadata": {
    "scrolled": false
   },
   "outputs": [
    {
     "name": "stdout",
     "output_type": "stream",
     "text": [
      "cdc_case_earliest_dt\n",
      "----------\n",
      "\n",
      "Range cdc_case_earliest_dt is:  381 days 00:00:00\n",
      "----------\n",
      "Value  Number of Instances\n",
      "2020-12-14    99\n",
      "2021-01-04    91\n",
      "2020-12-28    89\n",
      "2020-12-03    88\n",
      "2020-12-17    83\n",
      "2020-12-07    82\n",
      "2020-12-29    82\n",
      "2020-12-09    81\n",
      "2020-12-22    79\n",
      "2020-11-09    78\n",
      "2020-12-04    76\n",
      "2021-01-06    75\n",
      "2020-12-30    75\n",
      "2020-12-02    74\n",
      "2020-12-15    74\n",
      "Name: cdc_case_earliest_dt, dtype: int64 \n",
      "\n",
      "\n",
      "\n",
      "cdc_report_dt\n",
      "----------\n",
      "\n",
      "Range cdc_report_dt is:  394 days 00:00:00\n",
      "----------\n",
      "Value  Number of Instances\n",
      "2020-06-10    137\n",
      "2020-12-14    109\n",
      "2021-01-27     94\n",
      "2020-12-29     84\n",
      "2021-01-21     68\n",
      "2020-11-09     68\n",
      "2020-11-25     67\n",
      "2020-12-17     67\n",
      "2020-11-24     66\n",
      "2021-01-12     62\n",
      "2021-01-22     62\n",
      "2020-12-04     61\n",
      "2021-01-19     61\n",
      "2020-11-10     60\n",
      "2021-01-23     59\n",
      "Name: cdc_report_dt, dtype: int64 \n",
      "\n",
      "\n",
      "\n",
      "pos_spec_dt\n",
      "----------\n",
      "\n",
      "Range pos_spec_dt is:  320 days 00:00:00\n",
      "----------\n",
      "Value  Number of Instances\n",
      "2020-12-14    31\n",
      "2021-01-04    31\n",
      "2020-12-17    31\n",
      "2021-01-05    30\n",
      "2020-12-28    30\n",
      "2020-11-20    29\n",
      "2020-12-15    26\n",
      "2020-11-24    26\n",
      "2020-11-30    25\n",
      "2020-12-30    24\n",
      "2020-11-02    24\n",
      "2020-11-16    24\n",
      "2020-12-29    23\n",
      "2020-11-10    23\n",
      "2020-12-01    23\n",
      "Name: pos_spec_dt, dtype: int64 \n",
      "\n",
      "\n",
      "\n",
      "onset_dt\n",
      "----------\n",
      "\n",
      "Range onset_dt is:  394 days 00:00:00\n",
      "----------\n",
      "Value  Number of Instances\n",
      "2020-12-03    48\n",
      "2020-12-01    46\n",
      "2020-11-11    46\n",
      "2020-12-07    43\n",
      "2020-11-02    43\n",
      "2020-11-16    43\n",
      "2020-11-09    42\n",
      "2020-12-11    42\n",
      "2020-12-28    41\n",
      "2020-12-14    39\n",
      "2020-11-10    38\n",
      "2021-01-04    38\n",
      "2020-12-09    38\n",
      "2020-12-26    36\n",
      "2020-12-02    35\n",
      "Name: onset_dt, dtype: int64 \n",
      "\n",
      "\n",
      "\n"
     ]
    }
   ],
   "source": [
    "# For each continuous feature, we display the range of values and the number of instances each of its values has.\n",
    "for feature in continuous_columns:\n",
    "    print(feature)\n",
    "    print(\"----------\\n\")\n",
    "    print(\"Range {} is: \".format(feature), (df[feature].max() - df[feature].min()))\n",
    "    print(\"----------\")\n",
    "    print('{0:.5}  {1}'.format(\"Value\", \"Number of Instances\"))\n",
    "    print(df[feature].value_counts().nlargest(15), \"\\n\\n\\n\")"
   ]
  },
  {
   "cell_type": "code",
   "execution_count": 31,
   "id": "6a510752",
   "metadata": {
    "scrolled": false
   },
   "outputs": [
    {
     "name": "stdout",
     "output_type": "stream",
     "text": [
      "\u001b[1mPercentage of null values for Continuous Features:\u001b[0m\n",
      "--------------------------------------------------\n",
      "cdc_case_earliest_dt     0.000000\n",
      "cdc_report_dt           17.890057\n",
      "pos_spec_dt             70.194080\n",
      "onset_dt                45.841917\n",
      "dtype: float64\n"
     ]
    }
   ],
   "source": [
    "# Check for null values in dates\n",
    "num_rows = df.shape[0]\n",
    "print_bold(\"Percentage of null values for Continuous Features:\")\n",
    "print(\"-\"*50)\n",
    "print(df[continuous_columns].isnull().sum() / num_rows * 100)"
   ]
  },
  {
   "cell_type": "markdown",
   "id": "af852dc5",
   "metadata": {},
   "source": [
    "> 17.9% of the values for *cdc_report_dt* are missing\n",
    "<br>According to the CDC the *cdc_report_dt* feature is:\n",
    "<br>\"Calculated date representing initial date case was reported to CDC. Depreciated; CDC recommends researchers use cdc_case_earliest_dt in time series and other time-based analyses.\" (CDC, 2021)\n",
    "<br>ref: (https://data.cdc.gov/Case-Surveillance/COVID-19-Case-Surveillance-Public-Use-Data/vbim-akqf)\n",
    "<br>Due to this I would remove this feature."
   ]
  },
  {
   "cell_type": "markdown",
   "id": "0940730a",
   "metadata": {},
   "source": [
    "> 70% of the values for *pos_spec_dt* are missing\n",
    "<br>This feature represents the 'Date of first positive specimen collection'.\n",
    "<br>I would drop this feature as I do not believe that this feature will be necessary in fututre analysis and it has a very high volume of missing values."
   ]
  },
  {
   "cell_type": "markdown",
   "id": "12ed2be8",
   "metadata": {},
   "source": [
    "> Nearly half the values are missing for *onset_dt*.  \n",
    "<br>This feature represents 'symptom onset date, *if symptomatic*', as this feature is conditional I am not worried about the missing values for this feature. This mean that over half of the cases appear not to be symptomatic"
   ]
  },
  {
   "cell_type": "code",
   "execution_count": 32,
   "id": "4c5815b1",
   "metadata": {},
   "outputs": [
    {
     "name": "stdout",
     "output_type": "stream",
     "text": [
      "Feature                              Cardinality\n",
      "-------                              ----------- \n",
      "\n",
      "cdc_case_earliest_dt                 323\n",
      "cdc_report_dt                        328\n",
      "pos_spec_dt                          315\n",
      "onset_dt                             325\n"
     ]
    }
   ],
   "source": [
    "# Display the cardinality of each continuous feature\n",
    "features_cardinality = list(df[continuous_columns].columns.values)\n",
    "\n",
    "print('{0:35}  {1}'.format(\"Feature\", \"Cardinality\"))\n",
    "print('{0:35}  {1}'.format(\"-------\", \"----------- \\n\"))\n",
    "\n",
    "for c in features_cardinality:\n",
    "    print('{0:35}  {1}'.format(c, (len(df[c].unique()))))"
   ]
  },
  {
   "cell_type": "markdown",
   "id": "15b6c0a2",
   "metadata": {},
   "source": [
    "### Prepare table with descriptive stats for all **categorical** features  "
   ]
  },
  {
   "cell_type": "code",
   "execution_count": 33,
   "id": "54100844",
   "metadata": {},
   "outputs": [
    {
     "data": {
      "text/html": [
       "<div>\n",
       "<style scoped>\n",
       "    .dataframe tbody tr th:only-of-type {\n",
       "        vertical-align: middle;\n",
       "    }\n",
       "\n",
       "    .dataframe tbody tr th {\n",
       "        vertical-align: top;\n",
       "    }\n",
       "\n",
       "    .dataframe thead th {\n",
       "        text-align: right;\n",
       "    }\n",
       "</style>\n",
       "<table border=\"1\" class=\"dataframe\">\n",
       "  <thead>\n",
       "    <tr style=\"text-align: right;\">\n",
       "      <th></th>\n",
       "      <th>count</th>\n",
       "      <th>unique</th>\n",
       "      <th>top</th>\n",
       "      <th>freq</th>\n",
       "    </tr>\n",
       "  </thead>\n",
       "  <tbody>\n",
       "    <tr>\n",
       "      <th>current_status</th>\n",
       "      <td>9223</td>\n",
       "      <td>2</td>\n",
       "      <td>Laboratory-confirmed case</td>\n",
       "      <td>8540</td>\n",
       "    </tr>\n",
       "    <tr>\n",
       "      <th>sex</th>\n",
       "      <td>9223</td>\n",
       "      <td>4</td>\n",
       "      <td>Female</td>\n",
       "      <td>4754</td>\n",
       "    </tr>\n",
       "    <tr>\n",
       "      <th>age_group</th>\n",
       "      <td>9223</td>\n",
       "      <td>10</td>\n",
       "      <td>20 - 29 Years</td>\n",
       "      <td>1705</td>\n",
       "    </tr>\n",
       "    <tr>\n",
       "      <th>race_ethnicity_combined</th>\n",
       "      <td>9223</td>\n",
       "      <td>9</td>\n",
       "      <td>White, Non-Hispanic</td>\n",
       "      <td>3379</td>\n",
       "    </tr>\n",
       "    <tr>\n",
       "      <th>hosp_yn</th>\n",
       "      <td>9223</td>\n",
       "      <td>4</td>\n",
       "      <td>No</td>\n",
       "      <td>5166</td>\n",
       "    </tr>\n",
       "    <tr>\n",
       "      <th>icu_yn</th>\n",
       "      <td>9223</td>\n",
       "      <td>4</td>\n",
       "      <td>Missing</td>\n",
       "      <td>6872</td>\n",
       "    </tr>\n",
       "    <tr>\n",
       "      <th>death_yn</th>\n",
       "      <td>9223</td>\n",
       "      <td>2</td>\n",
       "      <td>No</td>\n",
       "      <td>8897</td>\n",
       "    </tr>\n",
       "    <tr>\n",
       "      <th>medcond_yn</th>\n",
       "      <td>9223</td>\n",
       "      <td>4</td>\n",
       "      <td>Missing</td>\n",
       "      <td>6694</td>\n",
       "    </tr>\n",
       "  </tbody>\n",
       "</table>\n",
       "</div>"
      ],
      "text/plain": [
       "                        count unique                        top  freq\n",
       "current_status           9223      2  Laboratory-confirmed case  8540\n",
       "sex                      9223      4                     Female  4754\n",
       "age_group                9223     10              20 - 29 Years  1705\n",
       "race_ethnicity_combined  9223      9        White, Non-Hispanic  3379\n",
       "hosp_yn                  9223      4                         No  5166\n",
       "icu_yn                   9223      4                    Missing  6872\n",
       "death_yn                 9223      2                         No  8897\n",
       "medcond_yn               9223      4                    Missing  6694"
      ]
     },
     "execution_count": 33,
     "metadata": {},
     "output_type": "execute_result"
    }
   ],
   "source": [
    "# Print table with descriptive statistics for all the categorical features\n",
    "categoricalFeatureDesc = df[categorical_columns].describe().T\n",
    "categoricalFeatureDesc.to_csv(\"data/categoricalFeatureDescription.csv\")\n",
    "categoricalFeatureDesc"
   ]
  },
  {
   "cell_type": "code",
   "execution_count": 34,
   "id": "06b532c0",
   "metadata": {
    "scrolled": true
   },
   "outputs": [
    {
     "name": "stdout",
     "output_type": "stream",
     "text": [
      "\u001b[1mFrequency Table for current_status:\u001b[0m\n",
      "-----------------------------------\n",
      "Laboratory-confirmed case    92.5946\n",
      "Probable Case                 7.4054\n",
      "Name: current_status, dtype: float64\n",
      "\n",
      "\u001b[1mFrequency Table for sex:\u001b[0m\n",
      "------------------------\n",
      "Female     51.545050\n",
      "Male       47.392389\n",
      "Unknown     0.932451\n",
      "Missing     0.130110\n",
      "Name: sex, dtype: float64\n",
      "\n",
      "\u001b[1mFrequency Table for age_group:\u001b[0m\n",
      "------------------------------\n",
      "20 - 29 Years    18.486393\n",
      "30 - 39 Years    15.634826\n",
      "50 - 59 Years    14.995121\n",
      "40 - 49 Years    13.997615\n",
      "60 - 69 Years    10.788247\n",
      "10 - 19 Years     9.790741\n",
      "70 - 79 Years     6.592215\n",
      "80+ Years         4.998374\n",
      "0 - 9 Years       4.542990\n",
      "Missing           0.173479\n",
      "Name: age_group, dtype: float64\n",
      "\n",
      "\u001b[1mFrequency Table for race_ethnicity_combined:\u001b[0m\n",
      "--------------------------------------------\n",
      "White, Non-Hispanic                                     36.636669\n",
      "Unknown                                                 35.335574\n",
      "Hispanic/Latino                                         10.983411\n",
      "Black, Non-Hispanic                                      7.524667\n",
      "Multiple/Other, Non-Hispanic                             5.312805\n",
      "Asian, Non-Hispanic                                      2.428711\n",
      "Missing                                                  0.910767\n",
      "American Indian/Alaska Native, Non-Hispanic              0.607178\n",
      "Native Hawaiian/Other Pacific Islander, Non-Hispanic     0.260219\n",
      "Name: race_ethnicity_combined, dtype: float64\n",
      "\n",
      "\u001b[1mFrequency Table for hosp_yn:\u001b[0m\n",
      "----------------------------\n",
      "No         56.012144\n",
      "Missing    21.023528\n",
      "Unknown    15.938415\n",
      "Yes         7.025913\n",
      "Name: hosp_yn, dtype: float64\n",
      "\n",
      "\u001b[1mFrequency Table for icu_yn:\u001b[0m\n",
      "---------------------------\n",
      "Missing    74.509379\n",
      "Unknown    14.203621\n",
      "No         10.365391\n",
      "Yes         0.921609\n",
      "Name: icu_yn, dtype: float64\n",
      "\n",
      "\u001b[1mFrequency Table for death_yn:\u001b[0m\n",
      "-----------------------------\n",
      "No     96.465358\n",
      "Yes     3.534642\n",
      "Name: death_yn, dtype: float64\n",
      "\n",
      "\u001b[1mFrequency Table for medcond_yn:\u001b[0m\n",
      "-------------------------------\n",
      "Missing    72.579421\n",
      "No          9.899165\n",
      "Yes         9.584734\n",
      "Unknown     7.936680\n",
      "Name: medcond_yn, dtype: float64\n",
      "\n"
     ]
    }
   ],
   "source": [
    "# Frequency Tables for categorical features\n",
    "for feature in categorical_columns:\n",
    "    title = \"Frequency Table for \" + feature +\":\"\n",
    "    print_bold(title)\n",
    "    print(\"-\"*len(title))\n",
    "    print(df[feature].value_counts(normalize=True) * 100)\n",
    "    print()"
   ]
  },
  {
   "cell_type": "markdown",
   "id": "2c4fbdb8",
   "metadata": {},
   "source": [
    "***"
   ]
  },
  {
   "cell_type": "markdown",
   "id": "528f03f5",
   "metadata": {},
   "source": [
    "### Plot histograms for all **continuos** features  "
   ]
  },
  {
   "cell_type": "code",
   "execution_count": 35,
   "id": "0b1ab687",
   "metadata": {
    "scrolled": false
   },
   "outputs": [
    {
     "data": {
      "image/png": "[encoded data removed]",
      "text/plain": [
       "<Figure size 2160x2160 with 4 Axes>"
      ]
     },
     "metadata": {
      "needs_background": "light"
     },
     "output_type": "display_data"
    }
   ],
   "source": [
    "# Plot histograms for continuous features\n",
    "df[continuous_columns].hist(layout=(2, 2), figsize=(30,30), bins=12)\n",
    "plt.savefig('plots/continuous_histograms_1-1.pdf')"
   ]
  },
  {
   "cell_type": "markdown",
   "id": "bf87906b",
   "metadata": {},
   "source": [
    "### Plot box plots for all **continuous** features  "
   ]
  },
  {
   "cell_type": "markdown",
   "id": "c0ffb521",
   "metadata": {},
   "source": [
    "> As the only continuous features in this dataset are time series I do not feel it is necessary to create box plots for these features as I am not concerned about the central tendency of these features"
   ]
  },
  {
   "cell_type": "markdown",
   "id": "c5c78ae0",
   "metadata": {},
   "source": [
    "### Plot bar plots for all **categorical** features  "
   ]
  },
  {
   "cell_type": "code",
   "execution_count": 36,
   "id": "93d05e8f",
   "metadata": {},
   "outputs": [
    {
     "data": {
      "image/png": "[encoded data removed]",
      "text/plain": [
       "<Figure size 864x720 with 1 Axes>"
      ]
     },
     "metadata": {
      "needs_background": "light"
     },
     "output_type": "display_data"
    },
    {
     "data": {
      "image/png": "[encoded data removed]",
      "text/plain": [
       "<Figure size 864x720 with 1 Axes>"
      ]
     },
     "metadata": {
      "needs_background": "light"
     },
     "output_type": "display_data"
    },
    {
     "data": {
      "image/png": "[encoded data removed]",
      "text/plain": [
       "<Figure size 864x720 with 1 Axes>"
      ]
     },
     "metadata": {
      "needs_background": "light"
     },
     "output_type": "display_data"
    },
    {
     "data": {
      "image/png": "[encoded data removed]",
      "text/plain": [
       "<Figure size 864x720 with 1 Axes>"
      ]
     },
     "metadata": {
      "needs_background": "light"
     },
     "output_type": "display_data"
    },
    {
     "data": {
      "image/png": "[encoded data removed]",
      "text/plain": [
       "<Figure size 864x720 with 1 Axes>"
      ]
     },
     "metadata": {
      "needs_background": "light"
     },
     "output_type": "display_data"
    },
    {
     "data": {
      "image/png": "[encoded data removed]",
      "text/plain": [
       "<Figure size 864x720 with 1 Axes>"
      ]
     },
     "metadata": {
      "needs_background": "light"
     },
     "output_type": "display_data"
    },
    {
     "data": {
      "image/png": "[encoded data removed]",
      "text/plain": [
       "<Figure size 864x720 with 1 Axes>"
      ]
     },
     "metadata": {
      "needs_background": "light"
     },
     "output_type": "display_data"
    },
    {
     "data": {
      "image/png": "[encoded data removed]",
      "text/plain": [
       "<Figure size 864x720 with 1 Axes>"
      ]
     },
     "metadata": {
      "needs_background": "light"
     },
     "output_type": "display_data"
    }
   ],
   "source": [
    "# Plot bar plots for categorical features\n",
    "with PdfPages('plots/categorical_barplots_1-1.pdf') as pp:\n",
    "    for col in categorical_columns:\n",
    "        f = df[col].value_counts().plot(kind='bar', figsize=(12,10))\n",
    "        plt.title(col)\n",
    "        plt.ylabel('number of cases')\n",
    "        pp.savefig(f.get_figure())\n",
    "        plt.show()"
   ]
  },
  {
   "cell_type": "markdown",
   "id": "d86a0867",
   "metadata": {},
   "source": [
    "### Check Logical Integrity of Data"
   ]
  },
  {
   "cell_type": "markdown",
   "id": "5fce1f7f",
   "metadata": {},
   "source": [
    "##### Test 1: Check that cdc_case_earliest_dt < onset_dt"
   ]
  },
  {
   "cell_type": "code",
   "execution_count": 37,
   "id": "38c5de67",
   "metadata": {
    "scrolled": true
   },
   "outputs": [
    {
     "name": "stdout",
     "output_type": "stream",
     "text": [
      "Number of rows failing the test: 1\n"
     ]
    },
    {
     "data": {
      "text/html": [
       "<div>\n",
       "<style scoped>\n",
       "    .dataframe tbody tr th:only-of-type {\n",
       "        vertical-align: middle;\n",
       "    }\n",
       "\n",
       "    .dataframe tbody tr th {\n",
       "        vertical-align: top;\n",
       "    }\n",
       "\n",
       "    .dataframe thead th {\n",
       "        text-align: right;\n",
       "    }\n",
       "</style>\n",
       "<table border=\"1\" class=\"dataframe\">\n",
       "  <thead>\n",
       "    <tr style=\"text-align: right;\">\n",
       "      <th></th>\n",
       "      <th>cdc_case_earliest_dt</th>\n",
       "      <th>onset_dt</th>\n",
       "    </tr>\n",
       "  </thead>\n",
       "  <tbody>\n",
       "    <tr>\n",
       "      <th>8054</th>\n",
       "      <td>2020-01-22</td>\n",
       "      <td>2020-01-05</td>\n",
       "    </tr>\n",
       "  </tbody>\n",
       "</table>\n",
       "</div>"
      ],
      "text/plain": [
       "     cdc_case_earliest_dt   onset_dt\n",
       "8054           2020-01-22 2020-01-05"
      ]
     },
     "execution_count": 37,
     "metadata": {},
     "output_type": "execute_result"
    }
   ],
   "source": [
    "test_1 = df[['cdc_case_earliest_dt','onset_dt']][df['cdc_case_earliest_dt']>df['onset_dt']]\n",
    "print(f\"Number of rows failing the test: {test_1.shape[0]}\")\n",
    "test_1"
   ]
  },
  {
   "cell_type": "code",
   "execution_count": 38,
   "id": "c9502ec4",
   "metadata": {
    "scrolled": true
   },
   "outputs": [
    {
     "data": {
      "text/html": [
       "<div>\n",
       "<style scoped>\n",
       "    .dataframe tbody tr th:only-of-type {\n",
       "        vertical-align: middle;\n",
       "    }\n",
       "\n",
       "    .dataframe tbody tr th {\n",
       "        vertical-align: top;\n",
       "    }\n",
       "\n",
       "    .dataframe thead th {\n",
       "        text-align: right;\n",
       "    }\n",
       "</style>\n",
       "<table border=\"1\" class=\"dataframe\">\n",
       "  <thead>\n",
       "    <tr style=\"text-align: right;\">\n",
       "      <th></th>\n",
       "      <th>cdc_case_earliest_dt</th>\n",
       "      <th>cdc_report_dt</th>\n",
       "      <th>pos_spec_dt</th>\n",
       "      <th>onset_dt</th>\n",
       "      <th>current_status</th>\n",
       "      <th>sex</th>\n",
       "      <th>age_group</th>\n",
       "      <th>race_ethnicity_combined</th>\n",
       "      <th>hosp_yn</th>\n",
       "      <th>icu_yn</th>\n",
       "      <th>death_yn</th>\n",
       "      <th>medcond_yn</th>\n",
       "    </tr>\n",
       "  </thead>\n",
       "  <tbody>\n",
       "    <tr>\n",
       "      <th>8054</th>\n",
       "      <td>2020-01-22</td>\n",
       "      <td>2020-01-05</td>\n",
       "      <td>2020-12-28</td>\n",
       "      <td>2020-01-05</td>\n",
       "      <td>Laboratory-confirmed case</td>\n",
       "      <td>Male</td>\n",
       "      <td>0 - 9 Years</td>\n",
       "      <td>White, Non-Hispanic</td>\n",
       "      <td>No</td>\n",
       "      <td>Unknown</td>\n",
       "      <td>No</td>\n",
       "      <td>No</td>\n",
       "    </tr>\n",
       "  </tbody>\n",
       "</table>\n",
       "</div>"
      ],
      "text/plain": [
       "     cdc_case_earliest_dt cdc_report_dt pos_spec_dt   onset_dt  \\\n",
       "8054           2020-01-22    2020-01-05  2020-12-28 2020-01-05   \n",
       "\n",
       "                 current_status   sex    age_group race_ethnicity_combined  \\\n",
       "8054  Laboratory-confirmed case  Male  0 - 9 Years     White, Non-Hispanic   \n",
       "\n",
       "     hosp_yn   icu_yn death_yn medcond_yn  \n",
       "8054      No  Unknown       No         No  "
      ]
     },
     "execution_count": 38,
     "metadata": {},
     "output_type": "execute_result"
    }
   ],
   "source": [
    "df.loc[[8054]]"
   ]
  },
  {
   "cell_type": "markdown",
   "id": "5586cd1d",
   "metadata": {},
   "source": [
    "##### Test 2: Check if any entries were admitted to ICU but not Hospitalised"
   ]
  },
  {
   "cell_type": "code",
   "execution_count": 39,
   "id": "e21998d5",
   "metadata": {
    "scrolled": false
   },
   "outputs": [
    {
     "name": "stdout",
     "output_type": "stream",
     "text": [
      "Number of rows failing the test: 0\n"
     ]
    },
    {
     "name": "stderr",
     "output_type": "stream",
     "text": [
      "<ipython-input-39-80bcd06e6d7e>:1: UserWarning: Boolean Series key will be reindexed to match DataFrame index.\n",
      "  test_2 = df[['hosp_yn','icu_yn']][df['hosp_yn']==\"No\"][df['icu_yn']=='Yes']\n"
     ]
    },
    {
     "data": {
      "text/html": [
       "<div>\n",
       "<style scoped>\n",
       "    .dataframe tbody tr th:only-of-type {\n",
       "        vertical-align: middle;\n",
       "    }\n",
       "\n",
       "    .dataframe tbody tr th {\n",
       "        vertical-align: top;\n",
       "    }\n",
       "\n",
       "    .dataframe thead th {\n",
       "        text-align: right;\n",
       "    }\n",
       "</style>\n",
       "<table border=\"1\" class=\"dataframe\">\n",
       "  <thead>\n",
       "    <tr style=\"text-align: right;\">\n",
       "      <th></th>\n",
       "      <th>hosp_yn</th>\n",
       "      <th>icu_yn</th>\n",
       "    </tr>\n",
       "  </thead>\n",
       "  <tbody>\n",
       "  </tbody>\n",
       "</table>\n",
       "</div>"
      ],
      "text/plain": [
       "Empty DataFrame\n",
       "Columns: [hosp_yn, icu_yn]\n",
       "Index: []"
      ]
     },
     "execution_count": 39,
     "metadata": {},
     "output_type": "execute_result"
    }
   ],
   "source": [
    "test_2 = df[['hosp_yn','icu_yn']][df['hosp_yn']==\"No\"][df['icu_yn']=='Yes']\n",
    "print(f\"Number of rows failing the test: {test_2.shape[0]}\")\n",
    "test_2"
   ]
  },
  {
   "cell_type": "markdown",
   "id": "3a65f0c3",
   "metadata": {},
   "source": [
    "##### Test 3: Check if any entries were a Probable Case and resulted in death"
   ]
  },
  {
   "cell_type": "code",
   "execution_count": 40,
   "id": "99111c53",
   "metadata": {},
   "outputs": [
    {
     "name": "stdout",
     "output_type": "stream",
     "text": [
      "Number of rows failing the test: 26\n"
     ]
    },
    {
     "name": "stderr",
     "output_type": "stream",
     "text": [
      "<ipython-input-40-5e2e4b6009cc>:1: UserWarning: Boolean Series key will be reindexed to match DataFrame index.\n",
      "  test_3 = df[['cdc_case_earliest_dt', 'onset_dt',\n"
     ]
    },
    {
     "data": {
      "text/html": [
       "<div>\n",
       "<style scoped>\n",
       "    .dataframe tbody tr th:only-of-type {\n",
       "        vertical-align: middle;\n",
       "    }\n",
       "\n",
       "    .dataframe tbody tr th {\n",
       "        vertical-align: top;\n",
       "    }\n",
       "\n",
       "    .dataframe thead th {\n",
       "        text-align: right;\n",
       "    }\n",
       "</style>\n",
       "<table border=\"1\" class=\"dataframe\">\n",
       "  <thead>\n",
       "    <tr style=\"text-align: right;\">\n",
       "      <th></th>\n",
       "      <th>cdc_case_earliest_dt</th>\n",
       "      <th>onset_dt</th>\n",
       "      <th>current_status</th>\n",
       "      <th>sex</th>\n",
       "      <th>age_group</th>\n",
       "      <th>race_ethnicity_combined</th>\n",
       "      <th>hosp_yn</th>\n",
       "      <th>icu_yn</th>\n",
       "      <th>death_yn</th>\n",
       "      <th>medcond_yn</th>\n",
       "    </tr>\n",
       "  </thead>\n",
       "  <tbody>\n",
       "    <tr>\n",
       "      <th>981</th>\n",
       "      <td>2020-11-24</td>\n",
       "      <td>NaT</td>\n",
       "      <td>Probable Case</td>\n",
       "      <td>Male</td>\n",
       "      <td>60 - 69 Years</td>\n",
       "      <td>Black, Non-Hispanic</td>\n",
       "      <td>No</td>\n",
       "      <td>Missing</td>\n",
       "      <td>Yes</td>\n",
       "      <td>Yes</td>\n",
       "    </tr>\n",
       "    <tr>\n",
       "      <th>1327</th>\n",
       "      <td>2020-05-24</td>\n",
       "      <td>NaT</td>\n",
       "      <td>Probable Case</td>\n",
       "      <td>Male</td>\n",
       "      <td>50 - 59 Years</td>\n",
       "      <td>Unknown</td>\n",
       "      <td>Missing</td>\n",
       "      <td>Missing</td>\n",
       "      <td>Yes</td>\n",
       "      <td>Unknown</td>\n",
       "    </tr>\n",
       "    <tr>\n",
       "      <th>2017</th>\n",
       "      <td>2020-12-26</td>\n",
       "      <td>2020-12-26</td>\n",
       "      <td>Probable Case</td>\n",
       "      <td>Male</td>\n",
       "      <td>40 - 49 Years</td>\n",
       "      <td>White, Non-Hispanic</td>\n",
       "      <td>Missing</td>\n",
       "      <td>Missing</td>\n",
       "      <td>Yes</td>\n",
       "      <td>Missing</td>\n",
       "    </tr>\n",
       "    <tr>\n",
       "      <th>2197</th>\n",
       "      <td>2020-11-11</td>\n",
       "      <td>NaT</td>\n",
       "      <td>Probable Case</td>\n",
       "      <td>Female</td>\n",
       "      <td>60 - 69 Years</td>\n",
       "      <td>White, Non-Hispanic</td>\n",
       "      <td>Yes</td>\n",
       "      <td>Unknown</td>\n",
       "      <td>Yes</td>\n",
       "      <td>Missing</td>\n",
       "    </tr>\n",
       "    <tr>\n",
       "      <th>2296</th>\n",
       "      <td>2020-12-03</td>\n",
       "      <td>2020-12-03</td>\n",
       "      <td>Probable Case</td>\n",
       "      <td>Female</td>\n",
       "      <td>70 - 79 Years</td>\n",
       "      <td>Unknown</td>\n",
       "      <td>No</td>\n",
       "      <td>No</td>\n",
       "      <td>Yes</td>\n",
       "      <td>Yes</td>\n",
       "    </tr>\n",
       "    <tr>\n",
       "      <th>2363</th>\n",
       "      <td>2020-12-26</td>\n",
       "      <td>2020-12-26</td>\n",
       "      <td>Probable Case</td>\n",
       "      <td>Male</td>\n",
       "      <td>80+ Years</td>\n",
       "      <td>White, Non-Hispanic</td>\n",
       "      <td>Missing</td>\n",
       "      <td>Missing</td>\n",
       "      <td>Yes</td>\n",
       "      <td>Missing</td>\n",
       "    </tr>\n",
       "    <tr>\n",
       "      <th>2496</th>\n",
       "      <td>2020-12-14</td>\n",
       "      <td>NaT</td>\n",
       "      <td>Probable Case</td>\n",
       "      <td>Male</td>\n",
       "      <td>70 - 79 Years</td>\n",
       "      <td>Asian, Non-Hispanic</td>\n",
       "      <td>Missing</td>\n",
       "      <td>Missing</td>\n",
       "      <td>Yes</td>\n",
       "      <td>Missing</td>\n",
       "    </tr>\n",
       "    <tr>\n",
       "      <th>2706</th>\n",
       "      <td>2020-05-16</td>\n",
       "      <td>NaT</td>\n",
       "      <td>Probable Case</td>\n",
       "      <td>Male</td>\n",
       "      <td>50 - 59 Years</td>\n",
       "      <td>Asian, Non-Hispanic</td>\n",
       "      <td>Missing</td>\n",
       "      <td>Missing</td>\n",
       "      <td>Yes</td>\n",
       "      <td>Yes</td>\n",
       "    </tr>\n",
       "    <tr>\n",
       "      <th>3076</th>\n",
       "      <td>2020-04-11</td>\n",
       "      <td>NaT</td>\n",
       "      <td>Probable Case</td>\n",
       "      <td>Female</td>\n",
       "      <td>80+ Years</td>\n",
       "      <td>White, Non-Hispanic</td>\n",
       "      <td>Unknown</td>\n",
       "      <td>Unknown</td>\n",
       "      <td>Yes</td>\n",
       "      <td>Yes</td>\n",
       "    </tr>\n",
       "    <tr>\n",
       "      <th>3331</th>\n",
       "      <td>2020-09-02</td>\n",
       "      <td>NaT</td>\n",
       "      <td>Probable Case</td>\n",
       "      <td>Male</td>\n",
       "      <td>40 - 49 Years</td>\n",
       "      <td>Unknown</td>\n",
       "      <td>Yes</td>\n",
       "      <td>Missing</td>\n",
       "      <td>Yes</td>\n",
       "      <td>Missing</td>\n",
       "    </tr>\n",
       "    <tr>\n",
       "      <th>3778</th>\n",
       "      <td>2020-04-26</td>\n",
       "      <td>NaT</td>\n",
       "      <td>Probable Case</td>\n",
       "      <td>Female</td>\n",
       "      <td>80+ Years</td>\n",
       "      <td>White, Non-Hispanic</td>\n",
       "      <td>Missing</td>\n",
       "      <td>Missing</td>\n",
       "      <td>Yes</td>\n",
       "      <td>Missing</td>\n",
       "    </tr>\n",
       "    <tr>\n",
       "      <th>4631</th>\n",
       "      <td>2020-12-21</td>\n",
       "      <td>NaT</td>\n",
       "      <td>Probable Case</td>\n",
       "      <td>Male</td>\n",
       "      <td>70 - 79 Years</td>\n",
       "      <td>White, Non-Hispanic</td>\n",
       "      <td>Missing</td>\n",
       "      <td>Missing</td>\n",
       "      <td>Yes</td>\n",
       "      <td>Missing</td>\n",
       "    </tr>\n",
       "    <tr>\n",
       "      <th>4698</th>\n",
       "      <td>2020-05-01</td>\n",
       "      <td>NaT</td>\n",
       "      <td>Probable Case</td>\n",
       "      <td>Male</td>\n",
       "      <td>70 - 79 Years</td>\n",
       "      <td>Black, Non-Hispanic</td>\n",
       "      <td>Yes</td>\n",
       "      <td>Missing</td>\n",
       "      <td>Yes</td>\n",
       "      <td>Missing</td>\n",
       "    </tr>\n",
       "    <tr>\n",
       "      <th>6658</th>\n",
       "      <td>2020-11-25</td>\n",
       "      <td>NaT</td>\n",
       "      <td>Probable Case</td>\n",
       "      <td>Female</td>\n",
       "      <td>60 - 69 Years</td>\n",
       "      <td>White, Non-Hispanic</td>\n",
       "      <td>Yes</td>\n",
       "      <td>Missing</td>\n",
       "      <td>Yes</td>\n",
       "      <td>Missing</td>\n",
       "    </tr>\n",
       "    <tr>\n",
       "      <th>6782</th>\n",
       "      <td>2020-10-17</td>\n",
       "      <td>NaT</td>\n",
       "      <td>Probable Case</td>\n",
       "      <td>Male</td>\n",
       "      <td>60 - 69 Years</td>\n",
       "      <td>Unknown</td>\n",
       "      <td>Missing</td>\n",
       "      <td>Missing</td>\n",
       "      <td>Yes</td>\n",
       "      <td>Missing</td>\n",
       "    </tr>\n",
       "    <tr>\n",
       "      <th>7092</th>\n",
       "      <td>2021-01-12</td>\n",
       "      <td>NaT</td>\n",
       "      <td>Probable Case</td>\n",
       "      <td>Female</td>\n",
       "      <td>80+ Years</td>\n",
       "      <td>White, Non-Hispanic</td>\n",
       "      <td>Missing</td>\n",
       "      <td>Missing</td>\n",
       "      <td>Yes</td>\n",
       "      <td>Missing</td>\n",
       "    </tr>\n",
       "    <tr>\n",
       "      <th>7701</th>\n",
       "      <td>2020-04-01</td>\n",
       "      <td>NaT</td>\n",
       "      <td>Probable Case</td>\n",
       "      <td>Female</td>\n",
       "      <td>70 - 79 Years</td>\n",
       "      <td>White, Non-Hispanic</td>\n",
       "      <td>Missing</td>\n",
       "      <td>Missing</td>\n",
       "      <td>Yes</td>\n",
       "      <td>Missing</td>\n",
       "    </tr>\n",
       "    <tr>\n",
       "      <th>7770</th>\n",
       "      <td>2020-04-28</td>\n",
       "      <td>NaT</td>\n",
       "      <td>Probable Case</td>\n",
       "      <td>Male</td>\n",
       "      <td>60 - 69 Years</td>\n",
       "      <td>Black, Non-Hispanic</td>\n",
       "      <td>Unknown</td>\n",
       "      <td>Unknown</td>\n",
       "      <td>Yes</td>\n",
       "      <td>Unknown</td>\n",
       "    </tr>\n",
       "    <tr>\n",
       "      <th>7953</th>\n",
       "      <td>2020-10-26</td>\n",
       "      <td>2020-10-26</td>\n",
       "      <td>Probable Case</td>\n",
       "      <td>Female</td>\n",
       "      <td>80+ Years</td>\n",
       "      <td>White, Non-Hispanic</td>\n",
       "      <td>No</td>\n",
       "      <td>Missing</td>\n",
       "      <td>Yes</td>\n",
       "      <td>Missing</td>\n",
       "    </tr>\n",
       "    <tr>\n",
       "      <th>8583</th>\n",
       "      <td>2020-04-08</td>\n",
       "      <td>NaT</td>\n",
       "      <td>Probable Case</td>\n",
       "      <td>Male</td>\n",
       "      <td>80+ Years</td>\n",
       "      <td>Black, Non-Hispanic</td>\n",
       "      <td>Unknown</td>\n",
       "      <td>Unknown</td>\n",
       "      <td>Yes</td>\n",
       "      <td>Yes</td>\n",
       "    </tr>\n",
       "    <tr>\n",
       "      <th>8688</th>\n",
       "      <td>2020-12-05</td>\n",
       "      <td>NaT</td>\n",
       "      <td>Probable Case</td>\n",
       "      <td>Female</td>\n",
       "      <td>80+ Years</td>\n",
       "      <td>White, Non-Hispanic</td>\n",
       "      <td>No</td>\n",
       "      <td>Missing</td>\n",
       "      <td>Yes</td>\n",
       "      <td>Missing</td>\n",
       "    </tr>\n",
       "    <tr>\n",
       "      <th>8887</th>\n",
       "      <td>2020-12-27</td>\n",
       "      <td>2020-12-27</td>\n",
       "      <td>Probable Case</td>\n",
       "      <td>Male</td>\n",
       "      <td>70 - 79 Years</td>\n",
       "      <td>Unknown</td>\n",
       "      <td>Yes</td>\n",
       "      <td>Missing</td>\n",
       "      <td>Yes</td>\n",
       "      <td>Missing</td>\n",
       "    </tr>\n",
       "    <tr>\n",
       "      <th>9222</th>\n",
       "      <td>2020-10-05</td>\n",
       "      <td>NaT</td>\n",
       "      <td>Probable Case</td>\n",
       "      <td>Male</td>\n",
       "      <td>70 - 79 Years</td>\n",
       "      <td>Black, Non-Hispanic</td>\n",
       "      <td>Yes</td>\n",
       "      <td>Missing</td>\n",
       "      <td>Yes</td>\n",
       "      <td>Missing</td>\n",
       "    </tr>\n",
       "    <tr>\n",
       "      <th>9632</th>\n",
       "      <td>2020-04-13</td>\n",
       "      <td>2020-04-13</td>\n",
       "      <td>Probable Case</td>\n",
       "      <td>Male</td>\n",
       "      <td>50 - 59 Years</td>\n",
       "      <td>White, Non-Hispanic</td>\n",
       "      <td>Unknown</td>\n",
       "      <td>Unknown</td>\n",
       "      <td>Yes</td>\n",
       "      <td>Yes</td>\n",
       "    </tr>\n",
       "    <tr>\n",
       "      <th>9760</th>\n",
       "      <td>2020-11-25</td>\n",
       "      <td>NaT</td>\n",
       "      <td>Probable Case</td>\n",
       "      <td>Female</td>\n",
       "      <td>80+ Years</td>\n",
       "      <td>White, Non-Hispanic</td>\n",
       "      <td>Missing</td>\n",
       "      <td>Missing</td>\n",
       "      <td>Yes</td>\n",
       "      <td>Missing</td>\n",
       "    </tr>\n",
       "    <tr>\n",
       "      <th>9793</th>\n",
       "      <td>2020-04-15</td>\n",
       "      <td>NaT</td>\n",
       "      <td>Probable Case</td>\n",
       "      <td>Male</td>\n",
       "      <td>80+ Years</td>\n",
       "      <td>White, Non-Hispanic</td>\n",
       "      <td>Unknown</td>\n",
       "      <td>Unknown</td>\n",
       "      <td>Yes</td>\n",
       "      <td>Unknown</td>\n",
       "    </tr>\n",
       "  </tbody>\n",
       "</table>\n",
       "</div>"
      ],
      "text/plain": [
       "     cdc_case_earliest_dt   onset_dt current_status     sex      age_group  \\\n",
       "981            2020-11-24        NaT  Probable Case    Male  60 - 69 Years   \n",
       "1327           2020-05-24        NaT  Probable Case    Male  50 - 59 Years   \n",
       "2017           2020-12-26 2020-12-26  Probable Case    Male  40 - 49 Years   \n",
       "2197           2020-11-11        NaT  Probable Case  Female  60 - 69 Years   \n",
       "2296           2020-12-03 2020-12-03  Probable Case  Female  70 - 79 Years   \n",
       "2363           2020-12-26 2020-12-26  Probable Case    Male      80+ Years   \n",
       "2496           2020-12-14        NaT  Probable Case    Male  70 - 79 Years   \n",
       "2706           2020-05-16        NaT  Probable Case    Male  50 - 59 Years   \n",
       "3076           2020-04-11        NaT  Probable Case  Female      80+ Years   \n",
       "3331           2020-09-02        NaT  Probable Case    Male  40 - 49 Years   \n",
       "3778           2020-04-26        NaT  Probable Case  Female      80+ Years   \n",
       "4631           2020-12-21        NaT  Probable Case    Male  70 - 79 Years   \n",
       "4698           2020-05-01        NaT  Probable Case    Male  70 - 79 Years   \n",
       "6658           2020-11-25        NaT  Probable Case  Female  60 - 69 Years   \n",
       "6782           2020-10-17        NaT  Probable Case    Male  60 - 69 Years   \n",
       "7092           2021-01-12        NaT  Probable Case  Female      80+ Years   \n",
       "7701           2020-04-01        NaT  Probable Case  Female  70 - 79 Years   \n",
       "7770           2020-04-28        NaT  Probable Case    Male  60 - 69 Years   \n",
       "7953           2020-10-26 2020-10-26  Probable Case  Female      80+ Years   \n",
       "8583           2020-04-08        NaT  Probable Case    Male      80+ Years   \n",
       "8688           2020-12-05        NaT  Probable Case  Female      80+ Years   \n",
       "8887           2020-12-27 2020-12-27  Probable Case    Male  70 - 79 Years   \n",
       "9222           2020-10-05        NaT  Probable Case    Male  70 - 79 Years   \n",
       "9632           2020-04-13 2020-04-13  Probable Case    Male  50 - 59 Years   \n",
       "9760           2020-11-25        NaT  Probable Case  Female      80+ Years   \n",
       "9793           2020-04-15        NaT  Probable Case    Male      80+ Years   \n",
       "\n",
       "     race_ethnicity_combined  hosp_yn   icu_yn death_yn medcond_yn  \n",
       "981      Black, Non-Hispanic       No  Missing      Yes        Yes  \n",
       "1327                 Unknown  Missing  Missing      Yes    Unknown  \n",
       "2017     White, Non-Hispanic  Missing  Missing      Yes    Missing  \n",
       "2197     White, Non-Hispanic      Yes  Unknown      Yes    Missing  \n",
       "2296                 Unknown       No       No      Yes        Yes  \n",
       "2363     White, Non-Hispanic  Missing  Missing      Yes    Missing  \n",
       "2496     Asian, Non-Hispanic  Missing  Missing      Yes    Missing  \n",
       "2706     Asian, Non-Hispanic  Missing  Missing      Yes        Yes  \n",
       "3076     White, Non-Hispanic  Unknown  Unknown      Yes        Yes  \n",
       "3331                 Unknown      Yes  Missing      Yes    Missing  \n",
       "3778     White, Non-Hispanic  Missing  Missing      Yes    Missing  \n",
       "4631     White, Non-Hispanic  Missing  Missing      Yes    Missing  \n",
       "4698     Black, Non-Hispanic      Yes  Missing      Yes    Missing  \n",
       "6658     White, Non-Hispanic      Yes  Missing      Yes    Missing  \n",
       "6782                 Unknown  Missing  Missing      Yes    Missing  \n",
       "7092     White, Non-Hispanic  Missing  Missing      Yes    Missing  \n",
       "7701     White, Non-Hispanic  Missing  Missing      Yes    Missing  \n",
       "7770     Black, Non-Hispanic  Unknown  Unknown      Yes    Unknown  \n",
       "7953     White, Non-Hispanic       No  Missing      Yes    Missing  \n",
       "8583     Black, Non-Hispanic  Unknown  Unknown      Yes        Yes  \n",
       "8688     White, Non-Hispanic       No  Missing      Yes    Missing  \n",
       "8887                 Unknown      Yes  Missing      Yes    Missing  \n",
       "9222     Black, Non-Hispanic      Yes  Missing      Yes    Missing  \n",
       "9632     White, Non-Hispanic  Unknown  Unknown      Yes        Yes  \n",
       "9760     White, Non-Hispanic  Missing  Missing      Yes    Missing  \n",
       "9793     White, Non-Hispanic  Unknown  Unknown      Yes    Unknown  "
      ]
     },
     "execution_count": 40,
     "metadata": {},
     "output_type": "execute_result"
    }
   ],
   "source": [
    "test_3 = df[['cdc_case_earliest_dt', 'onset_dt',\n",
    "       'current_status', 'sex', 'age_group', 'race_ethnicity_combined',\n",
    "       'hosp_yn', 'icu_yn', 'death_yn', 'medcond_yn']][df['current_status']==\"Probable Case\"][df['death_yn']==\"Yes\"]\n",
    "print(f\"Number of rows failing the test: {test_3.shape[0]}\")\n",
    "test_3"
   ]
  },
  {
   "cell_type": "markdown",
   "id": "cbe18918",
   "metadata": {},
   "source": [
    "##### Test 4: Check if an entries showed symptoms more than 14 days after case date"
   ]
  },
  {
   "cell_type": "code",
   "execution_count": 41,
   "id": "75003eca",
   "metadata": {},
   "outputs": [
    {
     "name": "stdout",
     "output_type": "stream",
     "text": [
      "Number of rows failing the test: 25\n"
     ]
    },
    {
     "data": {
      "text/html": [
       "<div>\n",
       "<style scoped>\n",
       "    .dataframe tbody tr th:only-of-type {\n",
       "        vertical-align: middle;\n",
       "    }\n",
       "\n",
       "    .dataframe tbody tr th {\n",
       "        vertical-align: top;\n",
       "    }\n",
       "\n",
       "    .dataframe thead th {\n",
       "        text-align: right;\n",
       "    }\n",
       "</style>\n",
       "<table border=\"1\" class=\"dataframe\">\n",
       "  <thead>\n",
       "    <tr style=\"text-align: right;\">\n",
       "      <th></th>\n",
       "      <th>cdc_case_earliest_dt</th>\n",
       "      <th>onset_dt</th>\n",
       "    </tr>\n",
       "  </thead>\n",
       "  <tbody>\n",
       "    <tr>\n",
       "      <th>46</th>\n",
       "      <td>2020-04-12</td>\n",
       "      <td>2020-11-25</td>\n",
       "    </tr>\n",
       "    <tr>\n",
       "      <th>63</th>\n",
       "      <td>2020-04-25</td>\n",
       "      <td>2020-07-27</td>\n",
       "    </tr>\n",
       "    <tr>\n",
       "      <th>248</th>\n",
       "      <td>2020-04-29</td>\n",
       "      <td>2020-05-20</td>\n",
       "    </tr>\n",
       "    <tr>\n",
       "      <th>383</th>\n",
       "      <td>2020-04-05</td>\n",
       "      <td>2020-09-02</td>\n",
       "    </tr>\n",
       "    <tr>\n",
       "      <th>2480</th>\n",
       "      <td>2020-05-23</td>\n",
       "      <td>2020-06-19</td>\n",
       "    </tr>\n",
       "    <tr>\n",
       "      <th>2501</th>\n",
       "      <td>2020-07-10</td>\n",
       "      <td>2020-09-30</td>\n",
       "    </tr>\n",
       "    <tr>\n",
       "      <th>3368</th>\n",
       "      <td>2020-06-26</td>\n",
       "      <td>2020-07-15</td>\n",
       "    </tr>\n",
       "    <tr>\n",
       "      <th>3405</th>\n",
       "      <td>2020-11-16</td>\n",
       "      <td>2020-12-01</td>\n",
       "    </tr>\n",
       "    <tr>\n",
       "      <th>3971</th>\n",
       "      <td>2021-01-04</td>\n",
       "      <td>2021-01-29</td>\n",
       "    </tr>\n",
       "    <tr>\n",
       "      <th>4599</th>\n",
       "      <td>2020-05-18</td>\n",
       "      <td>2020-07-21</td>\n",
       "    </tr>\n",
       "    <tr>\n",
       "      <th>4787</th>\n",
       "      <td>2020-06-01</td>\n",
       "      <td>2020-06-24</td>\n",
       "    </tr>\n",
       "    <tr>\n",
       "      <th>4961</th>\n",
       "      <td>2020-06-29</td>\n",
       "      <td>2020-11-15</td>\n",
       "    </tr>\n",
       "    <tr>\n",
       "      <th>5324</th>\n",
       "      <td>2020-05-18</td>\n",
       "      <td>2020-06-18</td>\n",
       "    </tr>\n",
       "    <tr>\n",
       "      <th>5418</th>\n",
       "      <td>2020-10-29</td>\n",
       "      <td>2020-11-17</td>\n",
       "    </tr>\n",
       "    <tr>\n",
       "      <th>6164</th>\n",
       "      <td>2020-03-23</td>\n",
       "      <td>2020-06-28</td>\n",
       "    </tr>\n",
       "    <tr>\n",
       "      <th>6285</th>\n",
       "      <td>2020-05-12</td>\n",
       "      <td>2020-09-25</td>\n",
       "    </tr>\n",
       "    <tr>\n",
       "      <th>6339</th>\n",
       "      <td>2020-03-18</td>\n",
       "      <td>2020-04-15</td>\n",
       "    </tr>\n",
       "    <tr>\n",
       "      <th>6490</th>\n",
       "      <td>2020-06-25</td>\n",
       "      <td>2020-10-06</td>\n",
       "    </tr>\n",
       "    <tr>\n",
       "      <th>6799</th>\n",
       "      <td>2020-11-07</td>\n",
       "      <td>2020-12-07</td>\n",
       "    </tr>\n",
       "    <tr>\n",
       "      <th>8097</th>\n",
       "      <td>2020-05-14</td>\n",
       "      <td>2020-08-01</td>\n",
       "    </tr>\n",
       "    <tr>\n",
       "      <th>8425</th>\n",
       "      <td>2020-05-17</td>\n",
       "      <td>2020-08-08</td>\n",
       "    </tr>\n",
       "    <tr>\n",
       "      <th>8491</th>\n",
       "      <td>2020-05-15</td>\n",
       "      <td>2020-08-21</td>\n",
       "    </tr>\n",
       "    <tr>\n",
       "      <th>8893</th>\n",
       "      <td>2020-06-17</td>\n",
       "      <td>2020-10-12</td>\n",
       "    </tr>\n",
       "    <tr>\n",
       "      <th>9105</th>\n",
       "      <td>2020-05-26</td>\n",
       "      <td>2020-11-24</td>\n",
       "    </tr>\n",
       "    <tr>\n",
       "      <th>9369</th>\n",
       "      <td>2020-06-24</td>\n",
       "      <td>2020-09-19</td>\n",
       "    </tr>\n",
       "  </tbody>\n",
       "</table>\n",
       "</div>"
      ],
      "text/plain": [
       "     cdc_case_earliest_dt   onset_dt\n",
       "46             2020-04-12 2020-11-25\n",
       "63             2020-04-25 2020-07-27\n",
       "248            2020-04-29 2020-05-20\n",
       "383            2020-04-05 2020-09-02\n",
       "2480           2020-05-23 2020-06-19\n",
       "2501           2020-07-10 2020-09-30\n",
       "3368           2020-06-26 2020-07-15\n",
       "3405           2020-11-16 2020-12-01\n",
       "3971           2021-01-04 2021-01-29\n",
       "4599           2020-05-18 2020-07-21\n",
       "4787           2020-06-01 2020-06-24\n",
       "4961           2020-06-29 2020-11-15\n",
       "5324           2020-05-18 2020-06-18\n",
       "5418           2020-10-29 2020-11-17\n",
       "6164           2020-03-23 2020-06-28\n",
       "6285           2020-05-12 2020-09-25\n",
       "6339           2020-03-18 2020-04-15\n",
       "6490           2020-06-25 2020-10-06\n",
       "6799           2020-11-07 2020-12-07\n",
       "8097           2020-05-14 2020-08-01\n",
       "8425           2020-05-17 2020-08-08\n",
       "8491           2020-05-15 2020-08-21\n",
       "8893           2020-06-17 2020-10-12\n",
       "9105           2020-05-26 2020-11-24\n",
       "9369           2020-06-24 2020-09-19"
      ]
     },
     "execution_count": 41,
     "metadata": {},
     "output_type": "execute_result"
    }
   ],
   "source": [
    "test_4 = df[['cdc_case_earliest_dt','onset_dt']][df['onset_dt'] - df['cdc_case_earliest_dt'] > datetime.timedelta(14)]\n",
    "print(f\"Number of rows failing the test: {test_4.shape[0]}\")\n",
    "test_4"
   ]
  },
  {
   "cell_type": "code",
   "execution_count": 42,
   "id": "5850a599",
   "metadata": {},
   "outputs": [
    {
     "name": "stdout",
     "output_type": "stream",
     "text": [
      "  index    |      case_date      |     onset_date      | days_until_symptoms\n",
      "-----------------------------------------------------------------------------\n",
      "      46   | 2020-04-12 00:00:00 | 2020-11-25 00:00:00 |        227\n",
      "      63   | 2020-04-25 00:00:00 | 2020-07-27 00:00:00 |         93\n",
      "     248   | 2020-04-29 00:00:00 | 2020-05-20 00:00:00 |         21\n",
      "     383   | 2020-04-05 00:00:00 | 2020-09-02 00:00:00 |        150\n",
      "    2480   | 2020-05-23 00:00:00 | 2020-06-19 00:00:00 |         27\n",
      "    2501   | 2020-07-10 00:00:00 | 2020-09-30 00:00:00 |         82\n",
      "    3368   | 2020-06-26 00:00:00 | 2020-07-15 00:00:00 |         19\n",
      "    3405   | 2020-11-16 00:00:00 | 2020-12-01 00:00:00 |         15\n",
      "    3971   | 2021-01-04 00:00:00 | 2021-01-29 00:00:00 |         25\n",
      "    4599   | 2020-05-18 00:00:00 | 2020-07-21 00:00:00 |         64\n",
      "    4787   | 2020-06-01 00:00:00 | 2020-06-24 00:00:00 |         23\n",
      "    4961   | 2020-06-29 00:00:00 | 2020-11-15 00:00:00 |        139\n",
      "    5324   | 2020-05-18 00:00:00 | 2020-06-18 00:00:00 |         31\n",
      "    5418   | 2020-10-29 00:00:00 | 2020-11-17 00:00:00 |         19\n",
      "    6164   | 2020-03-23 00:00:00 | 2020-06-28 00:00:00 |         97\n",
      "    6285   | 2020-05-12 00:00:00 | 2020-09-25 00:00:00 |        136\n",
      "    6339   | 2020-03-18 00:00:00 | 2020-04-15 00:00:00 |         28\n",
      "    6490   | 2020-06-25 00:00:00 | 2020-10-06 00:00:00 |        103\n",
      "    6799   | 2020-11-07 00:00:00 | 2020-12-07 00:00:00 |         30\n",
      "    8097   | 2020-05-14 00:00:00 | 2020-08-01 00:00:00 |         79\n",
      "    8425   | 2020-05-17 00:00:00 | 2020-08-08 00:00:00 |         83\n",
      "    8491   | 2020-05-15 00:00:00 | 2020-08-21 00:00:00 |         98\n",
      "    8893   | 2020-06-17 00:00:00 | 2020-10-12 00:00:00 |        117\n",
      "    9105   | 2020-05-26 00:00:00 | 2020-11-24 00:00:00 |        182\n",
      "    9369   | 2020-06-24 00:00:00 | 2020-09-19 00:00:00 |         87\n"
     ]
    }
   ],
   "source": [
    "print(\"{:^10} | {:^19} | {:^19} | {:^18}\".format(\"index\",\"case_date\",\"onset_date\",\"days_until_symptoms\"))\n",
    "print(\"-\"*77)\n",
    "for row in test_4.index:\n",
    "\n",
    "    #print(f\"{tt['onset_dt'][row]}-{tt['cdc_case_earliest_dt'][row]}\")\n",
    "    onset = test_4['onset_dt'][row]\n",
    "    case = test_4['cdc_case_earliest_dt'][row]\n",
    "    time_till_symp = (onset-case)\n",
    "    two_weeks = datetime.timedelta(14)\n",
    "    if time_till_symp > two_weeks:\n",
    "        #print(time_till_symp.days)\n",
    "        print(\"{:>8}   | {} | {} | {:>10}\".format(row,case,onset,time_till_symp.days))"
   ]
  },
  {
   "cell_type": "markdown",
   "id": "84e5c36b",
   "metadata": {},
   "source": [
    "### Discuss your initial findings"
   ]
  },
  {
   "cell_type": "markdown",
   "id": "25bcf657",
   "metadata": {},
   "source": [
    "Initial findings and detailed discussion for each feature can be found in the accompanying *DataQualityReport.pdf* file."
   ]
  },
  {
   "cell_type": "markdown",
   "id": "629f0a1e",
   "metadata": {},
   "source": [
    "***"
   ]
  },
  {
   "cell_type": "markdown",
   "id": "b76ec6db",
   "metadata": {},
   "source": [
    "# 2. Data Quality Plan (30)"
   ]
  },
  {
   "cell_type": "markdown",
   "id": "484a5cdb",
   "metadata": {},
   "source": [
    "##### Prepare for the cleaned CSV file.  \n",
    "##### Mark down all the features where there are potential problems or data quality issues.  \n",
    "##### Propose solutions to deal with the problems identified.  "
   ]
  },
  {
   "cell_type": "markdown",
   "id": "8f55454a",
   "metadata": {},
   "source": [
    "| Variable Name           | Data Quality Issue | Handling Strategy      |\n",
    "| :---------------------- | :----------------- | :--------------------- |\n",
    "| cdc_report_dt           | Deprecated         | Drop Feature           |\n",
    "| pos_spec_dt             | Missing Values     | Drop Feature           |\n",
    "| onset_dt                | Missing values     | Do Nothing             |\n",
    "| current_status          | Primarily 'Laboratory-confirmed case' | Remove 'Probable case rows' |\n",
    "| sex                     | Missing Values     | Replace with 'Unknown' |\n",
    "| age_group               | Missing Values     | Drop Entries           |\n",
    "| race_ethnicity_combined | Missing Values     | Replace with 'Unknown' |\n",
    "| hosp_yn                 | Missing Values     | Replace with 'Unknown' |\n",
    "| icu_yn                  | Missing Values     | Replace with 'Unknown' |\n",
    "| medcond_yn              | Missing Values     | Replace with 'Unknown' |"
   ]
  },
  {
   "cell_type": "markdown",
   "id": "86d53cdc",
   "metadata": {},
   "source": [
    "##### Explain why did you choose one solution over potentially many others. It is v.important to provide justification for your thinking in this part and to list potential solutions, including the solution that will be implemented to clean the data.  "
   ]
  },
  {
   "cell_type": "markdown",
   "id": "447c6395",
   "metadata": {},
   "source": [
    "I chose to drop the two continuous features as I believe that for building a solution for death risk prediction only the earliest case date and the date on which symptoms occur will be needed.\n",
    "<br>\n",
    "I chose to replace missing values with 'Unknown' as in most cases the missing values made up a larger proportion of the dataset.\n",
    "<br>\n",
    "I chose to drop the entries where age_group was missing as they were less than 1% of the dataset and it would be impractical for future analysis to replace them with 'Unknown'. \n",
    "<br>\n",
    "I chose to drop entries which were probable cases as I believe for building a reliable death risk prediction model only the data from genuine confirmed cases should be used so as not to skew any results."
   ]
  },
  {
   "cell_type": "markdown",
   "id": "834ad3f2",
   "metadata": {},
   "source": [
    "### Apply your solutions to obtain a new CSV file where the identified data quality issues were addressed.  "
   ]
  },
  {
   "cell_type": "markdown",
   "id": "a11f1e69",
   "metadata": {},
   "source": [
    "##### For Logical Integrity Test 1 replace cdc_case_earliest_dt with cdc_report_dt."
   ]
  },
  {
   "cell_type": "code",
   "execution_count": 43,
   "id": "814bc0be",
   "metadata": {},
   "outputs": [],
   "source": [
    "df['cdc_case_earliest_dt'][8054] = df['cdc_report_dt'][8054]"
   ]
  },
  {
   "cell_type": "markdown",
   "id": "135f5ee9",
   "metadata": {},
   "source": [
    "##### For Logical Integrity Test 4 drop rows where time from cdc_case_earliest_dt to onset_dt was greater than 14 days (covid-19 incubation period)."
   ]
  },
  {
   "cell_type": "code",
   "execution_count": 44,
   "id": "b26390b8",
   "metadata": {},
   "outputs": [
    {
     "name": "stdout",
     "output_type": "stream",
     "text": [
      "Number of rows dropped: 25\n"
     ]
    }
   ],
   "source": [
    "# Drop rows found in Test 4\n",
    "df = df.drop(index=test_4.index)\n",
    "print(f\"Number of rows dropped: {len(test_4.index)}\")"
   ]
  },
  {
   "cell_type": "markdown",
   "id": "d5bc9b01",
   "metadata": {},
   "source": [
    "##### Drop the features cdc_report_dt and pos_spec_dt as they have a high number of missing values and I believe only cdc_case_earliest_dt and onset_dt will be needed in future analysis."
   ]
  },
  {
   "cell_type": "code",
   "execution_count": 45,
   "id": "10f99438",
   "metadata": {},
   "outputs": [
    {
     "name": "stdout",
     "output_type": "stream",
     "text": [
      "Features dropped: cdc_report_dt, pos_spec_dt\n"
     ]
    }
   ],
   "source": [
    "# Drop features\n",
    "df = df.drop(columns='cdc_report_dt')\n",
    "df = df.drop(columns='pos_spec_dt')\n",
    "print(f\"Features dropped: cdc_report_dt, pos_spec_dt\")"
   ]
  },
  {
   "cell_type": "markdown",
   "id": "76581348",
   "metadata": {},
   "source": [
    "##### Drop rows that are ‘Probable case’ as any future modelling should be done on data from confirmed cases."
   ]
  },
  {
   "cell_type": "code",
   "execution_count": 46,
   "id": "9f3e7ab9",
   "metadata": {},
   "outputs": [
    {
     "name": "stdout",
     "output_type": "stream",
     "text": [
      "Number of rows dropped 683\n"
     ]
    }
   ],
   "source": [
    "# Drop Probable Cases\n",
    "rows_before = df.shape[0]\n",
    "df = df[df['current_status']=='Laboratory-confirmed case']\n",
    "rows_after = df.shape[0]\n",
    "print(f\"Number of rows dropped {rows_before-rows_after}\")"
   ]
  },
  {
   "cell_type": "code",
   "execution_count": 47,
   "id": "997756c0",
   "metadata": {},
   "outputs": [],
   "source": [
    "# Remove current_status feature as it is now a constant column\n",
    "df = df.drop(columns='current_status')"
   ]
  },
  {
   "cell_type": "markdown",
   "id": "9f34bc2a",
   "metadata": {},
   "source": [
    "##### Drop entries where age_group is missing."
   ]
  },
  {
   "cell_type": "code",
   "execution_count": 48,
   "id": "28038381",
   "metadata": {},
   "outputs": [
    {
     "name": "stdout",
     "output_type": "stream",
     "text": [
      "Number of rows dropped 6\n"
     ]
    }
   ],
   "source": [
    "# Drop entries where age_group is missing\n",
    "rows_before = df.shape[0]\n",
    "df = df[df['age_group']!='Missing']\n",
    "rows_after = df.shape[0]\n",
    "print(f\"Number of rows dropped {rows_before-rows_after}\")"
   ]
  },
  {
   "cell_type": "markdown",
   "id": "4083f2a0",
   "metadata": {},
   "source": [
    "##### For sex, race_ethnicity_combined, hosp_yn, icu_yn, and medcond_yn replace missing values with ‘Unknown’."
   ]
  },
  {
   "cell_type": "code",
   "execution_count": 49,
   "id": "1fb0dae1",
   "metadata": {},
   "outputs": [],
   "source": [
    "# Replace missing values with 'Unknown'\n",
    "df = df.replace('Missing', 'Unknown')"
   ]
  },
  {
   "cell_type": "markdown",
   "id": "91b74bed",
   "metadata": {},
   "source": [
    "### Save the new CSV file with a self explanatory name.  "
   ]
  },
  {
   "cell_type": "code",
   "execution_count": 50,
   "id": "e2612348",
   "metadata": {},
   "outputs": [],
   "source": [
    "df.to_csv('data/covid19-cdc-20204844_1-2_cleaned.csv')"
   ]
  },
  {
   "cell_type": "markdown",
   "id": "479d9d31",
   "metadata": {},
   "source": [
    "### Save the data quality plan to a single PDF file.  "
   ]
  },
  {
   "cell_type": "markdown",
   "id": "77df8e15",
   "metadata": {},
   "source": [
    "The Data Quality Plan can be found in the accompanying *DataQualityPlan.pdf* file."
   ]
  },
  {
   "cell_type": "markdown",
   "id": "84c34830",
   "metadata": {},
   "source": [
    "***"
   ]
  },
  {
   "cell_type": "markdown",
   "id": "534f4c1e",
   "metadata": {},
   "source": [
    "# 3. Explore the Relationships Between Feature Pairs (15)"
   ]
  },
  {
   "cell_type": "markdown",
   "id": "af7a3c57",
   "metadata": {},
   "source": [
    "### Choose a subset of features you find promising and plot pairwise feature interactions (continuous-continuous/continuous-categorical/correlation plots) Explain your choices.  "
   ]
  },
  {
   "cell_type": "markdown",
   "id": "a9417f54",
   "metadata": {},
   "source": [
    "I am going to explore the relationship between the proportion of cases resulting in death and;\n",
    "    \n",
    "    - sex\n",
    "    - age_group\n",
    "    - race_ethnicity_combined\n",
    "    - medcond_yn\n",
    "\n",
    "I want to see if a case is more or less likely to result in death given any one of these features. Is there a disparity between sex and death rate? Are cases at certain age groups more likely to result in death? Is there also a disparity between different race and ethnicities and likelihood of death? Is the presence of underlying comorbidity and disease more likely to result in death?"
   ]
  },
  {
   "cell_type": "markdown",
   "id": "8417cfea",
   "metadata": {},
   "source": [
    "##### Relationship between cases resulting in death and sex"
   ]
  },
  {
   "cell_type": "code",
   "execution_count": 51,
   "id": "fec5b89e",
   "metadata": {},
   "outputs": [
    {
     "data": {
      "image/png": "[encoded data removed]",
      "text/plain": [
       "<Figure size 864x720 with 1 Axes>"
      ]
     },
     "metadata": {
      "needs_background": "light"
     },
     "output_type": "display_data"
    },
    {
     "data": {
      "image/png": "[encoded data removed]",
      "text/plain": [
       "<Figure size 864x720 with 1 Axes>"
      ]
     },
     "metadata": {
      "needs_background": "light"
     },
     "output_type": "display_data"
    }
   ],
   "source": [
    "# Death and sex\n",
    "with PdfPages('plots/death-sex_barplots_1-1.pdf') as pp:\n",
    "    death_yes = df[df['death_yn']=='Yes']\n",
    "    f = death_yes['sex'].value_counts(normalize=True).plot(kind='bar', figsize=(12,10))\n",
    "    plt.title('Death = Yes')\n",
    "    plt.ylabel('Proportion of cases resulting in death')\n",
    "    pp.savefig(f.get_figure())\n",
    "    plt.show()\n",
    "    death_no = df[df['death_yn']=='No']\n",
    "    f = death_no['sex'].value_counts(normalize=True).plot(kind='bar', figsize=(12,10))\n",
    "    plt.title('Death = No')\n",
    "    plt.ylabel('Proportion of cases not resulting in death')\n",
    "    pp.savefig(f.get_figure())\n",
    "    plt.show()"
   ]
  },
  {
   "cell_type": "markdown",
   "id": "b5ae8649",
   "metadata": {},
   "source": [
    "##### Relationship between cases resulting in death and age_group"
   ]
  },
  {
   "cell_type": "code",
   "execution_count": 52,
   "id": "5b3e5221",
   "metadata": {
    "scrolled": false
   },
   "outputs": [
    {
     "data": {
      "image/png": "[encoded data removed]",
      "text/plain": [
       "<Figure size 864x720 with 1 Axes>"
      ]
     },
     "metadata": {
      "needs_background": "light"
     },
     "output_type": "display_data"
    },
    {
     "data": {
      "image/png": "[encoded data removed]",
      "text/plain": [
       "<Figure size 864x720 with 1 Axes>"
      ]
     },
     "metadata": {
      "needs_background": "light"
     },
     "output_type": "display_data"
    }
   ],
   "source": [
    "# Death and age_group\n",
    "with PdfPages('plots/death-age_group_barplots_1-1.pdf') as pp:\n",
    "    death_yes = df[df['death_yn']=='Yes']\n",
    "    f = death_yes['age_group'].value_counts(normalize=True).plot(kind='bar', figsize=(12,10))\n",
    "    plt.title('Death = Yes')\n",
    "    plt.ylabel('Proportion of cases resulting in death')\n",
    "    pp.savefig(f.get_figure())\n",
    "    plt.show()\n",
    "    death_no = df[df['death_yn']=='No']\n",
    "    f = death_no['age_group'].value_counts(normalize=True).plot(kind='bar', figsize=(12,10))\n",
    "    plt.title('Death = No')\n",
    "    plt.ylabel('Proportion of cases not resulting in death')\n",
    "    pp.savefig(f.get_figure())\n",
    "    plt.show()"
   ]
  },
  {
   "cell_type": "markdown",
   "id": "80b08d46",
   "metadata": {},
   "source": [
    "##### Relationship between cases resulting in death and race_ethnicity_combined"
   ]
  },
  {
   "cell_type": "code",
   "execution_count": 53,
   "id": "c42050d5",
   "metadata": {
    "scrolled": false
   },
   "outputs": [
    {
     "data": {
      "image/png": "[encoded data removed]",
      "text/plain": [
       "<Figure size 864x720 with 1 Axes>"
      ]
     },
     "metadata": {
      "needs_background": "light"
     },
     "output_type": "display_data"
    },
    {
     "data": {
      "image/png": "[encoded data removed]",
      "text/plain": [
       "<Figure size 864x720 with 1 Axes>"
      ]
     },
     "metadata": {
      "needs_background": "light"
     },
     "output_type": "display_data"
    }
   ],
   "source": [
    "# Death and race_ethnicity_combined\n",
    "with PdfPages('plots/death-race_ethnicity_barplots_1-1.pdf') as pp:\n",
    "    death_yes = df[df['death_yn']=='Yes']\n",
    "    f = death_yes['race_ethnicity_combined'].value_counts(normalize=True).plot(kind='bar', figsize=(12,10))\n",
    "    plt.title('Death = Yes')\n",
    "    plt.ylabel('Proportion of cases resulting in death')\n",
    "    pp.savefig(f.get_figure())\n",
    "    plt.show()\n",
    "    death_no = df[df['death_yn']=='No']\n",
    "    f = death_no['race_ethnicity_combined'].value_counts(normalize=True).plot(kind='bar', figsize=(12,10))\n",
    "    plt.title('Death = No')\n",
    "    plt.ylabel('Proportion of cases not resulting in death')\n",
    "    pp.savefig(f.get_figure())\n",
    "    plt.show()"
   ]
  },
  {
   "cell_type": "markdown",
   "id": "5b5c7c70",
   "metadata": {},
   "source": [
    "##### Relationship between cases resulting in death and medcond_yn"
   ]
  },
  {
   "cell_type": "code",
   "execution_count": 54,
   "id": "5fdd3fb0",
   "metadata": {},
   "outputs": [
    {
     "data": {
      "image/png": "[encoded data removed]",
      "text/plain": [
       "<Figure size 864x720 with 1 Axes>"
      ]
     },
     "metadata": {
      "needs_background": "light"
     },
     "output_type": "display_data"
    },
    {
     "data": {
      "image/png": "[encoded data removed]",
      "text/plain": [
       "<Figure size 864x720 with 1 Axes>"
      ]
     },
     "metadata": {
      "needs_background": "light"
     },
     "output_type": "display_data"
    }
   ],
   "source": [
    "# Death and medcond_yn\n",
    "with PdfPages('plots/death-medcond_yn_barplots_1-1.pdf') as pp:\n",
    "    death_yes = df[df['death_yn']=='Yes']\n",
    "    f = death_yes['medcond_yn'].value_counts(normalize=True).plot(kind='bar', figsize=(12,10))\n",
    "    plt.title('Death = Yes')\n",
    "    plt.ylabel('Proportion of cases resulting in death')\n",
    "    pp.savefig(f.get_figure())\n",
    "    plt.show()\n",
    "    death_no = df[df['death_yn']=='No']\n",
    "    f = death_no['medcond_yn'].value_counts(normalize=True).plot(kind='bar', figsize=(12,10))\n",
    "    plt.title('Death = No')\n",
    "    plt.ylabel('Proportion of cases not resulting in death')\n",
    "    pp.savefig(f.get_figure())\n",
    "    plt.show()"
   ]
  },
  {
   "cell_type": "markdown",
   "id": "21dc9a53",
   "metadata": {},
   "source": [
    "### Discuss your findings from the plots above. Do you find any feature(s) combinations that are indicative of the target outcome? Explain in plain words (short paragraph) the story of your findings so far."
   ]
  },
  {
   "cell_type": "markdown",
   "id": "ebd4dd1b",
   "metadata": {},
   "source": [
    "A greater proportion of the cases resulting in death are males while a slightly higher proportion of the cases not resulting in death are female.  \n",
    "Cases that result in death are significantly skewed towards the older age group while the opposite is true for cases that do not result in death.  \n",
    "A very high proportion of the deaths are White,Non-hispanic however this group make up a majority of the entries in this dataset.  \n",
    "While there is a very significant number of entries where medcond_yn is unknown it is clear to see that cases relating in death are much more likely to have a presence of underlying comorbidity or disease.  \n",
    "It is interesting that males make up a greater proportion of the deaths and likewise older age groups also make up a greater proportion of the cases resulting in death.  \n",
    "The problem of 'Unknown' values makes it hard to draw true inferences from the data."
   ]
  },
  {
   "cell_type": "markdown",
   "id": "1eb694f0",
   "metadata": {},
   "source": [
    "***"
   ]
  },
  {
   "cell_type": "markdown",
   "id": "ec227229",
   "metadata": {},
   "source": [
    "# 4. Transform/Extend/Combine"
   ]
  },
  {
   "cell_type": "markdown",
   "id": "690d8565",
   "metadata": {},
   "source": [
    "### Transform/Extend/Combine the existing features to create a few new features (at least 3) with the aim to better capture the problem domain and the target outcome. Justify the steps and choices you are making.  "
   ]
  },
  {
   "cell_type": "markdown",
   "id": "d227cc25",
   "metadata": {},
   "source": [
    "#### New Feature 1\n",
    "\n",
    "    - SymptomsWithinOneWeek: True if symptoms occur within one week\n",
    "    - Will allow to see if a quicker onset of symptoms results in a greater likelihood of death"
   ]
  },
  {
   "cell_type": "code",
   "execution_count": 55,
   "id": "dcdc04be",
   "metadata": {},
   "outputs": [],
   "source": [
    "df['SymptomsWithinOneWeek'] = df['onset_dt'] - df['cdc_case_earliest_dt'] <= datetime.timedelta(7)"
   ]
  },
  {
   "cell_type": "code",
   "execution_count": 56,
   "id": "1dc5c293",
   "metadata": {},
   "outputs": [
    {
     "data": {
      "text/html": [
       "<div>\n",
       "<style scoped>\n",
       "    .dataframe tbody tr th:only-of-type {\n",
       "        vertical-align: middle;\n",
       "    }\n",
       "\n",
       "    .dataframe tbody tr th {\n",
       "        vertical-align: top;\n",
       "    }\n",
       "\n",
       "    .dataframe thead th {\n",
       "        text-align: right;\n",
       "    }\n",
       "</style>\n",
       "<table border=\"1\" class=\"dataframe\">\n",
       "  <thead>\n",
       "    <tr style=\"text-align: right;\">\n",
       "      <th></th>\n",
       "      <th>cdc_case_earliest_dt</th>\n",
       "      <th>onset_dt</th>\n",
       "      <th>sex</th>\n",
       "      <th>age_group</th>\n",
       "      <th>race_ethnicity_combined</th>\n",
       "      <th>hosp_yn</th>\n",
       "      <th>icu_yn</th>\n",
       "      <th>death_yn</th>\n",
       "      <th>medcond_yn</th>\n",
       "      <th>SymptomsWithinOneWeek</th>\n",
       "    </tr>\n",
       "  </thead>\n",
       "  <tbody>\n",
       "    <tr>\n",
       "      <th>0</th>\n",
       "      <td>2020-03-18</td>\n",
       "      <td>2020-03-18</td>\n",
       "      <td>Male</td>\n",
       "      <td>20 - 29 Years</td>\n",
       "      <td>Unknown</td>\n",
       "      <td>No</td>\n",
       "      <td>Unknown</td>\n",
       "      <td>No</td>\n",
       "      <td>Yes</td>\n",
       "      <td>True</td>\n",
       "    </tr>\n",
       "    <tr>\n",
       "      <th>1</th>\n",
       "      <td>2020-12-04</td>\n",
       "      <td>NaT</td>\n",
       "      <td>Female</td>\n",
       "      <td>10 - 19 Years</td>\n",
       "      <td>Multiple/Other, Non-Hispanic</td>\n",
       "      <td>No</td>\n",
       "      <td>Unknown</td>\n",
       "      <td>No</td>\n",
       "      <td>Unknown</td>\n",
       "      <td>False</td>\n",
       "    </tr>\n",
       "    <tr>\n",
       "      <th>2</th>\n",
       "      <td>2021-01-12</td>\n",
       "      <td>NaT</td>\n",
       "      <td>Male</td>\n",
       "      <td>0 - 9 Years</td>\n",
       "      <td>Unknown</td>\n",
       "      <td>Unknown</td>\n",
       "      <td>Unknown</td>\n",
       "      <td>No</td>\n",
       "      <td>Unknown</td>\n",
       "      <td>False</td>\n",
       "    </tr>\n",
       "    <tr>\n",
       "      <th>3</th>\n",
       "      <td>2020-11-04</td>\n",
       "      <td>2020-11-04</td>\n",
       "      <td>Male</td>\n",
       "      <td>50 - 59 Years</td>\n",
       "      <td>White, Non-Hispanic</td>\n",
       "      <td>No</td>\n",
       "      <td>Unknown</td>\n",
       "      <td>No</td>\n",
       "      <td>No</td>\n",
       "      <td>True</td>\n",
       "    </tr>\n",
       "    <tr>\n",
       "      <th>4</th>\n",
       "      <td>2020-04-10</td>\n",
       "      <td>2020-04-10</td>\n",
       "      <td>Male</td>\n",
       "      <td>50 - 59 Years</td>\n",
       "      <td>Unknown</td>\n",
       "      <td>No</td>\n",
       "      <td>Unknown</td>\n",
       "      <td>No</td>\n",
       "      <td>Unknown</td>\n",
       "      <td>True</td>\n",
       "    </tr>\n",
       "  </tbody>\n",
       "</table>\n",
       "</div>"
      ],
      "text/plain": [
       "  cdc_case_earliest_dt   onset_dt     sex      age_group  \\\n",
       "0           2020-03-18 2020-03-18    Male  20 - 29 Years   \n",
       "1           2020-12-04        NaT  Female  10 - 19 Years   \n",
       "2           2021-01-12        NaT    Male    0 - 9 Years   \n",
       "3           2020-11-04 2020-11-04    Male  50 - 59 Years   \n",
       "4           2020-04-10 2020-04-10    Male  50 - 59 Years   \n",
       "\n",
       "        race_ethnicity_combined  hosp_yn   icu_yn death_yn medcond_yn  \\\n",
       "0                       Unknown       No  Unknown       No        Yes   \n",
       "1  Multiple/Other, Non-Hispanic       No  Unknown       No    Unknown   \n",
       "2                       Unknown  Unknown  Unknown       No    Unknown   \n",
       "3           White, Non-Hispanic       No  Unknown       No         No   \n",
       "4                       Unknown       No  Unknown       No    Unknown   \n",
       "\n",
       "   SymptomsWithinOneWeek  \n",
       "0                   True  \n",
       "1                  False  \n",
       "2                  False  \n",
       "3                   True  \n",
       "4                   True  "
      ]
     },
     "execution_count": 56,
     "metadata": {},
     "output_type": "execute_result"
    }
   ],
   "source": [
    "df.head()"
   ]
  },
  {
   "cell_type": "markdown",
   "id": "6559aad6",
   "metadata": {},
   "source": [
    "#### New Feature 2\n",
    "\n",
    "    - SymptomsWithinTwoWeeks: True if symptoms occur between one and two weeks after case date\n",
    "    - Will allow to compare against SymptomsWithinOneWeek to see if a quicker onset of symptoms results in a greater\n",
    "      likelihood of death"
   ]
  },
  {
   "cell_type": "code",
   "execution_count": 57,
   "id": "1e4a77b3",
   "metadata": {},
   "outputs": [],
   "source": [
    "df['SymptomsWithinTwoWeeks'] = df['onset_dt'] - df['cdc_case_earliest_dt'] > datetime.timedelta(7)"
   ]
  },
  {
   "cell_type": "code",
   "execution_count": 58,
   "id": "ba8f4540",
   "metadata": {},
   "outputs": [
    {
     "data": {
      "text/html": [
       "<div>\n",
       "<style scoped>\n",
       "    .dataframe tbody tr th:only-of-type {\n",
       "        vertical-align: middle;\n",
       "    }\n",
       "\n",
       "    .dataframe tbody tr th {\n",
       "        vertical-align: top;\n",
       "    }\n",
       "\n",
       "    .dataframe thead th {\n",
       "        text-align: right;\n",
       "    }\n",
       "</style>\n",
       "<table border=\"1\" class=\"dataframe\">\n",
       "  <thead>\n",
       "    <tr style=\"text-align: right;\">\n",
       "      <th></th>\n",
       "      <th>cdc_case_earliest_dt</th>\n",
       "      <th>onset_dt</th>\n",
       "      <th>sex</th>\n",
       "      <th>age_group</th>\n",
       "      <th>race_ethnicity_combined</th>\n",
       "      <th>hosp_yn</th>\n",
       "      <th>icu_yn</th>\n",
       "      <th>death_yn</th>\n",
       "      <th>medcond_yn</th>\n",
       "      <th>SymptomsWithinOneWeek</th>\n",
       "      <th>SymptomsWithinTwoWeeks</th>\n",
       "    </tr>\n",
       "  </thead>\n",
       "  <tbody>\n",
       "    <tr>\n",
       "      <th>0</th>\n",
       "      <td>2020-03-18</td>\n",
       "      <td>2020-03-18</td>\n",
       "      <td>Male</td>\n",
       "      <td>20 - 29 Years</td>\n",
       "      <td>Unknown</td>\n",
       "      <td>No</td>\n",
       "      <td>Unknown</td>\n",
       "      <td>No</td>\n",
       "      <td>Yes</td>\n",
       "      <td>True</td>\n",
       "      <td>False</td>\n",
       "    </tr>\n",
       "    <tr>\n",
       "      <th>1</th>\n",
       "      <td>2020-12-04</td>\n",
       "      <td>NaT</td>\n",
       "      <td>Female</td>\n",
       "      <td>10 - 19 Years</td>\n",
       "      <td>Multiple/Other, Non-Hispanic</td>\n",
       "      <td>No</td>\n",
       "      <td>Unknown</td>\n",
       "      <td>No</td>\n",
       "      <td>Unknown</td>\n",
       "      <td>False</td>\n",
       "      <td>False</td>\n",
       "    </tr>\n",
       "    <tr>\n",
       "      <th>2</th>\n",
       "      <td>2021-01-12</td>\n",
       "      <td>NaT</td>\n",
       "      <td>Male</td>\n",
       "      <td>0 - 9 Years</td>\n",
       "      <td>Unknown</td>\n",
       "      <td>Unknown</td>\n",
       "      <td>Unknown</td>\n",
       "      <td>No</td>\n",
       "      <td>Unknown</td>\n",
       "      <td>False</td>\n",
       "      <td>False</td>\n",
       "    </tr>\n",
       "    <tr>\n",
       "      <th>3</th>\n",
       "      <td>2020-11-04</td>\n",
       "      <td>2020-11-04</td>\n",
       "      <td>Male</td>\n",
       "      <td>50 - 59 Years</td>\n",
       "      <td>White, Non-Hispanic</td>\n",
       "      <td>No</td>\n",
       "      <td>Unknown</td>\n",
       "      <td>No</td>\n",
       "      <td>No</td>\n",
       "      <td>True</td>\n",
       "      <td>False</td>\n",
       "    </tr>\n",
       "    <tr>\n",
       "      <th>4</th>\n",
       "      <td>2020-04-10</td>\n",
       "      <td>2020-04-10</td>\n",
       "      <td>Male</td>\n",
       "      <td>50 - 59 Years</td>\n",
       "      <td>Unknown</td>\n",
       "      <td>No</td>\n",
       "      <td>Unknown</td>\n",
       "      <td>No</td>\n",
       "      <td>Unknown</td>\n",
       "      <td>True</td>\n",
       "      <td>False</td>\n",
       "    </tr>\n",
       "  </tbody>\n",
       "</table>\n",
       "</div>"
      ],
      "text/plain": [
       "  cdc_case_earliest_dt   onset_dt     sex      age_group  \\\n",
       "0           2020-03-18 2020-03-18    Male  20 - 29 Years   \n",
       "1           2020-12-04        NaT  Female  10 - 19 Years   \n",
       "2           2021-01-12        NaT    Male    0 - 9 Years   \n",
       "3           2020-11-04 2020-11-04    Male  50 - 59 Years   \n",
       "4           2020-04-10 2020-04-10    Male  50 - 59 Years   \n",
       "\n",
       "        race_ethnicity_combined  hosp_yn   icu_yn death_yn medcond_yn  \\\n",
       "0                       Unknown       No  Unknown       No        Yes   \n",
       "1  Multiple/Other, Non-Hispanic       No  Unknown       No    Unknown   \n",
       "2                       Unknown  Unknown  Unknown       No    Unknown   \n",
       "3           White, Non-Hispanic       No  Unknown       No         No   \n",
       "4                       Unknown       No  Unknown       No    Unknown   \n",
       "\n",
       "   SymptomsWithinOneWeek  SymptomsWithinTwoWeeks  \n",
       "0                   True                   False  \n",
       "1                  False                   False  \n",
       "2                  False                   False  \n",
       "3                   True                   False  \n",
       "4                   True                   False  "
      ]
     },
     "execution_count": 58,
     "metadata": {},
     "output_type": "execute_result"
    }
   ],
   "source": [
    "df.head()"
   ]
  },
  {
   "cell_type": "markdown",
   "id": "7281b173",
   "metadata": {},
   "source": [
    "#### New Feature 3\n",
    "\n",
    "    - MedcondICU: True if presence of underlying comorbidity/disease and addmitted to ICU\n",
    "    - Will allow to see if underlying medical conditions are more likely to result in admission to ICU and the effect this\n",
    "      has on death outcome"
   ]
  },
  {
   "cell_type": "code",
   "execution_count": 59,
   "id": "a4b2961d",
   "metadata": {
    "scrolled": true
   },
   "outputs": [],
   "source": [
    "icu_y = df[df['icu_yn']=='Yes']\n",
    "MedcondICU = icu_y['medcond_yn']=='Yes'\n",
    "df['MedcondICU'] = MedcondICU"
   ]
  },
  {
   "cell_type": "code",
   "execution_count": 60,
   "id": "f428bc0b",
   "metadata": {
    "scrolled": true
   },
   "outputs": [
    {
     "data": {
      "text/html": [
       "<div>\n",
       "<style scoped>\n",
       "    .dataframe tbody tr th:only-of-type {\n",
       "        vertical-align: middle;\n",
       "    }\n",
       "\n",
       "    .dataframe tbody tr th {\n",
       "        vertical-align: top;\n",
       "    }\n",
       "\n",
       "    .dataframe thead th {\n",
       "        text-align: right;\n",
       "    }\n",
       "</style>\n",
       "<table border=\"1\" class=\"dataframe\">\n",
       "  <thead>\n",
       "    <tr style=\"text-align: right;\">\n",
       "      <th></th>\n",
       "      <th>cdc_case_earliest_dt</th>\n",
       "      <th>onset_dt</th>\n",
       "      <th>sex</th>\n",
       "      <th>age_group</th>\n",
       "      <th>race_ethnicity_combined</th>\n",
       "      <th>hosp_yn</th>\n",
       "      <th>icu_yn</th>\n",
       "      <th>death_yn</th>\n",
       "      <th>medcond_yn</th>\n",
       "      <th>SymptomsWithinOneWeek</th>\n",
       "      <th>SymptomsWithinTwoWeeks</th>\n",
       "      <th>MedcondICU</th>\n",
       "    </tr>\n",
       "  </thead>\n",
       "  <tbody>\n",
       "    <tr>\n",
       "      <th>0</th>\n",
       "      <td>2020-03-18</td>\n",
       "      <td>2020-03-18</td>\n",
       "      <td>Male</td>\n",
       "      <td>20 - 29 Years</td>\n",
       "      <td>Unknown</td>\n",
       "      <td>No</td>\n",
       "      <td>Unknown</td>\n",
       "      <td>No</td>\n",
       "      <td>Yes</td>\n",
       "      <td>True</td>\n",
       "      <td>False</td>\n",
       "      <td>NaN</td>\n",
       "    </tr>\n",
       "    <tr>\n",
       "      <th>1</th>\n",
       "      <td>2020-12-04</td>\n",
       "      <td>NaT</td>\n",
       "      <td>Female</td>\n",
       "      <td>10 - 19 Years</td>\n",
       "      <td>Multiple/Other, Non-Hispanic</td>\n",
       "      <td>No</td>\n",
       "      <td>Unknown</td>\n",
       "      <td>No</td>\n",
       "      <td>Unknown</td>\n",
       "      <td>False</td>\n",
       "      <td>False</td>\n",
       "      <td>NaN</td>\n",
       "    </tr>\n",
       "    <tr>\n",
       "      <th>2</th>\n",
       "      <td>2021-01-12</td>\n",
       "      <td>NaT</td>\n",
       "      <td>Male</td>\n",
       "      <td>0 - 9 Years</td>\n",
       "      <td>Unknown</td>\n",
       "      <td>Unknown</td>\n",
       "      <td>Unknown</td>\n",
       "      <td>No</td>\n",
       "      <td>Unknown</td>\n",
       "      <td>False</td>\n",
       "      <td>False</td>\n",
       "      <td>NaN</td>\n",
       "    </tr>\n",
       "    <tr>\n",
       "      <th>3</th>\n",
       "      <td>2020-11-04</td>\n",
       "      <td>2020-11-04</td>\n",
       "      <td>Male</td>\n",
       "      <td>50 - 59 Years</td>\n",
       "      <td>White, Non-Hispanic</td>\n",
       "      <td>No</td>\n",
       "      <td>Unknown</td>\n",
       "      <td>No</td>\n",
       "      <td>No</td>\n",
       "      <td>True</td>\n",
       "      <td>False</td>\n",
       "      <td>NaN</td>\n",
       "    </tr>\n",
       "    <tr>\n",
       "      <th>4</th>\n",
       "      <td>2020-04-10</td>\n",
       "      <td>2020-04-10</td>\n",
       "      <td>Male</td>\n",
       "      <td>50 - 59 Years</td>\n",
       "      <td>Unknown</td>\n",
       "      <td>No</td>\n",
       "      <td>Unknown</td>\n",
       "      <td>No</td>\n",
       "      <td>Unknown</td>\n",
       "      <td>True</td>\n",
       "      <td>False</td>\n",
       "      <td>NaN</td>\n",
       "    </tr>\n",
       "  </tbody>\n",
       "</table>\n",
       "</div>"
      ],
      "text/plain": [
       "  cdc_case_earliest_dt   onset_dt     sex      age_group  \\\n",
       "0           2020-03-18 2020-03-18    Male  20 - 29 Years   \n",
       "1           2020-12-04        NaT  Female  10 - 19 Years   \n",
       "2           2021-01-12        NaT    Male    0 - 9 Years   \n",
       "3           2020-11-04 2020-11-04    Male  50 - 59 Years   \n",
       "4           2020-04-10 2020-04-10    Male  50 - 59 Years   \n",
       "\n",
       "        race_ethnicity_combined  hosp_yn   icu_yn death_yn medcond_yn  \\\n",
       "0                       Unknown       No  Unknown       No        Yes   \n",
       "1  Multiple/Other, Non-Hispanic       No  Unknown       No    Unknown   \n",
       "2                       Unknown  Unknown  Unknown       No    Unknown   \n",
       "3           White, Non-Hispanic       No  Unknown       No         No   \n",
       "4                       Unknown       No  Unknown       No    Unknown   \n",
       "\n",
       "   SymptomsWithinOneWeek  SymptomsWithinTwoWeeks MedcondICU  \n",
       "0                   True                   False        NaN  \n",
       "1                  False                   False        NaN  \n",
       "2                  False                   False        NaN  \n",
       "3                   True                   False        NaN  \n",
       "4                   True                   False        NaN  "
      ]
     },
     "execution_count": 60,
     "metadata": {},
     "output_type": "execute_result"
    }
   ],
   "source": [
    "df.head()"
   ]
  },
  {
   "cell_type": "markdown",
   "id": "8fbe9fa8",
   "metadata": {},
   "source": [
    "### Save it as a CSV file with self explanatory name.  "
   ]
  },
  {
   "cell_type": "code",
   "execution_count": 61,
   "id": "b5708f4e",
   "metadata": {},
   "outputs": [],
   "source": [
    "df.to_csv('data/covid19-cdc-20204844_1-3_cleaned.csv')"
   ]
  },
  {
   "cell_type": "markdown",
   "id": "0f1425f0",
   "metadata": {},
   "source": [
    "***"
   ]
  }
 ],
 "metadata": {
  "kernelspec": {
   "display_name": "Python 3",
   "language": "python",
   "name": "python3"
  },
  "language_info": {
   "codemirror_mode": {
    "name": "ipython",
    "version": 3
   },
   "file_extension": ".py",
   "mimetype": "text/x-python",
   "name": "python",
   "nbconvert_exporter": "python",
   "pygments_lexer": "ipython3",
   "version": "3.8.8"
  }
 },
 "nbformat": 4,
 "nbformat_minor": 5
}
