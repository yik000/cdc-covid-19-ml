{
 "cells": [
  {
   "cell_type": "markdown",
   "id": "3754656c",
   "metadata": {},
   "source": [
    "<a id=\"top\"></a>"
   ]
  },
  {
   "cell_type": "code",
   "execution_count": 1,
   "id": "fc15aea9",
   "metadata": {
    "scrolled": true
   },
   "outputs": [],
   "source": [
    "# import packages\n",
    "import pandas as pd\n",
    "import matplotlib.pyplot as plt\n",
    "%matplotlib inline\n",
    "import numpy as np\n",
    "\n",
    "from sklearn.linear_model import LinearRegression\n",
    "from sklearn.linear_model import LogisticRegression\n",
    "from sklearn.ensemble import RandomForestClassifier\n",
    "from sklearn.model_selection import train_test_split\n",
    "from sklearn import metrics\n",
    "from sklearn.model_selection import cross_validate\n",
    "from sklearn.model_selection import cross_val_score \n",
    "\n",
    "import seaborn as sns\n",
    "import matplotlib.pyplot as plt\n",
    "sns.set_theme(style=\"ticks\", color_codes=True)"
   ]
  },
  {
   "cell_type": "markdown",
   "id": "1b433147",
   "metadata": {},
   "source": [
    "***"
   ]
  },
  {
   "cell_type": "markdown",
   "id": "e79d97ab",
   "metadata": {},
   "source": [
    "# Table of Contents"
   ]
  },
  {
   "cell_type": "markdown",
   "id": "dcaba109",
   "metadata": {},
   "source": [
    "- [1.Introduction](#1)\n",
    "    + [1.1. The Problem](#1.1)\n",
    "    + [1.2. The Clean Dataset](#1.2)\n",
    " \n",
    " \n",
    "- [2. Data Understanding and Preparation](#2)\n",
    "    + [2.1. Splitting Dataset into Training and Test Sets](#2.1)\n",
    "    + [2.2. On the Training Set](#2.2)\n",
    "        - [2.2.1. Correlations between Continuous Features](#2.2.1)\n",
    "        - [2.2.2. Continuous Features Interaction with Target Feature](#2.2.2)\n",
    "        - [2.2.3. Promising Continuous Features](#2.2.3)\n",
    "        - [2.2.4. Categorical Feature Pairwise Interactions with Target Feature](#2.2.4)\n",
    "        - [2.2.5. Promising Categorical Features](#2.2.5)\n",
    " \n",
    " \n",
    "- [3. Predictive Modeling: Linear Regression](#3)\n",
    "    + [3.1. Linear Regression Model](#3.1)\n",
    "    + [3.2. Coefficients of the Model](#3.2)\n",
    "    + [3.3. Predicted Target Feature Value](#3.3)\n",
    "    + [3.4. Model Evaluation](#3.4)\n",
    "\n",
    "\n",
    "- [4. Predictive Modeling: Logistic Regression](#4)\n",
    "    + [4.1. Logistic Regression Model](#4.1)\n",
    "    + [4.2. Coefficients of the Model](#4.2)\n",
    "    + [4.3. Predicted Target Feature Value](#4.3)\n",
    "    + [4.4. Model Evaluation](#4.4)\n",
    "  \n",
    "  \n",
    "- [5. Predictive Modeling: Random Forest](#5)\n",
    "    + [5.1. Random Forest Model](#5.1)\n",
    "    + [5.2. Model Interpretation](#5.2)\n",
    "    + [5.3. Predicted Target Value](#5.3)\n",
    "    + [5.4. Model Evaluation](#5.4)\n",
    " \n",
    " \n",
    "- [6. Improving the Predictive Models](#6)\n",
    "    + [6.1. Best Predictive Model](#6.1)\n",
    "    + [6.2. Problem Summary](#6.2)\n",
    "    + [6.3. Model Evaluation on New Test Dataset](#6.3)\n"
   ]
  },
  {
   "cell_type": "markdown",
   "id": "1ac7c2cf",
   "metadata": {},
   "source": [
    "***"
   ]
  },
  {
   "cell_type": "markdown",
   "id": "e3e2bbd5",
   "metadata": {},
   "source": [
    "<a id=\"1\"></a>\n",
    "# 1. Introduction"
   ]
  },
  {
   "cell_type": "markdown",
   "id": "90684c72",
   "metadata": {},
   "source": [
    "<a id=\"1.1\"></a>\n",
    "## 1.1 The Problem"
   ]
  },
  {
   "cell_type": "markdown",
   "id": "6e52bd8b",
   "metadata": {},
   "source": [
    "The focus of this project is to build a data analytics solution for death risk prediction.  \n",
    "This project will build three different prediction models that capture the relationship between the descriptive features and the target feature 'death_yn'.  \n",
    "The dataset is taken from my homework 1 assignment which cleaned and prepared the data taken from the Centers for Disease Control and Prevention (CDC) in the USA."
   ]
  },
  {
   "cell_type": "markdown",
   "id": "1332579f",
   "metadata": {},
   "source": [
    "<a id=\"1.2\"></a>\n",
    "## 1.2 The Clean Dataset"
   ]
  },
  {
   "cell_type": "code",
   "execution_count": 88,
   "id": "8784dc9d",
   "metadata": {},
   "outputs": [],
   "source": [
    "# Load in cleaned dataset from Homework 1\n",
    "df = pd.read_csv(\"data/covid19-cdc-20204844_1-2_cleaned.csv\")"
   ]
  },
  {
   "cell_type": "code",
   "execution_count": 70,
   "id": "b83c9a06",
   "metadata": {},
   "outputs": [
    {
     "name": "stdout",
     "output_type": "stream",
     "text": [
      "The dataset has 8509 rows with 10 features.\n"
     ]
    }
   ],
   "source": [
    "# Print the number of rows and features in the dataset\n",
    "num_rows = df.shape[0]\n",
    "features = df.shape[1]\n",
    "print(f\"The dataset has {num_rows} rows with {features} features.\")"
   ]
  },
  {
   "cell_type": "code",
   "execution_count": 71,
   "id": "b600e07f",
   "metadata": {
    "scrolled": true
   },
   "outputs": [
    {
     "name": "stdout",
     "output_type": "stream",
     "text": [
      "The first 5 Rows are:\n"
     ]
    },
    {
     "data": {
      "text/html": [
       "<div>\n",
       "<style scoped>\n",
       "    .dataframe tbody tr th:only-of-type {\n",
       "        vertical-align: middle;\n",
       "    }\n",
       "\n",
       "    .dataframe tbody tr th {\n",
       "        vertical-align: top;\n",
       "    }\n",
       "\n",
       "    .dataframe thead th {\n",
       "        text-align: right;\n",
       "    }\n",
       "</style>\n",
       "<table border=\"1\" class=\"dataframe\">\n",
       "  <thead>\n",
       "    <tr style=\"text-align: right;\">\n",
       "      <th></th>\n",
       "      <th>id</th>\n",
       "      <th>cdc_case_earliest_dt</th>\n",
       "      <th>onset_dt</th>\n",
       "      <th>sex</th>\n",
       "      <th>age_group</th>\n",
       "      <th>race_ethnicity_combined</th>\n",
       "      <th>hosp_yn</th>\n",
       "      <th>icu_yn</th>\n",
       "      <th>death_yn</th>\n",
       "      <th>medcond_yn</th>\n",
       "    </tr>\n",
       "  </thead>\n",
       "  <tbody>\n",
       "    <tr>\n",
       "      <th>0</th>\n",
       "      <td>0</td>\n",
       "      <td>18/03/2020</td>\n",
       "      <td>18/03/2020</td>\n",
       "      <td>Male</td>\n",
       "      <td>20 - 29 Years</td>\n",
       "      <td>Unknown</td>\n",
       "      <td>No</td>\n",
       "      <td>Unknown</td>\n",
       "      <td>No</td>\n",
       "      <td>Yes</td>\n",
       "    </tr>\n",
       "    <tr>\n",
       "      <th>1</th>\n",
       "      <td>1</td>\n",
       "      <td>04/12/2020</td>\n",
       "      <td>NaN</td>\n",
       "      <td>Female</td>\n",
       "      <td>10 - 19 Years</td>\n",
       "      <td>Multiple/Other, Non-Hispanic</td>\n",
       "      <td>No</td>\n",
       "      <td>Unknown</td>\n",
       "      <td>No</td>\n",
       "      <td>Unknown</td>\n",
       "    </tr>\n",
       "    <tr>\n",
       "      <th>2</th>\n",
       "      <td>2</td>\n",
       "      <td>12/01/2021</td>\n",
       "      <td>NaN</td>\n",
       "      <td>Male</td>\n",
       "      <td>0 - 9 Years</td>\n",
       "      <td>Unknown</td>\n",
       "      <td>Unknown</td>\n",
       "      <td>Unknown</td>\n",
       "      <td>No</td>\n",
       "      <td>Unknown</td>\n",
       "    </tr>\n",
       "    <tr>\n",
       "      <th>3</th>\n",
       "      <td>3</td>\n",
       "      <td>04/11/2020</td>\n",
       "      <td>04/11/2020</td>\n",
       "      <td>Male</td>\n",
       "      <td>50 - 59 Years</td>\n",
       "      <td>White, Non-Hispanic</td>\n",
       "      <td>No</td>\n",
       "      <td>Unknown</td>\n",
       "      <td>No</td>\n",
       "      <td>No</td>\n",
       "    </tr>\n",
       "    <tr>\n",
       "      <th>4</th>\n",
       "      <td>4</td>\n",
       "      <td>10/04/2020</td>\n",
       "      <td>10/04/2020</td>\n",
       "      <td>Male</td>\n",
       "      <td>50 - 59 Years</td>\n",
       "      <td>Unknown</td>\n",
       "      <td>No</td>\n",
       "      <td>Unknown</td>\n",
       "      <td>No</td>\n",
       "      <td>Unknown</td>\n",
       "    </tr>\n",
       "  </tbody>\n",
       "</table>\n",
       "</div>"
      ],
      "text/plain": [
       "   id cdc_case_earliest_dt    onset_dt     sex      age_group  \\\n",
       "0   0           18/03/2020  18/03/2020    Male  20 - 29 Years   \n",
       "1   1           04/12/2020         NaN  Female  10 - 19 Years   \n",
       "2   2           12/01/2021         NaN    Male    0 - 9 Years   \n",
       "3   3           04/11/2020  04/11/2020    Male  50 - 59 Years   \n",
       "4   4           10/04/2020  10/04/2020    Male  50 - 59 Years   \n",
       "\n",
       "        race_ethnicity_combined  hosp_yn   icu_yn death_yn medcond_yn  \n",
       "0                       Unknown       No  Unknown       No        Yes  \n",
       "1  Multiple/Other, Non-Hispanic       No  Unknown       No    Unknown  \n",
       "2                       Unknown  Unknown  Unknown       No    Unknown  \n",
       "3           White, Non-Hispanic       No  Unknown       No         No  \n",
       "4                       Unknown       No  Unknown       No    Unknown  "
      ]
     },
     "execution_count": 71,
     "metadata": {},
     "output_type": "execute_result"
    }
   ],
   "source": [
    "# Print the first 5 rows\n",
    "print(\"The first 5 Rows are:\")\n",
    "df.head(5)"
   ]
  },
  {
   "cell_type": "code",
   "execution_count": 72,
   "id": "303d6281",
   "metadata": {
    "scrolled": false
   },
   "outputs": [
    {
     "name": "stdout",
     "output_type": "stream",
     "text": [
      "The last 5 Rows are:\n"
     ]
    },
    {
     "data": {
      "text/html": [
       "<div>\n",
       "<style scoped>\n",
       "    .dataframe tbody tr th:only-of-type {\n",
       "        vertical-align: middle;\n",
       "    }\n",
       "\n",
       "    .dataframe tbody tr th {\n",
       "        vertical-align: top;\n",
       "    }\n",
       "\n",
       "    .dataframe thead th {\n",
       "        text-align: right;\n",
       "    }\n",
       "</style>\n",
       "<table border=\"1\" class=\"dataframe\">\n",
       "  <thead>\n",
       "    <tr style=\"text-align: right;\">\n",
       "      <th></th>\n",
       "      <th>id</th>\n",
       "      <th>cdc_case_earliest_dt</th>\n",
       "      <th>onset_dt</th>\n",
       "      <th>sex</th>\n",
       "      <th>age_group</th>\n",
       "      <th>race_ethnicity_combined</th>\n",
       "      <th>hosp_yn</th>\n",
       "      <th>icu_yn</th>\n",
       "      <th>death_yn</th>\n",
       "      <th>medcond_yn</th>\n",
       "    </tr>\n",
       "  </thead>\n",
       "  <tbody>\n",
       "    <tr>\n",
       "      <th>8504</th>\n",
       "      <td>9995</td>\n",
       "      <td>14/12/2020</td>\n",
       "      <td>14/12/2020</td>\n",
       "      <td>Male</td>\n",
       "      <td>30 - 39 Years</td>\n",
       "      <td>Unknown</td>\n",
       "      <td>No</td>\n",
       "      <td>Unknown</td>\n",
       "      <td>No</td>\n",
       "      <td>Unknown</td>\n",
       "    </tr>\n",
       "    <tr>\n",
       "      <th>8505</th>\n",
       "      <td>9996</td>\n",
       "      <td>18/08/2020</td>\n",
       "      <td>18/08/2020</td>\n",
       "      <td>Male</td>\n",
       "      <td>50 - 59 Years</td>\n",
       "      <td>White, Non-Hispanic</td>\n",
       "      <td>Unknown</td>\n",
       "      <td>Unknown</td>\n",
       "      <td>No</td>\n",
       "      <td>No</td>\n",
       "    </tr>\n",
       "    <tr>\n",
       "      <th>8506</th>\n",
       "      <td>9997</td>\n",
       "      <td>15/04/2020</td>\n",
       "      <td>15/04/2020</td>\n",
       "      <td>Male</td>\n",
       "      <td>50 - 59 Years</td>\n",
       "      <td>Hispanic/Latino</td>\n",
       "      <td>No</td>\n",
       "      <td>Unknown</td>\n",
       "      <td>No</td>\n",
       "      <td>Yes</td>\n",
       "    </tr>\n",
       "    <tr>\n",
       "      <th>8507</th>\n",
       "      <td>9998</td>\n",
       "      <td>17/12/2020</td>\n",
       "      <td>NaN</td>\n",
       "      <td>Male</td>\n",
       "      <td>40 - 49 Years</td>\n",
       "      <td>White, Non-Hispanic</td>\n",
       "      <td>No</td>\n",
       "      <td>Unknown</td>\n",
       "      <td>No</td>\n",
       "      <td>Unknown</td>\n",
       "    </tr>\n",
       "    <tr>\n",
       "      <th>8508</th>\n",
       "      <td>9999</td>\n",
       "      <td>29/06/2020</td>\n",
       "      <td>NaN</td>\n",
       "      <td>Female</td>\n",
       "      <td>30 - 39 Years</td>\n",
       "      <td>White, Non-Hispanic</td>\n",
       "      <td>No</td>\n",
       "      <td>Unknown</td>\n",
       "      <td>No</td>\n",
       "      <td>Unknown</td>\n",
       "    </tr>\n",
       "  </tbody>\n",
       "</table>\n",
       "</div>"
      ],
      "text/plain": [
       "        id cdc_case_earliest_dt    onset_dt     sex      age_group  \\\n",
       "8504  9995           14/12/2020  14/12/2020    Male  30 - 39 Years   \n",
       "8505  9996           18/08/2020  18/08/2020    Male  50 - 59 Years   \n",
       "8506  9997           15/04/2020  15/04/2020    Male  50 - 59 Years   \n",
       "8507  9998           17/12/2020         NaN    Male  40 - 49 Years   \n",
       "8508  9999           29/06/2020         NaN  Female  30 - 39 Years   \n",
       "\n",
       "     race_ethnicity_combined  hosp_yn   icu_yn death_yn medcond_yn  \n",
       "8504                 Unknown       No  Unknown       No    Unknown  \n",
       "8505     White, Non-Hispanic  Unknown  Unknown       No         No  \n",
       "8506         Hispanic/Latino       No  Unknown       No        Yes  \n",
       "8507     White, Non-Hispanic       No  Unknown       No    Unknown  \n",
       "8508     White, Non-Hispanic       No  Unknown       No    Unknown  "
      ]
     },
     "execution_count": 72,
     "metadata": {},
     "output_type": "execute_result"
    }
   ],
   "source": [
    "print(\"The last 5 Rows are:\")\n",
    "df.tail(5)"
   ]
  },
  {
   "cell_type": "code",
   "execution_count": 73,
   "id": "e3b04783",
   "metadata": {
    "scrolled": true
   },
   "outputs": [
    {
     "data": {
      "text/plain": [
       "id                          int64\n",
       "cdc_case_earliest_dt       object\n",
       "onset_dt                   object\n",
       "sex                        object\n",
       "age_group                  object\n",
       "race_ethnicity_combined    object\n",
       "hosp_yn                    object\n",
       "icu_yn                     object\n",
       "death_yn                   object\n",
       "medcond_yn                 object\n",
       "dtype: object"
      ]
     },
     "execution_count": 73,
     "metadata": {},
     "output_type": "execute_result"
    }
   ],
   "source": [
    "df.dtypes"
   ]
  },
  {
   "cell_type": "code",
   "execution_count": 74,
   "id": "495f4620",
   "metadata": {},
   "outputs": [],
   "source": [
    "# Select columns containing categorical data\n",
    "categorical_features = df[['sex','age_group','race_ethnicity_combined','hosp_yn','icu_yn','death_yn','medcond_yn']].columns\n",
    "\n",
    "# Change the column type to category\n",
    "for column in categorical_features:\n",
    "    df[column] = df[column].astype('category')"
   ]
  },
  {
   "cell_type": "code",
   "execution_count": 75,
   "id": "fac898d3",
   "metadata": {},
   "outputs": [],
   "source": [
    "# Select columns containing continuous data (the dates)\n",
    "continuous_features = df[['cdc_case_earliest_dt','onset_dt']].columns\n",
    "\n",
    "# Change the column type to datetime\n",
    "for column in continuous_features:\n",
    "    df[column] = df[column].astype('datetime64')"
   ]
  },
  {
   "cell_type": "code",
   "execution_count": 76,
   "id": "c766db78",
   "metadata": {
    "scrolled": true
   },
   "outputs": [
    {
     "data": {
      "text/plain": [
       "id                                  int64\n",
       "cdc_case_earliest_dt       datetime64[ns]\n",
       "onset_dt                   datetime64[ns]\n",
       "sex                              category\n",
       "age_group                        category\n",
       "race_ethnicity_combined          category\n",
       "hosp_yn                          category\n",
       "icu_yn                           category\n",
       "death_yn                         category\n",
       "medcond_yn                       category\n",
       "dtype: object"
      ]
     },
     "execution_count": 76,
     "metadata": {},
     "output_type": "execute_result"
    }
   ],
   "source": [
    "df.dtypes"
   ]
  },
  {
   "cell_type": "code",
   "execution_count": 77,
   "id": "dc1e0788",
   "metadata": {},
   "outputs": [
    {
     "data": {
      "text/plain": [
       "No     8214\n",
       "Yes     295\n",
       "Name: death_yn, dtype: int64"
      ]
     },
     "execution_count": 77,
     "metadata": {},
     "output_type": "execute_result"
    }
   ],
   "source": [
    "# Print data balance of target feature\n",
    "df['death_yn'].value_counts()"
   ]
  },
  {
   "cell_type": "markdown",
   "id": "81815ea9",
   "metadata": {},
   "source": [
    "***"
   ]
  },
  {
   "cell_type": "markdown",
   "id": "53f3b5ee",
   "metadata": {},
   "source": [
    "<a id=\"2\"></a>\n",
    "# 2. Data Understanding and Preparation\n",
    "Exploring relationships between feature pairs and selecting/transforming promising features based on a given training set."
   ]
  },
  {
   "cell_type": "markdown",
   "id": "2f1ad3c9",
   "metadata": {},
   "source": [
    "<a id=\"2.1\"></a>\n",
    "## 2.1 Splitting Dataset into Training and Test Sets"
   ]
  },
  {
   "cell_type": "code",
   "execution_count": 89,
   "id": "ad74ec57",
   "metadata": {
    "scrolled": false
   },
   "outputs": [
    {
     "data": {
      "text/html": [
       "<div>\n",
       "<style scoped>\n",
       "    .dataframe tbody tr th:only-of-type {\n",
       "        vertical-align: middle;\n",
       "    }\n",
       "\n",
       "    .dataframe tbody tr th {\n",
       "        vertical-align: top;\n",
       "    }\n",
       "\n",
       "    .dataframe thead th {\n",
       "        text-align: right;\n",
       "    }\n",
       "</style>\n",
       "<table border=\"1\" class=\"dataframe\">\n",
       "  <thead>\n",
       "    <tr style=\"text-align: right;\">\n",
       "      <th></th>\n",
       "      <th>id</th>\n",
       "      <th>cdc_case_earliest_dt</th>\n",
       "      <th>onset_dt</th>\n",
       "      <th>sex</th>\n",
       "      <th>age_group</th>\n",
       "      <th>race_ethnicity_combined</th>\n",
       "      <th>hosp_yn</th>\n",
       "      <th>icu_yn</th>\n",
       "      <th>medcond_yn</th>\n",
       "      <th>DeathClass</th>\n",
       "    </tr>\n",
       "  </thead>\n",
       "  <tbody>\n",
       "    <tr>\n",
       "      <th>0</th>\n",
       "      <td>0</td>\n",
       "      <td>18/03/2020</td>\n",
       "      <td>18/03/2020</td>\n",
       "      <td>Male</td>\n",
       "      <td>20 - 29 Years</td>\n",
       "      <td>Unknown</td>\n",
       "      <td>No</td>\n",
       "      <td>Unknown</td>\n",
       "      <td>Yes</td>\n",
       "      <td>0.0</td>\n",
       "    </tr>\n",
       "    <tr>\n",
       "      <th>1</th>\n",
       "      <td>1</td>\n",
       "      <td>04/12/2020</td>\n",
       "      <td>NaN</td>\n",
       "      <td>Female</td>\n",
       "      <td>10 - 19 Years</td>\n",
       "      <td>Multiple/Other, Non-Hispanic</td>\n",
       "      <td>No</td>\n",
       "      <td>Unknown</td>\n",
       "      <td>Unknown</td>\n",
       "      <td>0.0</td>\n",
       "    </tr>\n",
       "    <tr>\n",
       "      <th>2</th>\n",
       "      <td>2</td>\n",
       "      <td>12/01/2021</td>\n",
       "      <td>NaN</td>\n",
       "      <td>Male</td>\n",
       "      <td>0 - 9 Years</td>\n",
       "      <td>Unknown</td>\n",
       "      <td>Unknown</td>\n",
       "      <td>Unknown</td>\n",
       "      <td>Unknown</td>\n",
       "      <td>0.0</td>\n",
       "    </tr>\n",
       "    <tr>\n",
       "      <th>3</th>\n",
       "      <td>3</td>\n",
       "      <td>04/11/2020</td>\n",
       "      <td>04/11/2020</td>\n",
       "      <td>Male</td>\n",
       "      <td>50 - 59 Years</td>\n",
       "      <td>White, Non-Hispanic</td>\n",
       "      <td>No</td>\n",
       "      <td>Unknown</td>\n",
       "      <td>No</td>\n",
       "      <td>0.0</td>\n",
       "    </tr>\n",
       "    <tr>\n",
       "      <th>4</th>\n",
       "      <td>4</td>\n",
       "      <td>10/04/2020</td>\n",
       "      <td>10/04/2020</td>\n",
       "      <td>Male</td>\n",
       "      <td>50 - 59 Years</td>\n",
       "      <td>Unknown</td>\n",
       "      <td>No</td>\n",
       "      <td>Unknown</td>\n",
       "      <td>Unknown</td>\n",
       "      <td>0.0</td>\n",
       "    </tr>\n",
       "    <tr>\n",
       "      <th>...</th>\n",
       "      <td>...</td>\n",
       "      <td>...</td>\n",
       "      <td>...</td>\n",
       "      <td>...</td>\n",
       "      <td>...</td>\n",
       "      <td>...</td>\n",
       "      <td>...</td>\n",
       "      <td>...</td>\n",
       "      <td>...</td>\n",
       "      <td>...</td>\n",
       "    </tr>\n",
       "    <tr>\n",
       "      <th>8504</th>\n",
       "      <td>9995</td>\n",
       "      <td>14/12/2020</td>\n",
       "      <td>14/12/2020</td>\n",
       "      <td>Male</td>\n",
       "      <td>30 - 39 Years</td>\n",
       "      <td>Unknown</td>\n",
       "      <td>No</td>\n",
       "      <td>Unknown</td>\n",
       "      <td>Unknown</td>\n",
       "      <td>0.0</td>\n",
       "    </tr>\n",
       "    <tr>\n",
       "      <th>8505</th>\n",
       "      <td>9996</td>\n",
       "      <td>18/08/2020</td>\n",
       "      <td>18/08/2020</td>\n",
       "      <td>Male</td>\n",
       "      <td>50 - 59 Years</td>\n",
       "      <td>White, Non-Hispanic</td>\n",
       "      <td>Unknown</td>\n",
       "      <td>Unknown</td>\n",
       "      <td>No</td>\n",
       "      <td>0.0</td>\n",
       "    </tr>\n",
       "    <tr>\n",
       "      <th>8506</th>\n",
       "      <td>9997</td>\n",
       "      <td>15/04/2020</td>\n",
       "      <td>15/04/2020</td>\n",
       "      <td>Male</td>\n",
       "      <td>50 - 59 Years</td>\n",
       "      <td>Hispanic/Latino</td>\n",
       "      <td>No</td>\n",
       "      <td>Unknown</td>\n",
       "      <td>Yes</td>\n",
       "      <td>0.0</td>\n",
       "    </tr>\n",
       "    <tr>\n",
       "      <th>8507</th>\n",
       "      <td>9998</td>\n",
       "      <td>17/12/2020</td>\n",
       "      <td>NaN</td>\n",
       "      <td>Male</td>\n",
       "      <td>40 - 49 Years</td>\n",
       "      <td>White, Non-Hispanic</td>\n",
       "      <td>No</td>\n",
       "      <td>Unknown</td>\n",
       "      <td>Unknown</td>\n",
       "      <td>0.0</td>\n",
       "    </tr>\n",
       "    <tr>\n",
       "      <th>8508</th>\n",
       "      <td>9999</td>\n",
       "      <td>29/06/2020</td>\n",
       "      <td>NaN</td>\n",
       "      <td>Female</td>\n",
       "      <td>30 - 39 Years</td>\n",
       "      <td>White, Non-Hispanic</td>\n",
       "      <td>No</td>\n",
       "      <td>Unknown</td>\n",
       "      <td>Unknown</td>\n",
       "      <td>0.0</td>\n",
       "    </tr>\n",
       "  </tbody>\n",
       "</table>\n",
       "<p>8509 rows × 10 columns</p>\n",
       "</div>"
      ],
      "text/plain": [
       "        id cdc_case_earliest_dt    onset_dt     sex      age_group  \\\n",
       "0        0           18/03/2020  18/03/2020    Male  20 - 29 Years   \n",
       "1        1           04/12/2020         NaN  Female  10 - 19 Years   \n",
       "2        2           12/01/2021         NaN    Male    0 - 9 Years   \n",
       "3        3           04/11/2020  04/11/2020    Male  50 - 59 Years   \n",
       "4        4           10/04/2020  10/04/2020    Male  50 - 59 Years   \n",
       "...    ...                  ...         ...     ...            ...   \n",
       "8504  9995           14/12/2020  14/12/2020    Male  30 - 39 Years   \n",
       "8505  9996           18/08/2020  18/08/2020    Male  50 - 59 Years   \n",
       "8506  9997           15/04/2020  15/04/2020    Male  50 - 59 Years   \n",
       "8507  9998           17/12/2020         NaN    Male  40 - 49 Years   \n",
       "8508  9999           29/06/2020         NaN  Female  30 - 39 Years   \n",
       "\n",
       "           race_ethnicity_combined  hosp_yn   icu_yn medcond_yn  DeathClass  \n",
       "0                          Unknown       No  Unknown        Yes         0.0  \n",
       "1     Multiple/Other, Non-Hispanic       No  Unknown    Unknown         0.0  \n",
       "2                          Unknown  Unknown  Unknown    Unknown         0.0  \n",
       "3              White, Non-Hispanic       No  Unknown         No         0.0  \n",
       "4                          Unknown       No  Unknown    Unknown         0.0  \n",
       "...                            ...      ...      ...        ...         ...  \n",
       "8504                       Unknown       No  Unknown    Unknown         0.0  \n",
       "8505           White, Non-Hispanic  Unknown  Unknown         No         0.0  \n",
       "8506               Hispanic/Latino       No  Unknown        Yes         0.0  \n",
       "8507           White, Non-Hispanic       No  Unknown    Unknown         0.0  \n",
       "8508           White, Non-Hispanic       No  Unknown    Unknown         0.0  \n",
       "\n",
       "[8509 rows x 10 columns]"
      ]
     },
     "execution_count": 89,
     "metadata": {},
     "output_type": "execute_result"
    }
   ],
   "source": [
    "# Transform target feature death_yn into a categorical feature named death class\n",
    "DeathClass = (df.death_yn == \"Yes\") * 1.0\n",
    "\n",
    "# Add DeathClass to dataframe and drop death_yn\n",
    "df['DeathClass'] = DeathClass\n",
    "df.drop('death_yn', axis=1, inplace=True)\n",
    "df"
   ]
  },
  {
   "cell_type": "code",
   "execution_count": 90,
   "id": "7bddb506",
   "metadata": {},
   "outputs": [],
   "source": [
    "# Randomly shuffle the rows of the dataset and split into train/test, 70/30\n",
    "X = df[['cdc_case_earliest_dt','onset_dt','sex','age_group','race_ethnicity_combined','hosp_yn','icu_yn','medcond_yn']]\n",
    "y = df[['DeathClass']]\n",
    "\n",
    "# Random state set to 1 so split is always the same\n",
    "X_train, X_test, y_train, y_test = train_test_split(X, y, test_size=0.3, train_size=0.7, random_state=1, shuffle=True)"
   ]
  },
  {
   "cell_type": "markdown",
   "id": "7e804156",
   "metadata": {},
   "source": [
    "<a id=\"2.2\"></a>\n",
    "## 2.2 On the Training Set"
   ]
  },
  {
   "cell_type": "markdown",
   "id": "bc875fdb",
   "metadata": {},
   "source": [
    "<a id=\"2.2.1\"></a>\n",
    "### 2.2.1. Correlations between Continuous Features"
   ]
  },
  {
   "cell_type": "markdown",
   "id": "46adde62",
   "metadata": {},
   "source": [
    "The only continuous features in this dataset are the two datetime features 'cdc_case_earliest_dt' and 'onset_dt'.  \n",
    "The relationships between these two features and the target feature are plotted below."
   ]
  },
  {
   "cell_type": "markdown",
   "id": "70560c27",
   "metadata": {},
   "source": [
    "<a id=\"2.2.2\"></a>\n",
    "### 2.2.2. Continuous Features Interaction with Target Feature"
   ]
  },
  {
   "cell_type": "code",
   "execution_count": 14,
   "id": "f49470a6",
   "metadata": {},
   "outputs": [
    {
     "data": {
      "image/png": "[encoded data removed]",
      "text/plain": [
       "<Figure size 576x576 with 1 Axes>"
      ]
     },
     "metadata": {},
     "output_type": "display_data"
    }
   ],
   "source": [
    "# Plot interaction between cdc_case_earliest_dt and DeathClass\n",
    "# Create figure and plot space\n",
    "fig, ax = plt.subplots(figsize=(8, 8))\n",
    "\n",
    "# Add x-axis and y-axis\n",
    "x = X_train['cdc_case_earliest_dt'].values\n",
    "y = y_train\n",
    "ax.scatter(x, y)\n",
    "\n",
    "plt.show()"
   ]
  },
  {
   "cell_type": "code",
   "execution_count": 15,
   "id": "94ca4c26",
   "metadata": {},
   "outputs": [
    {
     "data": {
      "image/png": "[encoded data removed]",
      "text/plain": [
       "<Figure size 576x576 with 1 Axes>"
      ]
     },
     "metadata": {},
     "output_type": "display_data"
    }
   ],
   "source": [
    "# Plot interaction between onset_dt and DeathClass\n",
    "# Create figure and plot space\n",
    "fig, ax = plt.subplots(figsize=(8, 8))\n",
    "\n",
    "# Add x-axis and y-axis\n",
    "x = X_train['onset_dt'].values\n",
    "y = y_train\n",
    "ax.scatter(x, y)\n",
    "\n",
    "plt.show()"
   ]
  },
  {
   "cell_type": "markdown",
   "id": "11ce2840",
   "metadata": {},
   "source": [
    "From these plots we can observe that there is no correlation between either of the continuous features and the target feature in this dataset."
   ]
  },
  {
   "cell_type": "markdown",
   "id": "44d1a02d",
   "metadata": {},
   "source": [
    "<a id=\"2.2.3\"></a>\n",
    "### 2.2.3. Promising Continuous Features"
   ]
  },
  {
   "cell_type": "markdown",
   "id": "efad2e39",
   "metadata": {},
   "source": [
    "I have decided not to choose either of the continuous features and they do not appear to be promising. There appears to be no correlation between either of the continous features and the target feature."
   ]
  },
  {
   "cell_type": "code",
   "execution_count": 91,
   "id": "aa17ebc1",
   "metadata": {},
   "outputs": [],
   "source": [
    "# Drop the continuous features \n",
    "X_train = X_train.drop(columns=['cdc_case_earliest_dt', 'onset_dt'])\n",
    "X_test = X_test.drop(columns=['cdc_case_earliest_dt', 'onset_dt'])"
   ]
  },
  {
   "cell_type": "markdown",
   "id": "d7f8ee76",
   "metadata": {},
   "source": [
    "<a id=\"2.2.4\"></a>\n",
    "### 2.2.4. Categorical Feature Pairwise Interactions with Target Feature"
   ]
  },
  {
   "cell_type": "code",
   "execution_count": 17,
   "id": "fc3b914f",
   "metadata": {},
   "outputs": [
    {
     "data": {
      "image/png": "[encoded data removed]",
      "text/plain": [
       "<Figure size 720x720 with 1 Axes>"
      ]
     },
     "metadata": {},
     "output_type": "display_data"
    }
   ],
   "source": [
    "# Plot sex against DeathClass\n",
    "plot = sns.catplot(x='sex', y='DeathClass', data=pd.concat([X_train, y_train], axis=1), kind=\"violin\", height=10)\n",
    "plot.savefig('plots/sex-DeathClass.png')"
   ]
  },
  {
   "cell_type": "code",
   "execution_count": 18,
   "id": "18fdb0f7",
   "metadata": {},
   "outputs": [
    {
     "data": {
      "image/png": "[encoded data removed]",
      "text/plain": [
       "<Figure size 720x720 with 1 Axes>"
      ]
     },
     "metadata": {},
     "output_type": "display_data"
    }
   ],
   "source": [
    "# Plot age_group against DeathClass\n",
    "plot = sns.catplot(x='age_group', y='DeathClass', data=pd.concat([X_train, y_train], axis=1), kind=\"violin\", height=10)\n",
    "plot.savefig('plots/age_group-DeathClass.png')"
   ]
  },
  {
   "cell_type": "code",
   "execution_count": 19,
   "id": "937f0489",
   "metadata": {},
   "outputs": [
    {
     "data": {
      "image/png": "[encoded data removed]",
      "text/plain": [
       "<Figure size 720x720 with 1 Axes>"
      ]
     },
     "metadata": {},
     "output_type": "display_data"
    }
   ],
   "source": [
    "# Plot race_ethnicity_combined against DeathClass\n",
    "plot = sns.catplot(x='race_ethnicity_combined', y='DeathClass', data=pd.concat([X_train, y_train], axis=1), kind=\"violin\", height=10)\n",
    "plot.set_xticklabels(rotation=70)\n",
    "plot.savefig('plots/race_ethnicity_combined-DeathClass.png')"
   ]
  },
  {
   "cell_type": "code",
   "execution_count": 20,
   "id": "083efe85",
   "metadata": {},
   "outputs": [
    {
     "data": {
      "image/png": "[encoded data removed]",
      "text/plain": [
       "<Figure size 720x720 with 1 Axes>"
      ]
     },
     "metadata": {},
     "output_type": "display_data"
    }
   ],
   "source": [
    "# Plot hosp_yn against DeathClass\n",
    "plot = sns.catplot(x='hosp_yn', y='DeathClass', data=pd.concat([X_train, y_train], axis=1), kind=\"violin\", height=10)\n",
    "plot.savefig('plots/hosp_yn-DeathClass.png')"
   ]
  },
  {
   "cell_type": "code",
   "execution_count": 21,
   "id": "bb5394e0",
   "metadata": {},
   "outputs": [
    {
     "data": {
      "image/png": "[encoded data removed]",
      "text/plain": [
       "<Figure size 720x720 with 1 Axes>"
      ]
     },
     "metadata": {},
     "output_type": "display_data"
    }
   ],
   "source": [
    "# Plot icu_yn against DeathClass\n",
    "plot = sns.catplot(x='icu_yn', y='DeathClass', data=pd.concat([X_train, y_train], axis=1), kind='violin', height=10)\n",
    "plot.savefig('plots/icu_yn-DeathClass.png')"
   ]
  },
  {
   "cell_type": "code",
   "execution_count": 22,
   "id": "51d74328",
   "metadata": {},
   "outputs": [
    {
     "data": {
      "image/png": "[encoded data removed]",
      "text/plain": [
       "<Figure size 720x720 with 1 Axes>"
      ]
     },
     "metadata": {},
     "output_type": "display_data"
    }
   ],
   "source": [
    "# Plot medcond_yn against DeathClass\n",
    "plot = sns.catplot(x='medcond_yn', y='DeathClass', data=pd.concat([X_train, y_train], axis=1), kind=\"violin\", height=10)\n",
    "plot.savefig('plots/medcond_yn-DeathClass.png')"
   ]
  },
  {
   "cell_type": "markdown",
   "id": "d24943f4",
   "metadata": {},
   "source": [
    "#### Observations"
   ]
  },
  {
   "cell_type": "markdown",
   "id": "998dbf08",
   "metadata": {},
   "source": [
    "**sex**  \n",
    "There appears to be no strong correlation between either sex and the target feature. However, in this dataset, a higher proportion of males have a death class of 1. This feature also has a very high number of unknown values.\n",
    "\n",
    "**age_group**  \n",
    "There seems to be some correlation with age_group and DeathClass. In the younger age groups there is little to no occurrences of the DeathClass equalling 1. As age progresses the data becomes evenly spread between across the target feature.\n",
    "\n",
    "**race_ethnicity_combined**  \n",
    "There does not appear to be any strong correlation between any category in this feature and the target feature.\n",
    "\n",
    "**hosp_yn**  \n",
    "It seems that a very high majority of the entries with 'No' for this feature resulted in a DeathClass of 0. There also appears to be some relationship between entries that answered 'Yes' and a DeathClass of 1.\n",
    "\n",
    "**icu_yn**  \n",
    "As with hosp_yn, for this feature there appears to be a slight relationship between the 'Yes' category of this feature and the target feature.\n",
    "\n",
    "**medcond_yn**  \n",
    "Again, while not as significant as the previous two features, there seems to be a slight relationship between the 'Yes' category and the target feature.\n"
   ]
  },
  {
   "cell_type": "markdown",
   "id": "06ab5c79",
   "metadata": {},
   "source": [
    "***"
   ]
  },
  {
   "cell_type": "markdown",
   "id": "c799862f",
   "metadata": {},
   "source": [
    "<a id=\"2.2.5\"></a>\n",
    "### 2.2.5. Promising Categorical Features"
   ]
  },
  {
   "cell_type": "markdown",
   "id": "03a5f9c2",
   "metadata": {},
   "source": [
    "Based on the findings above I have decided that the features that I find promising are:\n",
    " - sex\n",
    " - age_group\n",
    " - hosp_yn\n",
    " - icu_yn\n",
    " - medcond_yn\n",
    "    \n",
    "In order to train the models I will convert these features into dummy variables."
   ]
  },
  {
   "cell_type": "markdown",
   "id": "89575a20",
   "metadata": {},
   "source": [
    "#### Tranforming the Features To Dummy Variables"
   ]
  },
  {
   "cell_type": "code",
   "execution_count": null,
   "id": "a23814ad",
   "metadata": {},
   "outputs": [],
   "source": [
    "# Create dummy variables for sex\n",
    "df_dummies_sex = pd.get_dummies(X_train['sex'])\n",
    "df_dummies_sex.head()\n",
    "# Add dummies to the training set\n",
    "X_train = pd.concat([X_train, df_dummies_sex[['Female', 'Male']]], axis=1)\n",
    "#X_train.head()"
   ]
  },
  {
   "cell_type": "code",
   "execution_count": 93,
   "id": "5a52c21f",
   "metadata": {},
   "outputs": [],
   "source": [
    "# Create dummy variables for age_group\n",
    "df_dummies_age = pd.get_dummies(X_train['age_group'])\n",
    "\n",
    "# Add dummies to the training set\n",
    "X_train = pd.concat([X_train, df_dummies_age], axis=1)\n",
    "X_train = X_train.drop(columns='80+ Years')\n",
    "#X_train.head()"
   ]
  },
  {
   "cell_type": "code",
   "execution_count": 94,
   "id": "e8e2a761",
   "metadata": {},
   "outputs": [],
   "source": [
    "# Create dummy variables for hosp_yn\n",
    "df_dummies_hosp = pd.get_dummies(X_train['hosp_yn'])\n",
    "df_dummies_hosp = df_dummies_hosp.rename(columns={'No':'hosp_No', 'Yes':'hosp_Yes'})\n",
    "df_dummies_hosp = df_dummies_hosp.drop(columns='Unknown')\n",
    "\n",
    "# Add dummies to the training set\n",
    "X_train = pd.concat([X_train, df_dummies_hosp], axis=1)\n",
    "#X_train.head()"
   ]
  },
  {
   "cell_type": "code",
   "execution_count": 95,
   "id": "7aa09849",
   "metadata": {
    "scrolled": false
   },
   "outputs": [],
   "source": [
    "# Create dummy variables for hosp_yn\n",
    "df_dummies_icu = pd.get_dummies(X_train['icu_yn'])\n",
    "df_dummies_icu = df_dummies_icu.rename(columns={'No':'icu_No', 'Yes':'icu_Yes'})\n",
    "df_dummies_icu = df_dummies_icu.drop(columns='Unknown')\n",
    "\n",
    "# Add dummies to the training set\n",
    "X_train = pd.concat([X_train, df_dummies_icu], axis=1)\n",
    "#X_train.head()"
   ]
  },
  {
   "cell_type": "code",
   "execution_count": 96,
   "id": "11736894",
   "metadata": {},
   "outputs": [],
   "source": [
    "# Create dummy variables for hosp_yn\n",
    "df_dummies_hosp = pd.get_dummies(X_train['medcond_yn'])\n",
    "df_dummies_hosp = df_dummies_hosp.rename(columns={'No':'medcond_No', 'Yes':'medcond_Yes'})\n",
    "df_dummies_hosp = df_dummies_hosp.drop(columns='Unknown')\n",
    "\n",
    "# Add dummies to the training set\n",
    "X_train = pd.concat([X_train, df_dummies_hosp], axis=1)\n",
    "#X_train.head()"
   ]
  },
  {
   "cell_type": "code",
   "execution_count": 97,
   "id": "add81281",
   "metadata": {
    "scrolled": true
   },
   "outputs": [
    {
     "data": {
      "text/html": [
       "<div>\n",
       "<style scoped>\n",
       "    .dataframe tbody tr th:only-of-type {\n",
       "        vertical-align: middle;\n",
       "    }\n",
       "\n",
       "    .dataframe tbody tr th {\n",
       "        vertical-align: top;\n",
       "    }\n",
       "\n",
       "    .dataframe thead th {\n",
       "        text-align: right;\n",
       "    }\n",
       "</style>\n",
       "<table border=\"1\" class=\"dataframe\">\n",
       "  <thead>\n",
       "    <tr style=\"text-align: right;\">\n",
       "      <th></th>\n",
       "      <th>Female</th>\n",
       "      <th>Male</th>\n",
       "      <th>0 - 9 Years</th>\n",
       "      <th>10 - 19 Years</th>\n",
       "      <th>20 - 29 Years</th>\n",
       "      <th>30 - 39 Years</th>\n",
       "      <th>40 - 49 Years</th>\n",
       "      <th>50 - 59 Years</th>\n",
       "      <th>60 - 69 Years</th>\n",
       "      <th>70 - 79 Years</th>\n",
       "      <th>hosp_No</th>\n",
       "      <th>hosp_Yes</th>\n",
       "      <th>icu_No</th>\n",
       "      <th>icu_Yes</th>\n",
       "      <th>medcond_No</th>\n",
       "      <th>medcond_Yes</th>\n",
       "    </tr>\n",
       "  </thead>\n",
       "  <tbody>\n",
       "    <tr>\n",
       "      <th>8284</th>\n",
       "      <td>1</td>\n",
       "      <td>0</td>\n",
       "      <td>0</td>\n",
       "      <td>0</td>\n",
       "      <td>0</td>\n",
       "      <td>0</td>\n",
       "      <td>0</td>\n",
       "      <td>0</td>\n",
       "      <td>0</td>\n",
       "      <td>0</td>\n",
       "      <td>1</td>\n",
       "      <td>0</td>\n",
       "      <td>0</td>\n",
       "      <td>0</td>\n",
       "      <td>0</td>\n",
       "      <td>0</td>\n",
       "    </tr>\n",
       "    <tr>\n",
       "      <th>4965</th>\n",
       "      <td>1</td>\n",
       "      <td>0</td>\n",
       "      <td>0</td>\n",
       "      <td>0</td>\n",
       "      <td>0</td>\n",
       "      <td>0</td>\n",
       "      <td>0</td>\n",
       "      <td>0</td>\n",
       "      <td>0</td>\n",
       "      <td>0</td>\n",
       "      <td>1</td>\n",
       "      <td>0</td>\n",
       "      <td>0</td>\n",
       "      <td>0</td>\n",
       "      <td>0</td>\n",
       "      <td>0</td>\n",
       "    </tr>\n",
       "    <tr>\n",
       "      <th>940</th>\n",
       "      <td>0</td>\n",
       "      <td>1</td>\n",
       "      <td>0</td>\n",
       "      <td>0</td>\n",
       "      <td>0</td>\n",
       "      <td>0</td>\n",
       "      <td>0</td>\n",
       "      <td>1</td>\n",
       "      <td>0</td>\n",
       "      <td>0</td>\n",
       "      <td>1</td>\n",
       "      <td>0</td>\n",
       "      <td>0</td>\n",
       "      <td>0</td>\n",
       "      <td>0</td>\n",
       "      <td>1</td>\n",
       "    </tr>\n",
       "    <tr>\n",
       "      <th>3178</th>\n",
       "      <td>1</td>\n",
       "      <td>0</td>\n",
       "      <td>0</td>\n",
       "      <td>0</td>\n",
       "      <td>0</td>\n",
       "      <td>0</td>\n",
       "      <td>0</td>\n",
       "      <td>1</td>\n",
       "      <td>0</td>\n",
       "      <td>0</td>\n",
       "      <td>1</td>\n",
       "      <td>0</td>\n",
       "      <td>0</td>\n",
       "      <td>0</td>\n",
       "      <td>0</td>\n",
       "      <td>0</td>\n",
       "    </tr>\n",
       "    <tr>\n",
       "      <th>5272</th>\n",
       "      <td>1</td>\n",
       "      <td>0</td>\n",
       "      <td>0</td>\n",
       "      <td>0</td>\n",
       "      <td>0</td>\n",
       "      <td>0</td>\n",
       "      <td>0</td>\n",
       "      <td>0</td>\n",
       "      <td>0</td>\n",
       "      <td>1</td>\n",
       "      <td>0</td>\n",
       "      <td>1</td>\n",
       "      <td>0</td>\n",
       "      <td>0</td>\n",
       "      <td>0</td>\n",
       "      <td>0</td>\n",
       "    </tr>\n",
       "  </tbody>\n",
       "</table>\n",
       "</div>"
      ],
      "text/plain": [
       "      Female  Male  0 - 9 Years  10 - 19 Years  20 - 29 Years  30 - 39 Years  \\\n",
       "8284       1     0            0              0              0              0   \n",
       "4965       1     0            0              0              0              0   \n",
       "940        0     1            0              0              0              0   \n",
       "3178       1     0            0              0              0              0   \n",
       "5272       1     0            0              0              0              0   \n",
       "\n",
       "      40 - 49 Years  50 - 59 Years  60 - 69 Years  70 - 79 Years  hosp_No  \\\n",
       "8284              0              0              0              0        1   \n",
       "4965              0              0              0              0        1   \n",
       "940               0              1              0              0        1   \n",
       "3178              0              1              0              0        1   \n",
       "5272              0              0              0              1        0   \n",
       "\n",
       "      hosp_Yes  icu_No  icu_Yes  medcond_No  medcond_Yes  \n",
       "8284         0       0        0           0            0  \n",
       "4965         0       0        0           0            0  \n",
       "940          0       0        0           0            1  \n",
       "3178         0       0        0           0            0  \n",
       "5272         1       0        0           0            0  "
      ]
     },
     "execution_count": 97,
     "metadata": {},
     "output_type": "execute_result"
    }
   ],
   "source": [
    "# Drop original features\n",
    "X_train = X_train.drop(columns=['sex', 'age_group', 'race_ethnicity_combined', 'hosp_yn', 'icu_yn', 'medcond_yn'])\n",
    "X_train.head()"
   ]
  },
  {
   "cell_type": "code",
   "execution_count": 98,
   "id": "a8550f21",
   "metadata": {},
   "outputs": [
    {
     "data": {
      "text/html": [
       "<div>\n",
       "<style scoped>\n",
       "    .dataframe tbody tr th:only-of-type {\n",
       "        vertical-align: middle;\n",
       "    }\n",
       "\n",
       "    .dataframe tbody tr th {\n",
       "        vertical-align: top;\n",
       "    }\n",
       "\n",
       "    .dataframe thead th {\n",
       "        text-align: right;\n",
       "    }\n",
       "</style>\n",
       "<table border=\"1\" class=\"dataframe\">\n",
       "  <thead>\n",
       "    <tr style=\"text-align: right;\">\n",
       "      <th></th>\n",
       "      <th>Female</th>\n",
       "      <th>Male</th>\n",
       "      <th>0 - 9 Years</th>\n",
       "      <th>10 - 19 Years</th>\n",
       "      <th>20 - 29 Years</th>\n",
       "      <th>30 - 39 Years</th>\n",
       "      <th>40 - 49 Years</th>\n",
       "      <th>50 - 59 Years</th>\n",
       "      <th>60 - 69 Years</th>\n",
       "      <th>70 - 79 Years</th>\n",
       "      <th>hosp_No</th>\n",
       "      <th>hosp_Yes</th>\n",
       "      <th>icu_No</th>\n",
       "      <th>icu_Yes</th>\n",
       "      <th>medcond_No</th>\n",
       "      <th>medcond_Yes</th>\n",
       "    </tr>\n",
       "  </thead>\n",
       "  <tbody>\n",
       "    <tr>\n",
       "      <th>5179</th>\n",
       "      <td>0</td>\n",
       "      <td>1</td>\n",
       "      <td>0</td>\n",
       "      <td>0</td>\n",
       "      <td>0</td>\n",
       "      <td>0</td>\n",
       "      <td>0</td>\n",
       "      <td>0</td>\n",
       "      <td>0</td>\n",
       "      <td>1</td>\n",
       "      <td>0</td>\n",
       "      <td>1</td>\n",
       "      <td>1</td>\n",
       "      <td>0</td>\n",
       "      <td>0</td>\n",
       "      <td>1</td>\n",
       "    </tr>\n",
       "    <tr>\n",
       "      <th>5467</th>\n",
       "      <td>1</td>\n",
       "      <td>0</td>\n",
       "      <td>0</td>\n",
       "      <td>0</td>\n",
       "      <td>0</td>\n",
       "      <td>0</td>\n",
       "      <td>0</td>\n",
       "      <td>0</td>\n",
       "      <td>1</td>\n",
       "      <td>0</td>\n",
       "      <td>1</td>\n",
       "      <td>0</td>\n",
       "      <td>0</td>\n",
       "      <td>0</td>\n",
       "      <td>0</td>\n",
       "      <td>0</td>\n",
       "    </tr>\n",
       "    <tr>\n",
       "      <th>3501</th>\n",
       "      <td>0</td>\n",
       "      <td>1</td>\n",
       "      <td>0</td>\n",
       "      <td>0</td>\n",
       "      <td>0</td>\n",
       "      <td>0</td>\n",
       "      <td>1</td>\n",
       "      <td>0</td>\n",
       "      <td>0</td>\n",
       "      <td>0</td>\n",
       "      <td>1</td>\n",
       "      <td>0</td>\n",
       "      <td>0</td>\n",
       "      <td>0</td>\n",
       "      <td>0</td>\n",
       "      <td>0</td>\n",
       "    </tr>\n",
       "    <tr>\n",
       "      <th>6039</th>\n",
       "      <td>0</td>\n",
       "      <td>1</td>\n",
       "      <td>0</td>\n",
       "      <td>0</td>\n",
       "      <td>1</td>\n",
       "      <td>0</td>\n",
       "      <td>0</td>\n",
       "      <td>0</td>\n",
       "      <td>0</td>\n",
       "      <td>0</td>\n",
       "      <td>1</td>\n",
       "      <td>0</td>\n",
       "      <td>0</td>\n",
       "      <td>0</td>\n",
       "      <td>0</td>\n",
       "      <td>0</td>\n",
       "    </tr>\n",
       "    <tr>\n",
       "      <th>7999</th>\n",
       "      <td>1</td>\n",
       "      <td>0</td>\n",
       "      <td>0</td>\n",
       "      <td>0</td>\n",
       "      <td>1</td>\n",
       "      <td>0</td>\n",
       "      <td>0</td>\n",
       "      <td>0</td>\n",
       "      <td>0</td>\n",
       "      <td>0</td>\n",
       "      <td>1</td>\n",
       "      <td>0</td>\n",
       "      <td>0</td>\n",
       "      <td>0</td>\n",
       "      <td>0</td>\n",
       "      <td>0</td>\n",
       "    </tr>\n",
       "  </tbody>\n",
       "</table>\n",
       "</div>"
      ],
      "text/plain": [
       "      Female  Male  0 - 9 Years  10 - 19 Years  20 - 29 Years  30 - 39 Years  \\\n",
       "5179       0     1            0              0              0              0   \n",
       "5467       1     0            0              0              0              0   \n",
       "3501       0     1            0              0              0              0   \n",
       "6039       0     1            0              0              1              0   \n",
       "7999       1     0            0              0              1              0   \n",
       "\n",
       "      40 - 49 Years  50 - 59 Years  60 - 69 Years  70 - 79 Years  hosp_No  \\\n",
       "5179              0              0              0              1        0   \n",
       "5467              0              0              1              0        1   \n",
       "3501              1              0              0              0        1   \n",
       "6039              0              0              0              0        1   \n",
       "7999              0              0              0              0        1   \n",
       "\n",
       "      hosp_Yes  icu_No  icu_Yes  medcond_No  medcond_Yes  \n",
       "5179         1       1        0           0            1  \n",
       "5467         0       0        0           0            0  \n",
       "3501         0       0        0           0            0  \n",
       "6039         0       0        0           0            0  \n",
       "7999         0       0        0           0            0  "
      ]
     },
     "execution_count": 98,
     "metadata": {},
     "output_type": "execute_result"
    }
   ],
   "source": [
    "# Run the same code on the X_test dataset\n",
    "# Create dummy variables for sex\n",
    "df_dummies_sex = pd.get_dummies(X_test['sex'])\n",
    "df_dummies_sex.head()\n",
    "# Add dummies to the training set\n",
    "X_test = pd.concat([X_test, df_dummies_sex[['Female', 'Male']]], axis=1)\n",
    "\n",
    "# Create dummy variables for age_group\n",
    "df_dummies_age = pd.get_dummies(X_test['age_group'])\n",
    "# Add dummies to the training set\n",
    "X_test = pd.concat([X_test, df_dummies_age], axis=1)\n",
    "X_test = X_test.drop(columns='80+ Years')\n",
    "\n",
    "# Create dummy variables for hosp_yn\n",
    "df_dummies_hosp = pd.get_dummies(X_test['hosp_yn'])\n",
    "df_dummies_hosp = df_dummies_hosp.rename(columns={'No':'hosp_No', 'Yes':'hosp_Yes'})\n",
    "df_dummies_hosp = df_dummies_hosp.drop(columns='Unknown')\n",
    "# Add dummies to the training set\n",
    "X_test = pd.concat([X_test, df_dummies_hosp], axis=1)\n",
    "\n",
    "# Create dummy variables for hosp_yn\n",
    "df_dummies_icu = pd.get_dummies(X_test['icu_yn'])\n",
    "df_dummies_icu = df_dummies_icu.rename(columns={'No':'icu_No', 'Yes':'icu_Yes'})\n",
    "df_dummies_icu = df_dummies_icu.drop(columns='Unknown')\n",
    "# Add dummies to the training set\n",
    "X_test = pd.concat([X_test, df_dummies_icu], axis=1)\n",
    "\n",
    "# Create dummy variables for hosp_yn\n",
    "df_dummies_hosp = pd.get_dummies(X_test['medcond_yn'])\n",
    "df_dummies_hosp = df_dummies_hosp.rename(columns={'No':'medcond_No', 'Yes':'medcond_Yes'})\n",
    "df_dummies_hosp = df_dummies_hosp.drop(columns='Unknown')\n",
    "# Add dummies to the training set\n",
    "X_test = pd.concat([X_test, df_dummies_hosp], axis=1)\n",
    "\n",
    "# Drop original features\n",
    "X_test = X_test.drop(columns=['sex', 'age_group', 'race_ethnicity_combined', 'hosp_yn', 'icu_yn', 'medcond_yn'])\n",
    "X_test.head()"
   ]
  },
  {
   "cell_type": "markdown",
   "id": "09544556",
   "metadata": {},
   "source": [
    "***"
   ]
  },
  {
   "cell_type": "markdown",
   "id": "a6797f8c",
   "metadata": {},
   "source": [
    "<a id=\"3\"></a>\n",
    "# 3. Predictive Modeling: Linear Regression"
   ]
  },
  {
   "cell_type": "markdown",
   "id": "3e9d16a6",
   "metadata": {},
   "source": [
    "<a id=\"3.1\"></a>\n",
    "## 3.1. Linear Regression Model"
   ]
  },
  {
   "cell_type": "code",
   "execution_count": 30,
   "id": "f7631ad9",
   "metadata": {},
   "outputs": [
    {
     "data": {
      "text/plain": [
       "LinearRegression()"
      ]
     },
     "execution_count": 30,
     "metadata": {},
     "output_type": "execute_result"
    }
   ],
   "source": [
    "# Train a linear regression on the training set\n",
    "linear_reg = LinearRegression()\n",
    "linear_reg.fit(X_train, y_train)"
   ]
  },
  {
   "cell_type": "markdown",
   "id": "f9b29645",
   "metadata": {},
   "source": [
    "<a id=\"3.2\"></a>\n",
    "## 3.2. Coefficients of the Model"
   ]
  },
  {
   "cell_type": "code",
   "execution_count": 31,
   "id": "4b877516",
   "metadata": {
    "scrolled": true
   },
   "outputs": [
    {
     "name": "stdout",
     "output_type": "stream",
     "text": [
      "Features: \n",
      " Index(['Female', 'Male', '0 - 9 Years', '10 - 19 Years', '20 - 29 Years',\n",
      "       '30 - 39 Years', '40 - 49 Years', '50 - 59 Years', '60 - 69 Years',\n",
      "       '70 - 79 Years', 'hosp_No', 'hosp_Yes', 'icu_No', 'icu_Yes',\n",
      "       'medcond_No', 'medcond_Yes'],\n",
      "      dtype='object')\n",
      "\n",
      "Coeficients: \n",
      " [[-0.00501261  0.01105382 -0.23826563 -0.23470969 -0.23739497 -0.23630433\n",
      "  -0.23391915 -0.23563273 -0.21934403 -0.14217435 -0.0047853   0.16033332\n",
      "  -0.03231908  0.27884578  0.00726759  0.03645279]]\n",
      "\n",
      "Intercept: \n",
      " [0.23556737]\n"
     ]
    }
   ],
   "source": [
    "# Print the coefficients learned by the model and discuss their role in the model.\n",
    "print(\"Features: \\n\", X_train.columns)\n",
    "print(\"\\nCoeficients: \\n\", linear_reg.coef_)\n",
    "print(\"\\nIntercept: \\n\", linear_reg.intercept_)"
   ]
  },
  {
   "cell_type": "markdown",
   "id": "37e7ffa3",
   "metadata": {},
   "source": [
    "#### Interpretation of Coefficients"
   ]
  },
  {
   "cell_type": "markdown",
   "id": "5a80aea7",
   "metadata": {},
   "source": [
    "**Sex Coefficients**\n",
    " - **Female:** if female, the probabilty of death occurring decreases by 0.005 as compared to the sex being unknown, all other variables remaining constant.  \n",
    " \n",
    " - **Male:** if male, the probability of death occurring increases by 0.011 as compared to sex being unkown, all other variables remaining constant.\n",
    " \n",
    "**Age Coefficients**\n",
    " - **0 - 9 Years:** if the age is in this range, the probability of death occurring decreases by 0.238 as compared to age being >= 80, all other variables remaining constant.\n",
    " \n",
    " - **10 - 19 Years:** if the age is in this range, the probability of death occurring decreases by 0.235 as compared to age being >= 80, all other variables remaining constant\n",
    " \n",
    " - **20 - 29 Years:** if the age is in this range, the probability of death occurring decreases by 0.237 as compared to age being >= 80, all other variables remaining constant\n",
    " \n",
    " - **30 - 39 Years:** if the age is in this range, the probability of death occurring decreases by 0.236 as compared to age being >= 80, all other variables remaining constant\n",
    " \n",
    " - **40 - 49 Years:** if the age is in this range, the probability of death occurring decreases by 0.234 as compared to age being >= 80, all other variables remaining constant\n",
    " \n",
    " - **50 - 59 Years:** if the age is in this range, the probability of death occurring decreases by 0.236 as compared to age being >= 80, all other variables remaining constant\n",
    " \n",
    " - **60 - 69 Years:** if the age is in this range, the probability of death occurring decreases by 0.219 as compared to age being >= 80, all other variables remaining constant\n",
    " \n",
    " - **70 - 79 Years:** if the age is in this range, the probability of death occurring decreases by 0.142 as compared to age being >= 80, all other variables remaining constant\n",
    " \n",
    "**Hospitalisation Status Coefficients**  \n",
    " - **hosp_no:** if the patient was not hospitalise, the probability of death occurring decreases by 0.004 as compared to hospitalisation status being unknown, all other variables remaining constant.\n",
    " \n",
    " - **hosp_yes:** if the patient was hospitalised, the probability of death occurring increases by 0.16 as compared to hospitalisation status being unknown, all other variables remaining constant.\n",
    " \n",
    "**ICU Status Coefficients**\n",
    " - **icu_no:** if the patient was not admitted to ICU, the probability of death occurring decreases by 0.032 as compared to ICU status being unknown, all other variables remaining constant.\n",
    " \n",
    " - **icu_yes:** if the patient was admitted to ICU, the probability of death occurring increases by 0.279 as compared to ICU status being unknown, all other variables remaining constant.\n",
    " \n",
    "**Underlying Medical Condition Coefficient**\n",
    " - **medcond_no:** if the patient has no pre-existing medical conditions, the probability of death occurring increases by 0.007 as compared to the presence of underlying medical conditions being unknown, all other variables remaining constant.\n",
    " \n",
    " - **medcond_yes:** if the patient has pre-existing medical conditions, the probability of death occurring increases by 0.036 as compared to the presence of underlying medical conditions being unknown, all other variables remaining constant."
   ]
  },
  {
   "cell_type": "markdown",
   "id": "48c5cc42",
   "metadata": {},
   "source": [
    "<a id=\"3.3\"></a>\n",
    "## 3.3. Predicted Target Feature Value"
   ]
  },
  {
   "cell_type": "code",
   "execution_count": 32,
   "id": "b19e2322",
   "metadata": {},
   "outputs": [
    {
     "name": "stdout",
     "output_type": "stream",
     "text": [
      "\n",
      "Predictions with linear regression: \n",
      "\n"
     ]
    },
    {
     "data": {
      "text/html": [
       "<div>\n",
       "<style scoped>\n",
       "    .dataframe tbody tr th:only-of-type {\n",
       "        vertical-align: middle;\n",
       "    }\n",
       "\n",
       "    .dataframe tbody tr th {\n",
       "        vertical-align: top;\n",
       "    }\n",
       "\n",
       "    .dataframe thead th {\n",
       "        text-align: right;\n",
       "    }\n",
       "</style>\n",
       "<table border=\"1\" class=\"dataframe\">\n",
       "  <thead>\n",
       "    <tr style=\"text-align: right;\">\n",
       "      <th></th>\n",
       "      <th>DeathClass</th>\n",
       "      <th>Predicted</th>\n",
       "    </tr>\n",
       "  </thead>\n",
       "  <tbody>\n",
       "    <tr>\n",
       "      <th>8284</th>\n",
       "      <td>0.0</td>\n",
       "      <td>0.225769</td>\n",
       "    </tr>\n",
       "    <tr>\n",
       "      <th>4965</th>\n",
       "      <td>0.0</td>\n",
       "      <td>0.225769</td>\n",
       "    </tr>\n",
       "    <tr>\n",
       "      <th>940</th>\n",
       "      <td>0.0</td>\n",
       "      <td>0.042656</td>\n",
       "    </tr>\n",
       "    <tr>\n",
       "      <th>3178</th>\n",
       "      <td>0.0</td>\n",
       "      <td>-0.009863</td>\n",
       "    </tr>\n",
       "    <tr>\n",
       "      <th>5272</th>\n",
       "      <td>0.0</td>\n",
       "      <td>0.248714</td>\n",
       "    </tr>\n",
       "    <tr>\n",
       "      <th>7622</th>\n",
       "      <td>0.0</td>\n",
       "      <td>-0.010535</td>\n",
       "    </tr>\n",
       "    <tr>\n",
       "      <th>3370</th>\n",
       "      <td>0.0</td>\n",
       "      <td>0.010317</td>\n",
       "    </tr>\n",
       "    <tr>\n",
       "      <th>416</th>\n",
       "      <td>0.0</td>\n",
       "      <td>-0.008150</td>\n",
       "    </tr>\n",
       "    <tr>\n",
       "      <th>6742</th>\n",
       "      <td>0.0</td>\n",
       "      <td>-0.037548</td>\n",
       "    </tr>\n",
       "    <tr>\n",
       "      <th>7774</th>\n",
       "      <td>0.0</td>\n",
       "      <td>0.187610</td>\n",
       "    </tr>\n",
       "  </tbody>\n",
       "</table>\n",
       "</div>"
      ],
      "text/plain": [
       "      DeathClass  Predicted\n",
       "8284         0.0   0.225769\n",
       "4965         0.0   0.225769\n",
       "940          0.0   0.042656\n",
       "3178         0.0  -0.009863\n",
       "5272         0.0   0.248714\n",
       "7622         0.0  -0.010535\n",
       "3370         0.0   0.010317\n",
       "416          0.0  -0.008150\n",
       "6742         0.0  -0.037548\n",
       "7774         0.0   0.187610"
      ]
     },
     "execution_count": 32,
     "metadata": {},
     "output_type": "execute_result"
    }
   ],
   "source": [
    "# Print the predicted target feature value for the first 10 training examples\n",
    "linear_reg_predictions = linear_reg.predict(X_train)\n",
    "print(\"\\nPredictions with linear regression: \\n\")\n",
    "actual_vs_predicted_linear_reg = pd.concat([y_train, pd.DataFrame(linear_reg_predictions, columns=['Predicted'], index=y.index)], axis=1)\n",
    "actual_vs_predicted_linear_reg.head(10)"
   ]
  },
  {
   "cell_type": "code",
   "execution_count": 33,
   "id": "cce1ef19",
   "metadata": {},
   "outputs": [],
   "source": [
    "# Threshold the predicted target feature value given by the linear \n",
    "#     regression model at 0.5, to get the predicted class for each example.\n",
    "for index, row in actual_vs_predicted_linear_reg.iterrows():\n",
    "    if row['Predicted'] > 0.5:\n",
    "        row['Predicted'] = 1.0\n",
    "    else:\n",
    "        row['Predicted'] = 0.0\n",
    "        \n",
    "linear_reg_threshold_predictions = pd.DataFrame(actual_vs_predicted_linear_reg['Predicted'])"
   ]
  },
  {
   "cell_type": "code",
   "execution_count": 35,
   "id": "c1f8302f",
   "metadata": {},
   "outputs": [
    {
     "name": "stdout",
     "output_type": "stream",
     "text": [
      "\n",
      "Thresholded predictions with linear regression: \n",
      "\n"
     ]
    },
    {
     "data": {
      "text/html": [
       "<div>\n",
       "<style scoped>\n",
       "    .dataframe tbody tr th:only-of-type {\n",
       "        vertical-align: middle;\n",
       "    }\n",
       "\n",
       "    .dataframe tbody tr th {\n",
       "        vertical-align: top;\n",
       "    }\n",
       "\n",
       "    .dataframe thead th {\n",
       "        text-align: right;\n",
       "    }\n",
       "</style>\n",
       "<table border=\"1\" class=\"dataframe\">\n",
       "  <thead>\n",
       "    <tr style=\"text-align: right;\">\n",
       "      <th></th>\n",
       "      <th>DeathClass</th>\n",
       "      <th>Predicted</th>\n",
       "    </tr>\n",
       "  </thead>\n",
       "  <tbody>\n",
       "    <tr>\n",
       "      <th>8284</th>\n",
       "      <td>0.0</td>\n",
       "      <td>0.0</td>\n",
       "    </tr>\n",
       "    <tr>\n",
       "      <th>4965</th>\n",
       "      <td>0.0</td>\n",
       "      <td>0.0</td>\n",
       "    </tr>\n",
       "    <tr>\n",
       "      <th>940</th>\n",
       "      <td>0.0</td>\n",
       "      <td>0.0</td>\n",
       "    </tr>\n",
       "    <tr>\n",
       "      <th>3178</th>\n",
       "      <td>0.0</td>\n",
       "      <td>0.0</td>\n",
       "    </tr>\n",
       "    <tr>\n",
       "      <th>5272</th>\n",
       "      <td>0.0</td>\n",
       "      <td>0.0</td>\n",
       "    </tr>\n",
       "    <tr>\n",
       "      <th>7622</th>\n",
       "      <td>0.0</td>\n",
       "      <td>0.0</td>\n",
       "    </tr>\n",
       "    <tr>\n",
       "      <th>3370</th>\n",
       "      <td>0.0</td>\n",
       "      <td>0.0</td>\n",
       "    </tr>\n",
       "    <tr>\n",
       "      <th>416</th>\n",
       "      <td>0.0</td>\n",
       "      <td>0.0</td>\n",
       "    </tr>\n",
       "    <tr>\n",
       "      <th>6742</th>\n",
       "      <td>0.0</td>\n",
       "      <td>0.0</td>\n",
       "    </tr>\n",
       "    <tr>\n",
       "      <th>7774</th>\n",
       "      <td>0.0</td>\n",
       "      <td>0.0</td>\n",
       "    </tr>\n",
       "  </tbody>\n",
       "</table>\n",
       "</div>"
      ],
      "text/plain": [
       "      DeathClass  Predicted\n",
       "8284         0.0        0.0\n",
       "4965         0.0        0.0\n",
       "940          0.0        0.0\n",
       "3178         0.0        0.0\n",
       "5272         0.0        0.0\n",
       "7622         0.0        0.0\n",
       "3370         0.0        0.0\n",
       "416          0.0        0.0\n",
       "6742         0.0        0.0\n",
       "7774         0.0        0.0"
      ]
     },
     "execution_count": 35,
     "metadata": {},
     "output_type": "execute_result"
    }
   ],
   "source": [
    "# Print the predicted class for the first 10 examples. \n",
    "print(\"\\nThresholded predictions with linear regression: \\n\")\n",
    "actual_vs_predicted_linear_reg.head(10)"
   ]
  },
  {
   "cell_type": "markdown",
   "id": "20b01ba1",
   "metadata": {},
   "source": [
    "#### Classification Measures"
   ]
  },
  {
   "cell_type": "code",
   "execution_count": 36,
   "id": "d7be9cb9",
   "metadata": {
    "scrolled": true
   },
   "outputs": [
    {
     "name": "stdout",
     "output_type": "stream",
     "text": [
      "Accuracy:  0.9652451309603761\n",
      "\n",
      "Confusion Matrix: \n",
      " [[5729   15]\n",
      " [ 192   20]]\n",
      "\n",
      "Classification Report: \n",
      "               precision    recall  f1-score   support\n",
      "\n",
      "         0.0       0.97      1.00      0.98      5744\n",
      "         1.0       0.57      0.09      0.16       212\n",
      "\n",
      "    accuracy                           0.97      5956\n",
      "   macro avg       0.77      0.55      0.57      5956\n",
      "weighted avg       0.95      0.97      0.95      5956\n",
      "\n"
     ]
    }
   ],
   "source": [
    "# Print Accuracy\n",
    "print('Accuracy: ', metrics.accuracy_score(y_train, linear_reg_threshold_predictions) )\n",
    "\n",
    "# Print Confusion Matrix\n",
    "print('\\nConfusion Matrix: \\n', metrics.confusion_matrix(y_train, linear_reg_threshold_predictions) )\n",
    "\n",
    "# Print Classification Report\n",
    "print('\\nClassification Report: \\n', metrics.classification_report(y_train, linear_reg_threshold_predictions))"
   ]
  },
  {
   "cell_type": "markdown",
   "id": "513cebed",
   "metadata": {},
   "source": [
    "The Linear Regression model has a very high accuracy but this is possibly due to the very high imbalance in the target feature of the dataset.  \n",
    "Looking at the confusion matrix we can see that there is a high number of False Negatives with this model. Given the problem domain I would be hoping for this measure to be as low as possible.  "
   ]
  },
  {
   "cell_type": "markdown",
   "id": "4f963532",
   "metadata": {},
   "source": [
    "<a id=\"3.4\"></a>\n",
    "## 3.4. Model Evaluation"
   ]
  },
  {
   "cell_type": "code",
   "execution_count": 156,
   "id": "9073ba04",
   "metadata": {
    "scrolled": true
   },
   "outputs": [
    {
     "data": {
      "text/html": [
       "<div>\n",
       "<style scoped>\n",
       "    .dataframe tbody tr th:only-of-type {\n",
       "        vertical-align: middle;\n",
       "    }\n",
       "\n",
       "    .dataframe tbody tr th {\n",
       "        vertical-align: top;\n",
       "    }\n",
       "\n",
       "    .dataframe thead th {\n",
       "        text-align: right;\n",
       "    }\n",
       "</style>\n",
       "<table border=\"1\" class=\"dataframe\">\n",
       "  <thead>\n",
       "    <tr style=\"text-align: right;\">\n",
       "      <th></th>\n",
       "      <th>DeathClass</th>\n",
       "      <th>Predicted</th>\n",
       "    </tr>\n",
       "  </thead>\n",
       "  <tbody>\n",
       "    <tr>\n",
       "      <th>5179</th>\n",
       "      <td>0.0</td>\n",
       "      <td>0.0</td>\n",
       "    </tr>\n",
       "    <tr>\n",
       "      <th>5467</th>\n",
       "      <td>0.0</td>\n",
       "      <td>0.0</td>\n",
       "    </tr>\n",
       "    <tr>\n",
       "      <th>3501</th>\n",
       "      <td>0.0</td>\n",
       "      <td>0.0</td>\n",
       "    </tr>\n",
       "    <tr>\n",
       "      <th>6039</th>\n",
       "      <td>0.0</td>\n",
       "      <td>0.0</td>\n",
       "    </tr>\n",
       "    <tr>\n",
       "      <th>7999</th>\n",
       "      <td>0.0</td>\n",
       "      <td>0.0</td>\n",
       "    </tr>\n",
       "    <tr>\n",
       "      <th>...</th>\n",
       "      <td>...</td>\n",
       "      <td>...</td>\n",
       "    </tr>\n",
       "    <tr>\n",
       "      <th>4228</th>\n",
       "      <td>0.0</td>\n",
       "      <td>0.0</td>\n",
       "    </tr>\n",
       "    <tr>\n",
       "      <th>7209</th>\n",
       "      <td>0.0</td>\n",
       "      <td>0.0</td>\n",
       "    </tr>\n",
       "    <tr>\n",
       "      <th>6995</th>\n",
       "      <td>1.0</td>\n",
       "      <td>0.0</td>\n",
       "    </tr>\n",
       "    <tr>\n",
       "      <th>1355</th>\n",
       "      <td>0.0</td>\n",
       "      <td>0.0</td>\n",
       "    </tr>\n",
       "    <tr>\n",
       "      <th>5882</th>\n",
       "      <td>0.0</td>\n",
       "      <td>0.0</td>\n",
       "    </tr>\n",
       "  </tbody>\n",
       "</table>\n",
       "<p>2553 rows × 2 columns</p>\n",
       "</div>"
      ],
      "text/plain": [
       "      DeathClass  Predicted\n",
       "5179         0.0        0.0\n",
       "5467         0.0        0.0\n",
       "3501         0.0        0.0\n",
       "6039         0.0        0.0\n",
       "7999         0.0        0.0\n",
       "...          ...        ...\n",
       "4228         0.0        0.0\n",
       "7209         0.0        0.0\n",
       "6995         1.0        0.0\n",
       "1355         0.0        0.0\n",
       "5882         0.0        0.0\n",
       "\n",
       "[2553 rows x 2 columns]"
      ]
     },
     "execution_count": 156,
     "metadata": {},
     "output_type": "execute_result"
    }
   ],
   "source": [
    "# Evaluate the model using classification evaluation measures on the hold-out (30%) test set.\n",
    "linear_reg_predictions_test = (linear_reg.predict(X_test) >= 0.5) * 1.0\n",
    "\n",
    "# Print predictions\n",
    "actual_vs_predicted_linear_reg_test = pd.DataFrame(y_test)\n",
    "actual_vs_predicted_linear_reg_test['Predicted'] = linear_reg_predictions_test\n",
    "#print(\"\\nPredictions with linear regression on test set: \\n\")\n",
    "actual_vs_predicted_linear_reg_test"
   ]
  },
  {
   "cell_type": "code",
   "execution_count": 157,
   "id": "5af21c24",
   "metadata": {
    "scrolled": true
   },
   "outputs": [
    {
     "name": "stdout",
     "output_type": "stream",
     "text": [
      "Accuracy:  0.9663141402271838\n",
      "\n",
      "Confusion Matrix: \n",
      " [[2465    5]\n",
      " [  81    2]]\n",
      "\n",
      "Classification Report: \n",
      "               precision    recall  f1-score   support\n",
      "\n",
      "         0.0       0.97      1.00      0.98      2470\n",
      "         1.0       0.29      0.02      0.04        83\n",
      "\n",
      "    accuracy                           0.97      2553\n",
      "   macro avg       0.63      0.51      0.51      2553\n",
      "weighted avg       0.95      0.97      0.95      2553\n",
      "\n"
     ]
    }
   ],
   "source": [
    "# Print Accuracy\n",
    "print('Accuracy: ', metrics.accuracy_score(actual_vs_predicted_linear_reg_test['DeathClass'], actual_vs_predicted_linear_reg_test['Predicted']) )\n",
    "\n",
    "# Print Confusion Matrix\n",
    "print('\\nConfusion Matrix: \\n', metrics.confusion_matrix(actual_vs_predicted_linear_reg_test['DeathClass'], actual_vs_predicted_linear_reg_test['Predicted']) )\n",
    "\n",
    "# Print Classification Report\n",
    "print('\\nClassification Report: \\n', metrics.classification_report(actual_vs_predicted_linear_reg_test['DeathClass'], actual_vs_predicted_linear_reg_test['Predicted']) )"
   ]
  },
  {
   "cell_type": "markdown",
   "id": "f7260be3",
   "metadata": {},
   "source": [
    "Running the regression on the test dataset we get a similar resulting accuracy. \n",
    "The confusion matrix appears to be better however the test dataset was much smaller than the training dataset. This time around the model actually appears to be less precise and less accurate at predicting the target feature."
   ]
  },
  {
   "cell_type": "markdown",
   "id": "168cade2",
   "metadata": {},
   "source": [
    "#### Cross-Validated Model"
   ]
  },
  {
   "cell_type": "code",
   "execution_count": 169,
   "id": "5bd8c198",
   "metadata": {},
   "outputs": [],
   "source": [
    "# Combine Test and Train dataset\n",
    "X = X_train\n",
    "X = X.append(X_test)\n",
    "\n",
    "y = y_train\n",
    "y = y.append(y_test)"
   ]
  },
  {
   "cell_type": "code",
   "execution_count": 186,
   "id": "00fd9c2b",
   "metadata": {},
   "outputs": [
    {
     "name": "stdout",
     "output_type": "stream",
     "text": [
      "[0.27367873 0.20873618 0.22771442 0.23018985 0.25574683 0.2593348\n",
      " 0.22795226 0.16647371 0.20794109 0.22292421]\n",
      "0.22806920912498221\n"
     ]
    }
   ],
   "source": [
    "# Run cross-validation model\n",
    "scores = cross_val_score(LinearRegression(), X, y['DeathClass'], cv=10)\n",
    "print(scores)\n",
    "print(scores.mean())"
   ]
  },
  {
   "cell_type": "markdown",
   "id": "c67aae9a",
   "metadata": {},
   "source": [
    "The accuracy score from the cross-validated Linear Regression is significantly lower than the model train on the 70/30 split suggesting that a linear regression model does not accurately predict the relationship between the descriptive features and the target feature."
   ]
  },
  {
   "cell_type": "markdown",
   "id": "c0fdb1bf",
   "metadata": {},
   "source": [
    "***"
   ]
  },
  {
   "cell_type": "markdown",
   "id": "66aa49eb",
   "metadata": {},
   "source": [
    "<a id=\"4\"></a>\n",
    "# 4. Predictive Modeling: Logistic Regression"
   ]
  },
  {
   "cell_type": "markdown",
   "id": "1a394af6",
   "metadata": {},
   "source": [
    "<a id=\"4.1\"></a>\n",
    "## 4.1. Logistic Regression Model"
   ]
  },
  {
   "cell_type": "code",
   "execution_count": null,
   "id": "a82818c2",
   "metadata": {},
   "outputs": [],
   "source": [
    "# Train a logistic regression on the training set\n",
    "logistic_reg = LogisticRegression()\n",
    "logistic_reg.fit(X_train, y_train)"
   ]
  },
  {
   "cell_type": "markdown",
   "id": "0d5c23b7",
   "metadata": {},
   "source": [
    "<a id=\"4.2\"></a>\n",
    "## 4.2. Coefficients of the Model"
   ]
  },
  {
   "cell_type": "code",
   "execution_count": 100,
   "id": "2e125770",
   "metadata": {},
   "outputs": [
    {
     "name": "stdout",
     "output_type": "stream",
     "text": [
      "Features: \n",
      " Index(['Female', 'Male', '0 - 9 Years', '10 - 19 Years', '20 - 29 Years',\n",
      "       '30 - 39 Years', '40 - 49 Years', '50 - 59 Years', '60 - 69 Years',\n",
      "       '70 - 79 Years', 'hosp_No', 'hosp_Yes', 'icu_No', 'icu_Yes',\n",
      "       'medcond_No', 'medcond_Yes'],\n",
      "      dtype='object')\n",
      "\n",
      "Coeficients: \n",
      " [[-0.07566483  0.5180152  -2.61498524 -3.09512671 -3.51260243 -3.21077715\n",
      "  -2.49374316 -2.28741868 -1.63821742 -0.67015597 -0.49958645  1.73413913\n",
      "  -0.83331514  0.97007651 -0.7567625   0.78217131]]\n",
      "\n",
      "Intercept: \n",
      " [-2.03431694]\n"
     ]
    }
   ],
   "source": [
    "# Print the coefficients learned by the model and discuss their role in the model.\n",
    "print(\"Features: \\n\", X_train.columns)\n",
    "print(\"\\nCoeficients: \\n\", logistic_reg.coef_)\n",
    "print(\"\\nIntercept: \\n\", logistic_reg.intercept_)"
   ]
  },
  {
   "cell_type": "markdown",
   "id": "f8ea8d14",
   "metadata": {},
   "source": [
    "#### Interpretations of Coefficients"
   ]
  },
  {
   "cell_type": "markdown",
   "id": "eab69f2b",
   "metadata": {},
   "source": [
    "**Sex Coefficients**\n",
    " - **Female:** if the patient is female, the probabilty of death occurring decreases by 0.077 as compared to the sex being unknown, all other variables remaining constant.  \n",
    " \n",
    " - **Male:** if the patiet is male, the probability of death occurring increases by 0.518 as compared to sex being unkown, all other variables remaining constant.\n",
    " \n",
    "**Age Coefficients**\n",
    " - **0 - 9 Years:** if the age is in this range, the probability of death occurring decreases by 2.615 as compared to age being >= 80, all other variables remaining constant.\n",
    " \n",
    " - **10 - 19 Years:** if the age is in this range, the probability of death occurring decreases by 3.095 as compared to age being >= 80, all other variables remaining constant\n",
    " \n",
    " - **20 - 29 Years:** if the age is in this range, the probability of death occurring decreases by 3.513 as compared to age being >= 80, all other variables remaining constant\n",
    " \n",
    " - **30 - 39 Years:** if the age is in this range, the probability of death occurring decreases by 3.21 as compared to age being >= 80, all other variables remaining constant\n",
    " \n",
    " - **40 - 49 Years:** if the age is in this range, the probability of death occurring decreases by 2.494 as compared to age being >= 80, all other variables remaining constant\n",
    " \n",
    " - **50 - 59 Years:** if the age is in this range, the probability of death occurring decreases by 2.287 as compared to age being >= 80, all other variables remaining constant\n",
    " \n",
    " - **60 - 69 Years:** if the age is in this range, the probability of death occurring decreases by 1.638 as compared to age being >= 80, all other variables remaining constant\n",
    " \n",
    " - **70 - 79 Years:** if the age is in this range, the probability of death occurring decreases by 0.67 as compared to age being >= 80, all other variables remaining constant\n",
    " \n",
    "**Hospitalisation Status Coefficients**  \n",
    " - **hosp_no:** if the patient was not hospitalise, the probability of death occurring decreases by 0.5 as compared to hospitalisation status being unknown, all other variables remaining constant.\n",
    " \n",
    " - **hosp_yes:** if the patient was hospitalised, the probability of death occurring increases by 1.734 as compared to hospitalisation status being unknown, all other variables remaining constant.\n",
    " \n",
    "**ICU Status Coefficients**\n",
    " - **icu_no:** if the patient was not admitted to ICU, the probability of death occurring decreases by 0.833 as compared to ICU status being unknown, all other variables remaining constant.\n",
    " \n",
    " - **icu_yes:** if the patient was admitted to ICU, the probability of death occurring increases by 0.97 as compared to ICU status being unknown, all other variables remaining constant.\n",
    " \n",
    "**Underlying Medical Condition Coefficient**\n",
    " - **medcond_no:** if the patient has no pre-existing medical conditions, the probability of death occurring increases by 0.757 as compared to the presence of underlying medical conditions being unknown, all other variables remaining constant.\n",
    " \n",
    " - **medcond_yes:** if the patient has pre-existing medical conditions, the probability of death occurring increases by 0.782 as compared to the presence of underlying medical conditions being unknown, all other variables remaining constant."
   ]
  },
  {
   "cell_type": "markdown",
   "id": "c75b46c9",
   "metadata": {},
   "source": [
    "<a id=\"4.3\"></a>\n",
    "## 4.3. Predicted Target Feature Value"
   ]
  },
  {
   "cell_type": "code",
   "execution_count": 102,
   "id": "4f4e75da",
   "metadata": {},
   "outputs": [],
   "source": [
    "# Print the predicted target feature value for the first 10 training examples\n",
    "logistic_reg_predictions = logistic_reg.predict(X_train)"
   ]
  },
  {
   "cell_type": "code",
   "execution_count": 103,
   "id": "0d76348c",
   "metadata": {
    "collapsed": true
   },
   "outputs": [
    {
     "name": "stdout",
     "output_type": "stream",
     "text": [
      "\n",
      "Predictions with logistic regression: \n",
      "\n"
     ]
    },
    {
     "ename": "ValueError",
     "evalue": "Shape of passed values is (5956, 1), indices imply (8509, 1)",
     "output_type": "error",
     "traceback": [
      "\u001b[1;31m---------------------------------------------------------------------------\u001b[0m",
      "\u001b[1;31mValueError\u001b[0m                                Traceback (most recent call last)",
      "\u001b[1;32mc:\\users\\ckiy\\anaconda3\\envs\\comp47350homework2\\lib\\site-packages\\pandas\\core\\internals\\managers.py\u001b[0m in \u001b[0;36mcreate_block_manager_from_blocks\u001b[1;34m(blocks, axes)\u001b[0m\n\u001b[0;32m   1679\u001b[0m \u001b[1;33m\u001b[0m\u001b[0m\n\u001b[1;32m-> 1680\u001b[1;33m         \u001b[0mmgr\u001b[0m \u001b[1;33m=\u001b[0m \u001b[0mBlockManager\u001b[0m\u001b[1;33m(\u001b[0m\u001b[0mblocks\u001b[0m\u001b[1;33m,\u001b[0m \u001b[0maxes\u001b[0m\u001b[1;33m)\u001b[0m\u001b[1;33m\u001b[0m\u001b[1;33m\u001b[0m\u001b[0m\n\u001b[0m\u001b[0;32m   1681\u001b[0m         \u001b[0mmgr\u001b[0m\u001b[1;33m.\u001b[0m\u001b[0m_consolidate_inplace\u001b[0m\u001b[1;33m(\u001b[0m\u001b[1;33m)\u001b[0m\u001b[1;33m\u001b[0m\u001b[1;33m\u001b[0m\u001b[0m\n",
      "\u001b[1;32mc:\\users\\ckiy\\anaconda3\\envs\\comp47350homework2\\lib\\site-packages\\pandas\\core\\internals\\managers.py\u001b[0m in \u001b[0;36m__init__\u001b[1;34m(self, blocks, axes, do_integrity_check)\u001b[0m\n\u001b[0;32m    142\u001b[0m         \u001b[1;32mif\u001b[0m \u001b[0mdo_integrity_check\u001b[0m\u001b[1;33m:\u001b[0m\u001b[1;33m\u001b[0m\u001b[1;33m\u001b[0m\u001b[0m\n\u001b[1;32m--> 143\u001b[1;33m             \u001b[0mself\u001b[0m\u001b[1;33m.\u001b[0m\u001b[0m_verify_integrity\u001b[0m\u001b[1;33m(\u001b[0m\u001b[1;33m)\u001b[0m\u001b[1;33m\u001b[0m\u001b[1;33m\u001b[0m\u001b[0m\n\u001b[0m\u001b[0;32m    144\u001b[0m \u001b[1;33m\u001b[0m\u001b[0m\n",
      "\u001b[1;32mc:\\users\\ckiy\\anaconda3\\envs\\comp47350homework2\\lib\\site-packages\\pandas\\core\\internals\\managers.py\u001b[0m in \u001b[0;36m_verify_integrity\u001b[1;34m(self)\u001b[0m\n\u001b[0;32m    322\u001b[0m             \u001b[1;32mif\u001b[0m \u001b[0mblock\u001b[0m\u001b[1;33m.\u001b[0m\u001b[0mshape\u001b[0m\u001b[1;33m[\u001b[0m\u001b[1;36m1\u001b[0m\u001b[1;33m:\u001b[0m\u001b[1;33m]\u001b[0m \u001b[1;33m!=\u001b[0m \u001b[0mmgr_shape\u001b[0m\u001b[1;33m[\u001b[0m\u001b[1;36m1\u001b[0m\u001b[1;33m:\u001b[0m\u001b[1;33m]\u001b[0m\u001b[1;33m:\u001b[0m\u001b[1;33m\u001b[0m\u001b[1;33m\u001b[0m\u001b[0m\n\u001b[1;32m--> 323\u001b[1;33m                 \u001b[1;32mraise\u001b[0m \u001b[0mconstruction_error\u001b[0m\u001b[1;33m(\u001b[0m\u001b[0mtot_items\u001b[0m\u001b[1;33m,\u001b[0m \u001b[0mblock\u001b[0m\u001b[1;33m.\u001b[0m\u001b[0mshape\u001b[0m\u001b[1;33m[\u001b[0m\u001b[1;36m1\u001b[0m\u001b[1;33m:\u001b[0m\u001b[1;33m]\u001b[0m\u001b[1;33m,\u001b[0m \u001b[0mself\u001b[0m\u001b[1;33m.\u001b[0m\u001b[0maxes\u001b[0m\u001b[1;33m)\u001b[0m\u001b[1;33m\u001b[0m\u001b[1;33m\u001b[0m\u001b[0m\n\u001b[0m\u001b[0;32m    324\u001b[0m         \u001b[1;32mif\u001b[0m \u001b[0mlen\u001b[0m\u001b[1;33m(\u001b[0m\u001b[0mself\u001b[0m\u001b[1;33m.\u001b[0m\u001b[0mitems\u001b[0m\u001b[1;33m)\u001b[0m \u001b[1;33m!=\u001b[0m \u001b[0mtot_items\u001b[0m\u001b[1;33m:\u001b[0m\u001b[1;33m\u001b[0m\u001b[1;33m\u001b[0m\u001b[0m\n",
      "\u001b[1;31mValueError\u001b[0m: Shape of passed values is (5956, 1), indices imply (8509, 1)",
      "\nDuring handling of the above exception, another exception occurred:\n",
      "\u001b[1;31mValueError\u001b[0m                                Traceback (most recent call last)",
      "\u001b[1;32m<ipython-input-103-5fcabbed31c2>\u001b[0m in \u001b[0;36m<module>\u001b[1;34m\u001b[0m\n\u001b[0;32m      1\u001b[0m \u001b[0mprint\u001b[0m\u001b[1;33m(\u001b[0m\u001b[1;34m\"\\nPredictions with logistic regression: \\n\"\u001b[0m\u001b[1;33m)\u001b[0m\u001b[1;33m\u001b[0m\u001b[1;33m\u001b[0m\u001b[0m\n\u001b[1;32m----> 2\u001b[1;33m \u001b[0mactual_vs_predicted_logistic_reg\u001b[0m \u001b[1;33m=\u001b[0m \u001b[0mpd\u001b[0m\u001b[1;33m.\u001b[0m\u001b[0mconcat\u001b[0m\u001b[1;33m(\u001b[0m\u001b[1;33m[\u001b[0m\u001b[0my_train\u001b[0m\u001b[1;33m,\u001b[0m \u001b[0mpd\u001b[0m\u001b[1;33m.\u001b[0m\u001b[0mDataFrame\u001b[0m\u001b[1;33m(\u001b[0m\u001b[0mlogistic_reg_predictions\u001b[0m\u001b[1;33m,\u001b[0m \u001b[0mcolumns\u001b[0m\u001b[1;33m=\u001b[0m\u001b[1;33m[\u001b[0m\u001b[1;34m'Predicted'\u001b[0m\u001b[1;33m]\u001b[0m\u001b[1;33m,\u001b[0m \u001b[0mindex\u001b[0m\u001b[1;33m=\u001b[0m\u001b[0my\u001b[0m\u001b[1;33m.\u001b[0m\u001b[0mindex\u001b[0m\u001b[1;33m)\u001b[0m\u001b[1;33m]\u001b[0m\u001b[1;33m,\u001b[0m \u001b[0maxis\u001b[0m\u001b[1;33m=\u001b[0m\u001b[1;36m1\u001b[0m\u001b[1;33m)\u001b[0m\u001b[1;33m\u001b[0m\u001b[1;33m\u001b[0m\u001b[0m\n\u001b[0m\u001b[0;32m      3\u001b[0m \u001b[0mactual_vs_predicted_logistic_reg\u001b[0m\u001b[1;33m.\u001b[0m\u001b[0mhead\u001b[0m\u001b[1;33m(\u001b[0m\u001b[1;36m10\u001b[0m\u001b[1;33m)\u001b[0m\u001b[1;33m\u001b[0m\u001b[1;33m\u001b[0m\u001b[0m\n",
      "\u001b[1;32mc:\\users\\ckiy\\anaconda3\\envs\\comp47350homework2\\lib\\site-packages\\pandas\\core\\frame.py\u001b[0m in \u001b[0;36m__init__\u001b[1;34m(self, data, index, columns, dtype, copy)\u001b[0m\n\u001b[0;32m    556\u001b[0m                 \u001b[0mmgr\u001b[0m \u001b[1;33m=\u001b[0m \u001b[0minit_dict\u001b[0m\u001b[1;33m(\u001b[0m\u001b[1;33m{\u001b[0m\u001b[0mdata\u001b[0m\u001b[1;33m.\u001b[0m\u001b[0mname\u001b[0m\u001b[1;33m:\u001b[0m \u001b[0mdata\u001b[0m\u001b[1;33m}\u001b[0m\u001b[1;33m,\u001b[0m \u001b[0mindex\u001b[0m\u001b[1;33m,\u001b[0m \u001b[0mcolumns\u001b[0m\u001b[1;33m,\u001b[0m \u001b[0mdtype\u001b[0m\u001b[1;33m=\u001b[0m\u001b[0mdtype\u001b[0m\u001b[1;33m)\u001b[0m\u001b[1;33m\u001b[0m\u001b[1;33m\u001b[0m\u001b[0m\n\u001b[0;32m    557\u001b[0m             \u001b[1;32melse\u001b[0m\u001b[1;33m:\u001b[0m\u001b[1;33m\u001b[0m\u001b[1;33m\u001b[0m\u001b[0m\n\u001b[1;32m--> 558\u001b[1;33m                 \u001b[0mmgr\u001b[0m \u001b[1;33m=\u001b[0m \u001b[0minit_ndarray\u001b[0m\u001b[1;33m(\u001b[0m\u001b[0mdata\u001b[0m\u001b[1;33m,\u001b[0m \u001b[0mindex\u001b[0m\u001b[1;33m,\u001b[0m \u001b[0mcolumns\u001b[0m\u001b[1;33m,\u001b[0m \u001b[0mdtype\u001b[0m\u001b[1;33m=\u001b[0m\u001b[0mdtype\u001b[0m\u001b[1;33m,\u001b[0m \u001b[0mcopy\u001b[0m\u001b[1;33m=\u001b[0m\u001b[0mcopy\u001b[0m\u001b[1;33m)\u001b[0m\u001b[1;33m\u001b[0m\u001b[1;33m\u001b[0m\u001b[0m\n\u001b[0m\u001b[0;32m    559\u001b[0m \u001b[1;33m\u001b[0m\u001b[0m\n\u001b[0;32m    560\u001b[0m         \u001b[1;31m# For data is list-like, or Iterable (will consume into list)\u001b[0m\u001b[1;33m\u001b[0m\u001b[1;33m\u001b[0m\u001b[1;33m\u001b[0m\u001b[0m\n",
      "\u001b[1;32mc:\\users\\ckiy\\anaconda3\\envs\\comp47350homework2\\lib\\site-packages\\pandas\\core\\internals\\construction.py\u001b[0m in \u001b[0;36minit_ndarray\u001b[1;34m(values, index, columns, dtype, copy)\u001b[0m\n\u001b[0;32m    236\u001b[0m         \u001b[0mblock_values\u001b[0m \u001b[1;33m=\u001b[0m \u001b[1;33m[\u001b[0m\u001b[0mvalues\u001b[0m\u001b[1;33m]\u001b[0m\u001b[1;33m\u001b[0m\u001b[1;33m\u001b[0m\u001b[0m\n\u001b[0;32m    237\u001b[0m \u001b[1;33m\u001b[0m\u001b[0m\n\u001b[1;32m--> 238\u001b[1;33m     \u001b[1;32mreturn\u001b[0m \u001b[0mcreate_block_manager_from_blocks\u001b[0m\u001b[1;33m(\u001b[0m\u001b[0mblock_values\u001b[0m\u001b[1;33m,\u001b[0m \u001b[1;33m[\u001b[0m\u001b[0mcolumns\u001b[0m\u001b[1;33m,\u001b[0m \u001b[0mindex\u001b[0m\u001b[1;33m]\u001b[0m\u001b[1;33m)\u001b[0m\u001b[1;33m\u001b[0m\u001b[1;33m\u001b[0m\u001b[0m\n\u001b[0m\u001b[0;32m    239\u001b[0m \u001b[1;33m\u001b[0m\u001b[0m\n\u001b[0;32m    240\u001b[0m \u001b[1;33m\u001b[0m\u001b[0m\n",
      "\u001b[1;32mc:\\users\\ckiy\\anaconda3\\envs\\comp47350homework2\\lib\\site-packages\\pandas\\core\\internals\\managers.py\u001b[0m in \u001b[0;36mcreate_block_manager_from_blocks\u001b[1;34m(blocks, axes)\u001b[0m\n\u001b[0;32m   1685\u001b[0m         \u001b[0mblocks\u001b[0m \u001b[1;33m=\u001b[0m \u001b[1;33m[\u001b[0m\u001b[0mgetattr\u001b[0m\u001b[1;33m(\u001b[0m\u001b[0mb\u001b[0m\u001b[1;33m,\u001b[0m \u001b[1;34m\"values\"\u001b[0m\u001b[1;33m,\u001b[0m \u001b[0mb\u001b[0m\u001b[1;33m)\u001b[0m \u001b[1;32mfor\u001b[0m \u001b[0mb\u001b[0m \u001b[1;32min\u001b[0m \u001b[0mblocks\u001b[0m\u001b[1;33m]\u001b[0m\u001b[1;33m\u001b[0m\u001b[1;33m\u001b[0m\u001b[0m\n\u001b[0;32m   1686\u001b[0m         \u001b[0mtot_items\u001b[0m \u001b[1;33m=\u001b[0m \u001b[0msum\u001b[0m\u001b[1;33m(\u001b[0m\u001b[0mb\u001b[0m\u001b[1;33m.\u001b[0m\u001b[0mshape\u001b[0m\u001b[1;33m[\u001b[0m\u001b[1;36m0\u001b[0m\u001b[1;33m]\u001b[0m \u001b[1;32mfor\u001b[0m \u001b[0mb\u001b[0m \u001b[1;32min\u001b[0m \u001b[0mblocks\u001b[0m\u001b[1;33m)\u001b[0m\u001b[1;33m\u001b[0m\u001b[1;33m\u001b[0m\u001b[0m\n\u001b[1;32m-> 1687\u001b[1;33m         \u001b[1;32mraise\u001b[0m \u001b[0mconstruction_error\u001b[0m\u001b[1;33m(\u001b[0m\u001b[0mtot_items\u001b[0m\u001b[1;33m,\u001b[0m \u001b[0mblocks\u001b[0m\u001b[1;33m[\u001b[0m\u001b[1;36m0\u001b[0m\u001b[1;33m]\u001b[0m\u001b[1;33m.\u001b[0m\u001b[0mshape\u001b[0m\u001b[1;33m[\u001b[0m\u001b[1;36m1\u001b[0m\u001b[1;33m:\u001b[0m\u001b[1;33m]\u001b[0m\u001b[1;33m,\u001b[0m \u001b[0maxes\u001b[0m\u001b[1;33m,\u001b[0m \u001b[0me\u001b[0m\u001b[1;33m)\u001b[0m\u001b[1;33m\u001b[0m\u001b[1;33m\u001b[0m\u001b[0m\n\u001b[0m\u001b[0;32m   1688\u001b[0m \u001b[1;33m\u001b[0m\u001b[0m\n\u001b[0;32m   1689\u001b[0m \u001b[1;33m\u001b[0m\u001b[0m\n",
      "\u001b[1;31mValueError\u001b[0m: Shape of passed values is (5956, 1), indices imply (8509, 1)"
     ]
    }
   ],
   "source": [
    "print(\"\\nPredictions with logistic regression: \\n\")\n",
    "actual_vs_predicted_logistic_reg = pd.concat([y_train, pd.DataFrame(logistic_reg_predictions, columns=['Predicted'], index=y.index)], axis=1)\n",
    "actual_vs_predicted_logistic_reg.head(10)"
   ]
  },
  {
   "cell_type": "markdown",
   "id": "f90378d3",
   "metadata": {},
   "source": [
    "#### Classification Measures"
   ]
  },
  {
   "cell_type": "code",
   "execution_count": 104,
   "id": "ea39717a",
   "metadata": {
    "scrolled": true
   },
   "outputs": [
    {
     "name": "stdout",
     "output_type": "stream",
     "text": [
      "Accuracy:  0.9664204163868368\n",
      "\n",
      "Confusion Matrix: \n",
      " [[5711   33]\n",
      " [ 167   45]]\n",
      "\n",
      "Classification Report: \n",
      "               precision    recall  f1-score   support\n",
      "\n",
      "         0.0       0.97      0.99      0.98      5744\n",
      "         1.0       0.58      0.21      0.31       212\n",
      "\n",
      "    accuracy                           0.97      5956\n",
      "   macro avg       0.77      0.60      0.65      5956\n",
      "weighted avg       0.96      0.97      0.96      5956\n",
      "\n"
     ]
    }
   ],
   "source": [
    "# Print Accuracy\n",
    "print('Accuracy: ', metrics.accuracy_score(y_train, logistic_reg_predictions) )\n",
    "\n",
    "# Print Confusion Matrix\n",
    "print('\\nConfusion Matrix: \\n', metrics.confusion_matrix(y_train, logistic_reg_predictions) )\n",
    "\n",
    "# Print Classification Report\n",
    "print('\\nClassification Report: \\n', metrics.classification_report(y_train, logistic_reg_predictions))"
   ]
  },
  {
   "cell_type": "markdown",
   "id": "e50210b6",
   "metadata": {},
   "source": [
    "The Logistical Regression model has a similar level of accuracy as the Linear Regression model. However, the recall measure for the target feature is higher meaning it is better at correctly predicting the target feature."
   ]
  },
  {
   "cell_type": "markdown",
   "id": "d6e60dea",
   "metadata": {},
   "source": [
    "<a id=\"4.4\"></a>\n",
    "## 4.4. Model Evaluation"
   ]
  },
  {
   "cell_type": "code",
   "execution_count": 158,
   "id": "a03a99f4",
   "metadata": {
    "scrolled": true
   },
   "outputs": [
    {
     "data": {
      "text/html": [
       "<div>\n",
       "<style scoped>\n",
       "    .dataframe tbody tr th:only-of-type {\n",
       "        vertical-align: middle;\n",
       "    }\n",
       "\n",
       "    .dataframe tbody tr th {\n",
       "        vertical-align: top;\n",
       "    }\n",
       "\n",
       "    .dataframe thead th {\n",
       "        text-align: right;\n",
       "    }\n",
       "</style>\n",
       "<table border=\"1\" class=\"dataframe\">\n",
       "  <thead>\n",
       "    <tr style=\"text-align: right;\">\n",
       "      <th></th>\n",
       "      <th>DeathClass</th>\n",
       "      <th>Predicted</th>\n",
       "    </tr>\n",
       "  </thead>\n",
       "  <tbody>\n",
       "    <tr>\n",
       "      <th>5179</th>\n",
       "      <td>0.0</td>\n",
       "      <td>0.0</td>\n",
       "    </tr>\n",
       "    <tr>\n",
       "      <th>5467</th>\n",
       "      <td>0.0</td>\n",
       "      <td>0.0</td>\n",
       "    </tr>\n",
       "    <tr>\n",
       "      <th>3501</th>\n",
       "      <td>0.0</td>\n",
       "      <td>0.0</td>\n",
       "    </tr>\n",
       "    <tr>\n",
       "      <th>6039</th>\n",
       "      <td>0.0</td>\n",
       "      <td>0.0</td>\n",
       "    </tr>\n",
       "    <tr>\n",
       "      <th>7999</th>\n",
       "      <td>0.0</td>\n",
       "      <td>0.0</td>\n",
       "    </tr>\n",
       "    <tr>\n",
       "      <th>...</th>\n",
       "      <td>...</td>\n",
       "      <td>...</td>\n",
       "    </tr>\n",
       "    <tr>\n",
       "      <th>4228</th>\n",
       "      <td>0.0</td>\n",
       "      <td>0.0</td>\n",
       "    </tr>\n",
       "    <tr>\n",
       "      <th>7209</th>\n",
       "      <td>0.0</td>\n",
       "      <td>0.0</td>\n",
       "    </tr>\n",
       "    <tr>\n",
       "      <th>6995</th>\n",
       "      <td>1.0</td>\n",
       "      <td>0.0</td>\n",
       "    </tr>\n",
       "    <tr>\n",
       "      <th>1355</th>\n",
       "      <td>0.0</td>\n",
       "      <td>0.0</td>\n",
       "    </tr>\n",
       "    <tr>\n",
       "      <th>5882</th>\n",
       "      <td>0.0</td>\n",
       "      <td>0.0</td>\n",
       "    </tr>\n",
       "  </tbody>\n",
       "</table>\n",
       "<p>2553 rows × 2 columns</p>\n",
       "</div>"
      ],
      "text/plain": [
       "      DeathClass  Predicted\n",
       "5179         0.0        0.0\n",
       "5467         0.0        0.0\n",
       "3501         0.0        0.0\n",
       "6039         0.0        0.0\n",
       "7999         0.0        0.0\n",
       "...          ...        ...\n",
       "4228         0.0        0.0\n",
       "7209         0.0        0.0\n",
       "6995         1.0        0.0\n",
       "1355         0.0        0.0\n",
       "5882         0.0        0.0\n",
       "\n",
       "[2553 rows x 2 columns]"
      ]
     },
     "execution_count": 158,
     "metadata": {},
     "output_type": "execute_result"
    }
   ],
   "source": [
    "# Evaluate the model using classification evaluation measures on the hold-out (30%) test set.\n",
    "logistic_reg_predictions_test = (logistic_reg.predict(X_test) >= 0.5) * 1.0\n",
    "\n",
    "# Print predictions\n",
    "actual_vs_predicted_logistic_reg_test = pd.DataFrame(y_test)\n",
    "actual_vs_predicted_logistic_reg_test['Predicted'] = logistic_reg_predictions_test\n",
    "#print(\"\\nPredictions with logistic regression on test set: \\n\")\n",
    "actual_vs_predicted_logistic_reg_test"
   ]
  },
  {
   "cell_type": "code",
   "execution_count": 159,
   "id": "7633d04d",
   "metadata": {
    "scrolled": true
   },
   "outputs": [
    {
     "name": "stdout",
     "output_type": "stream",
     "text": [
      "Accuracy:  0.9682726204465335\n",
      "\n",
      "Confusion Matrix: \n",
      " [[2460   10]\n",
      " [  71   12]]\n",
      "\n",
      "Classification Report: \n",
      "               precision    recall  f1-score   support\n",
      "\n",
      "         0.0       0.97      1.00      0.98      2470\n",
      "         1.0       0.55      0.14      0.23        83\n",
      "\n",
      "    accuracy                           0.97      2553\n",
      "   macro avg       0.76      0.57      0.61      2553\n",
      "weighted avg       0.96      0.97      0.96      2553\n",
      "\n"
     ]
    }
   ],
   "source": [
    "# Print Accuracy\n",
    "print('Accuracy: ', metrics.accuracy_score(actual_vs_predicted_logistic_reg_test['DeathClass'], actual_vs_predicted_logistic_reg_test['Predicted']) )\n",
    "\n",
    "# Print Confusion Matrix\n",
    "print('\\nConfusion Matrix: \\n', metrics.confusion_matrix(actual_vs_predicted_logistic_reg_test['DeathClass'], actual_vs_predicted_logistic_reg_test['Predicted']) )\n",
    "\n",
    "# Print Classification Report\n",
    "print('\\nClassification Report: \\n', metrics.classification_report(actual_vs_predicted_logistic_reg_test['DeathClass'], actual_vs_predicted_logistic_reg_test['Predicted']) )"
   ]
  },
  {
   "cell_type": "markdown",
   "id": "2543952c",
   "metadata": {},
   "source": [
    "After running the model on the test dataset we see that the accuracy is still very high. There has been a drop in the recall measure for the target feature however this is still higher than that for the linear regression."
   ]
  },
  {
   "cell_type": "markdown",
   "id": "b2fec0e5",
   "metadata": {},
   "source": [
    "#### Cross-validated Model"
   ]
  },
  {
   "cell_type": "code",
   "execution_count": 185,
   "id": "eab29e0c",
   "metadata": {},
   "outputs": [
    {
     "name": "stdout",
     "output_type": "stream",
     "text": [
      "[0.96709753 0.96709753 0.96709753 0.96827262 0.96827262 0.9706228\n",
      " 0.96357227 0.96357227 0.96709753 0.96823529]\n",
      "0.9670937996820349\n"
     ]
    }
   ],
   "source": [
    "# Run cross-validation model\n",
    "scores = cross_val_score(LogisticRegression(), X, y['DeathClass'], cv=10)\n",
    "print(scores)\n",
    "print(scores.mean())"
   ]
  },
  {
   "cell_type": "markdown",
   "id": "e3fc1b56",
   "metadata": {},
   "source": [
    "For the logistical regression the cross-validated model return an accuracy score similar to the model trained on the 70/30 split. It is also significantly higher than the score for the cross-validated linear regression model."
   ]
  },
  {
   "cell_type": "markdown",
   "id": "f425fef1",
   "metadata": {},
   "source": [
    "***"
   ]
  },
  {
   "cell_type": "markdown",
   "id": "72c9156d",
   "metadata": {},
   "source": [
    "<a id=\"5\"></a>\n",
    "# 5. Predictive Modeling: Random Forest"
   ]
  },
  {
   "cell_type": "markdown",
   "id": "8d380940",
   "metadata": {},
   "source": [
    "<a id=\"5.1\"></a>\n",
    "## 5.1. Random Forest Model"
   ]
  },
  {
   "cell_type": "code",
   "execution_count": 105,
   "id": "c1670ffb",
   "metadata": {},
   "outputs": [
    {
     "name": "stderr",
     "output_type": "stream",
     "text": [
      "<ipython-input-105-df86d8b69cf2>:3: DataConversionWarning: A column-vector y was passed when a 1d array was expected. Please change the shape of y to (n_samples,), for example using ravel().\n",
      "  random_forest.fit(X_train, y_train)\n"
     ]
    },
    {
     "data": {
      "text/plain": [
       "RandomForestClassifier(oob_score=True, random_state=1)"
      ]
     },
     "execution_count": 105,
     "metadata": {},
     "output_type": "execute_result"
    }
   ],
   "source": [
    "# Train a random forest on the training dataset\n",
    "random_forest = RandomForestClassifier(n_estimators=100, max_features='auto', oob_score=True, random_state=1)\n",
    "random_forest.fit(X_train, y_train)"
   ]
  },
  {
   "cell_type": "markdown",
   "id": "e23adf92",
   "metadata": {},
   "source": [
    "<a id=\"5.2\"></a>\n",
    "## 5.2. Model Interpretation"
   ]
  },
  {
   "cell_type": "code",
   "execution_count": 106,
   "id": "ff94dccf",
   "metadata": {},
   "outputs": [
    {
     "data": {
      "text/html": [
       "<div>\n",
       "<style scoped>\n",
       "    .dataframe tbody tr th:only-of-type {\n",
       "        vertical-align: middle;\n",
       "    }\n",
       "\n",
       "    .dataframe tbody tr th {\n",
       "        vertical-align: top;\n",
       "    }\n",
       "\n",
       "    .dataframe thead th {\n",
       "        text-align: right;\n",
       "    }\n",
       "</style>\n",
       "<table border=\"1\" class=\"dataframe\">\n",
       "  <thead>\n",
       "    <tr style=\"text-align: right;\">\n",
       "      <th></th>\n",
       "      <th>Feature</th>\n",
       "      <th>Importance</th>\n",
       "    </tr>\n",
       "  </thead>\n",
       "  <tbody>\n",
       "    <tr>\n",
       "      <th>0</th>\n",
       "      <td>Female</td>\n",
       "      <td>0.031687</td>\n",
       "    </tr>\n",
       "    <tr>\n",
       "      <th>1</th>\n",
       "      <td>Male</td>\n",
       "      <td>0.029406</td>\n",
       "    </tr>\n",
       "    <tr>\n",
       "      <th>2</th>\n",
       "      <td>0 - 9 Years</td>\n",
       "      <td>0.027393</td>\n",
       "    </tr>\n",
       "    <tr>\n",
       "      <th>3</th>\n",
       "      <td>10 - 19 Years</td>\n",
       "      <td>0.020336</td>\n",
       "    </tr>\n",
       "    <tr>\n",
       "      <th>4</th>\n",
       "      <td>20 - 29 Years</td>\n",
       "      <td>0.036455</td>\n",
       "    </tr>\n",
       "    <tr>\n",
       "      <th>5</th>\n",
       "      <td>30 - 39 Years</td>\n",
       "      <td>0.033528</td>\n",
       "    </tr>\n",
       "    <tr>\n",
       "      <th>6</th>\n",
       "      <td>40 - 49 Years</td>\n",
       "      <td>0.055240</td>\n",
       "    </tr>\n",
       "    <tr>\n",
       "      <th>7</th>\n",
       "      <td>50 - 59 Years</td>\n",
       "      <td>0.066957</td>\n",
       "    </tr>\n",
       "    <tr>\n",
       "      <th>8</th>\n",
       "      <td>60 - 69 Years</td>\n",
       "      <td>0.068685</td>\n",
       "    </tr>\n",
       "    <tr>\n",
       "      <th>9</th>\n",
       "      <td>70 - 79 Years</td>\n",
       "      <td>0.067722</td>\n",
       "    </tr>\n",
       "    <tr>\n",
       "      <th>10</th>\n",
       "      <td>hosp_No</td>\n",
       "      <td>0.035655</td>\n",
       "    </tr>\n",
       "    <tr>\n",
       "      <th>11</th>\n",
       "      <td>hosp_Yes</td>\n",
       "      <td>0.243675</td>\n",
       "    </tr>\n",
       "    <tr>\n",
       "      <th>12</th>\n",
       "      <td>icu_No</td>\n",
       "      <td>0.058923</td>\n",
       "    </tr>\n",
       "    <tr>\n",
       "      <th>13</th>\n",
       "      <td>icu_Yes</td>\n",
       "      <td>0.116486</td>\n",
       "    </tr>\n",
       "    <tr>\n",
       "      <th>14</th>\n",
       "      <td>medcond_No</td>\n",
       "      <td>0.016476</td>\n",
       "    </tr>\n",
       "    <tr>\n",
       "      <th>15</th>\n",
       "      <td>medcond_Yes</td>\n",
       "      <td>0.091377</td>\n",
       "    </tr>\n",
       "  </tbody>\n",
       "</table>\n",
       "</div>"
      ],
      "text/plain": [
       "          Feature  Importance\n",
       "0          Female    0.031687\n",
       "1            Male    0.029406\n",
       "2     0 - 9 Years    0.027393\n",
       "3   10 - 19 Years    0.020336\n",
       "4   20 - 29 Years    0.036455\n",
       "5   30 - 39 Years    0.033528\n",
       "6   40 - 49 Years    0.055240\n",
       "7   50 - 59 Years    0.066957\n",
       "8   60 - 69 Years    0.068685\n",
       "9   70 - 79 Years    0.067722\n",
       "10        hosp_No    0.035655\n",
       "11       hosp_Yes    0.243675\n",
       "12         icu_No    0.058923\n",
       "13        icu_Yes    0.116486\n",
       "14     medcond_No    0.016476\n",
       "15    medcond_Yes    0.091377"
      ]
     },
     "execution_count": 106,
     "metadata": {},
     "output_type": "execute_result"
    }
   ],
   "source": [
    "# Print the feature importance learned by the model and discuss their role in the model.\n",
    "pd.DataFrame({'Feature': X_train.columns, 'Importance': random_forest.feature_importances_})"
   ]
  },
  {
   "cell_type": "markdown",
   "id": "39126c88",
   "metadata": {},
   "source": [
    "From the feature importance table above we can see that no feature has an importance level above 0.5. The most important feature as determined by this model is hosp_Yes. The next important feature is icu_Yes. In relation to these two features, the other features have very low importance levels."
   ]
  },
  {
   "cell_type": "markdown",
   "id": "c96b2293",
   "metadata": {},
   "source": [
    "With the random forest model it is possible to determine the level of importance each feature has for the model but not how these features alter the target feature in relation to changes in the input features."
   ]
  },
  {
   "cell_type": "markdown",
   "id": "b5a1e34d",
   "metadata": {},
   "source": [
    "<a id=\"5.3\"></a>\n",
    "## 5.3. Predicted Target Value"
   ]
  },
  {
   "cell_type": "code",
   "execution_count": 160,
   "id": "331a6008",
   "metadata": {
    "collapsed": true
   },
   "outputs": [
    {
     "name": "stdout",
     "output_type": "stream",
     "text": [
      "\n",
      "Predictions with logistic regression: \n",
      "\n"
     ]
    },
    {
     "ename": "ValueError",
     "evalue": "Shape of passed values is (5956, 1), indices imply (8509, 1)",
     "output_type": "error",
     "traceback": [
      "\u001b[1;31m---------------------------------------------------------------------------\u001b[0m",
      "\u001b[1;31mValueError\u001b[0m                                Traceback (most recent call last)",
      "\u001b[1;32mc:\\users\\ckiy\\anaconda3\\envs\\comp47350homework2\\lib\\site-packages\\pandas\\core\\internals\\managers.py\u001b[0m in \u001b[0;36mcreate_block_manager_from_blocks\u001b[1;34m(blocks, axes)\u001b[0m\n\u001b[0;32m   1679\u001b[0m \u001b[1;33m\u001b[0m\u001b[0m\n\u001b[1;32m-> 1680\u001b[1;33m         \u001b[0mmgr\u001b[0m \u001b[1;33m=\u001b[0m \u001b[0mBlockManager\u001b[0m\u001b[1;33m(\u001b[0m\u001b[0mblocks\u001b[0m\u001b[1;33m,\u001b[0m \u001b[0maxes\u001b[0m\u001b[1;33m)\u001b[0m\u001b[1;33m\u001b[0m\u001b[1;33m\u001b[0m\u001b[0m\n\u001b[0m\u001b[0;32m   1681\u001b[0m         \u001b[0mmgr\u001b[0m\u001b[1;33m.\u001b[0m\u001b[0m_consolidate_inplace\u001b[0m\u001b[1;33m(\u001b[0m\u001b[1;33m)\u001b[0m\u001b[1;33m\u001b[0m\u001b[1;33m\u001b[0m\u001b[0m\n",
      "\u001b[1;32mc:\\users\\ckiy\\anaconda3\\envs\\comp47350homework2\\lib\\site-packages\\pandas\\core\\internals\\managers.py\u001b[0m in \u001b[0;36m__init__\u001b[1;34m(self, blocks, axes, do_integrity_check)\u001b[0m\n\u001b[0;32m    142\u001b[0m         \u001b[1;32mif\u001b[0m \u001b[0mdo_integrity_check\u001b[0m\u001b[1;33m:\u001b[0m\u001b[1;33m\u001b[0m\u001b[1;33m\u001b[0m\u001b[0m\n\u001b[1;32m--> 143\u001b[1;33m             \u001b[0mself\u001b[0m\u001b[1;33m.\u001b[0m\u001b[0m_verify_integrity\u001b[0m\u001b[1;33m(\u001b[0m\u001b[1;33m)\u001b[0m\u001b[1;33m\u001b[0m\u001b[1;33m\u001b[0m\u001b[0m\n\u001b[0m\u001b[0;32m    144\u001b[0m \u001b[1;33m\u001b[0m\u001b[0m\n",
      "\u001b[1;32mc:\\users\\ckiy\\anaconda3\\envs\\comp47350homework2\\lib\\site-packages\\pandas\\core\\internals\\managers.py\u001b[0m in \u001b[0;36m_verify_integrity\u001b[1;34m(self)\u001b[0m\n\u001b[0;32m    322\u001b[0m             \u001b[1;32mif\u001b[0m \u001b[0mblock\u001b[0m\u001b[1;33m.\u001b[0m\u001b[0mshape\u001b[0m\u001b[1;33m[\u001b[0m\u001b[1;36m1\u001b[0m\u001b[1;33m:\u001b[0m\u001b[1;33m]\u001b[0m \u001b[1;33m!=\u001b[0m \u001b[0mmgr_shape\u001b[0m\u001b[1;33m[\u001b[0m\u001b[1;36m1\u001b[0m\u001b[1;33m:\u001b[0m\u001b[1;33m]\u001b[0m\u001b[1;33m:\u001b[0m\u001b[1;33m\u001b[0m\u001b[1;33m\u001b[0m\u001b[0m\n\u001b[1;32m--> 323\u001b[1;33m                 \u001b[1;32mraise\u001b[0m \u001b[0mconstruction_error\u001b[0m\u001b[1;33m(\u001b[0m\u001b[0mtot_items\u001b[0m\u001b[1;33m,\u001b[0m \u001b[0mblock\u001b[0m\u001b[1;33m.\u001b[0m\u001b[0mshape\u001b[0m\u001b[1;33m[\u001b[0m\u001b[1;36m1\u001b[0m\u001b[1;33m:\u001b[0m\u001b[1;33m]\u001b[0m\u001b[1;33m,\u001b[0m \u001b[0mself\u001b[0m\u001b[1;33m.\u001b[0m\u001b[0maxes\u001b[0m\u001b[1;33m)\u001b[0m\u001b[1;33m\u001b[0m\u001b[1;33m\u001b[0m\u001b[0m\n\u001b[0m\u001b[0;32m    324\u001b[0m         \u001b[1;32mif\u001b[0m \u001b[0mlen\u001b[0m\u001b[1;33m(\u001b[0m\u001b[0mself\u001b[0m\u001b[1;33m.\u001b[0m\u001b[0mitems\u001b[0m\u001b[1;33m)\u001b[0m \u001b[1;33m!=\u001b[0m \u001b[0mtot_items\u001b[0m\u001b[1;33m:\u001b[0m\u001b[1;33m\u001b[0m\u001b[1;33m\u001b[0m\u001b[0m\n",
      "\u001b[1;31mValueError\u001b[0m: Shape of passed values is (5956, 1), indices imply (8509, 1)",
      "\nDuring handling of the above exception, another exception occurred:\n",
      "\u001b[1;31mValueError\u001b[0m                                Traceback (most recent call last)",
      "\u001b[1;32m<ipython-input-160-97d133b84995>\u001b[0m in \u001b[0;36m<module>\u001b[1;34m\u001b[0m\n\u001b[0;32m      2\u001b[0m \u001b[0mrandom_forest_predictions\u001b[0m \u001b[1;33m=\u001b[0m \u001b[0mrandom_forest\u001b[0m\u001b[1;33m.\u001b[0m\u001b[0mpredict\u001b[0m\u001b[1;33m(\u001b[0m\u001b[0mX_train\u001b[0m\u001b[1;33m)\u001b[0m\u001b[1;33m\u001b[0m\u001b[1;33m\u001b[0m\u001b[0m\n\u001b[0;32m      3\u001b[0m \u001b[0mprint\u001b[0m\u001b[1;33m(\u001b[0m\u001b[1;34m\"\\nPredictions with logistic regression: \\n\"\u001b[0m\u001b[1;33m)\u001b[0m\u001b[1;33m\u001b[0m\u001b[1;33m\u001b[0m\u001b[0m\n\u001b[1;32m----> 4\u001b[1;33m \u001b[0mactual_vs_predicted_random_forest\u001b[0m \u001b[1;33m=\u001b[0m \u001b[0mpd\u001b[0m\u001b[1;33m.\u001b[0m\u001b[0mconcat\u001b[0m\u001b[1;33m(\u001b[0m\u001b[1;33m[\u001b[0m\u001b[0my_train\u001b[0m\u001b[1;33m,\u001b[0m \u001b[0mpd\u001b[0m\u001b[1;33m.\u001b[0m\u001b[0mDataFrame\u001b[0m\u001b[1;33m(\u001b[0m\u001b[0mrandom_forest_predictions\u001b[0m\u001b[1;33m,\u001b[0m \u001b[0mcolumns\u001b[0m\u001b[1;33m=\u001b[0m\u001b[1;33m[\u001b[0m\u001b[1;34m'Predicted'\u001b[0m\u001b[1;33m]\u001b[0m\u001b[1;33m,\u001b[0m \u001b[0mindex\u001b[0m\u001b[1;33m=\u001b[0m\u001b[0my\u001b[0m\u001b[1;33m.\u001b[0m\u001b[0mindex\u001b[0m\u001b[1;33m)\u001b[0m\u001b[1;33m]\u001b[0m\u001b[1;33m,\u001b[0m \u001b[0maxis\u001b[0m\u001b[1;33m=\u001b[0m\u001b[1;36m1\u001b[0m\u001b[1;33m)\u001b[0m\u001b[1;33m\u001b[0m\u001b[1;33m\u001b[0m\u001b[0m\n\u001b[0m\u001b[0;32m      5\u001b[0m \u001b[0mactual_vs_predicted_random_forest\u001b[0m\u001b[1;33m.\u001b[0m\u001b[0mhead\u001b[0m\u001b[1;33m(\u001b[0m\u001b[1;36m10\u001b[0m\u001b[1;33m)\u001b[0m\u001b[1;33m\u001b[0m\u001b[1;33m\u001b[0m\u001b[0m\n",
      "\u001b[1;32mc:\\users\\ckiy\\anaconda3\\envs\\comp47350homework2\\lib\\site-packages\\pandas\\core\\frame.py\u001b[0m in \u001b[0;36m__init__\u001b[1;34m(self, data, index, columns, dtype, copy)\u001b[0m\n\u001b[0;32m    556\u001b[0m                 \u001b[0mmgr\u001b[0m \u001b[1;33m=\u001b[0m \u001b[0minit_dict\u001b[0m\u001b[1;33m(\u001b[0m\u001b[1;33m{\u001b[0m\u001b[0mdata\u001b[0m\u001b[1;33m.\u001b[0m\u001b[0mname\u001b[0m\u001b[1;33m:\u001b[0m \u001b[0mdata\u001b[0m\u001b[1;33m}\u001b[0m\u001b[1;33m,\u001b[0m \u001b[0mindex\u001b[0m\u001b[1;33m,\u001b[0m \u001b[0mcolumns\u001b[0m\u001b[1;33m,\u001b[0m \u001b[0mdtype\u001b[0m\u001b[1;33m=\u001b[0m\u001b[0mdtype\u001b[0m\u001b[1;33m)\u001b[0m\u001b[1;33m\u001b[0m\u001b[1;33m\u001b[0m\u001b[0m\n\u001b[0;32m    557\u001b[0m             \u001b[1;32melse\u001b[0m\u001b[1;33m:\u001b[0m\u001b[1;33m\u001b[0m\u001b[1;33m\u001b[0m\u001b[0m\n\u001b[1;32m--> 558\u001b[1;33m                 \u001b[0mmgr\u001b[0m \u001b[1;33m=\u001b[0m \u001b[0minit_ndarray\u001b[0m\u001b[1;33m(\u001b[0m\u001b[0mdata\u001b[0m\u001b[1;33m,\u001b[0m \u001b[0mindex\u001b[0m\u001b[1;33m,\u001b[0m \u001b[0mcolumns\u001b[0m\u001b[1;33m,\u001b[0m \u001b[0mdtype\u001b[0m\u001b[1;33m=\u001b[0m\u001b[0mdtype\u001b[0m\u001b[1;33m,\u001b[0m \u001b[0mcopy\u001b[0m\u001b[1;33m=\u001b[0m\u001b[0mcopy\u001b[0m\u001b[1;33m)\u001b[0m\u001b[1;33m\u001b[0m\u001b[1;33m\u001b[0m\u001b[0m\n\u001b[0m\u001b[0;32m    559\u001b[0m \u001b[1;33m\u001b[0m\u001b[0m\n\u001b[0;32m    560\u001b[0m         \u001b[1;31m# For data is list-like, or Iterable (will consume into list)\u001b[0m\u001b[1;33m\u001b[0m\u001b[1;33m\u001b[0m\u001b[1;33m\u001b[0m\u001b[0m\n",
      "\u001b[1;32mc:\\users\\ckiy\\anaconda3\\envs\\comp47350homework2\\lib\\site-packages\\pandas\\core\\internals\\construction.py\u001b[0m in \u001b[0;36minit_ndarray\u001b[1;34m(values, index, columns, dtype, copy)\u001b[0m\n\u001b[0;32m    236\u001b[0m         \u001b[0mblock_values\u001b[0m \u001b[1;33m=\u001b[0m \u001b[1;33m[\u001b[0m\u001b[0mvalues\u001b[0m\u001b[1;33m]\u001b[0m\u001b[1;33m\u001b[0m\u001b[1;33m\u001b[0m\u001b[0m\n\u001b[0;32m    237\u001b[0m \u001b[1;33m\u001b[0m\u001b[0m\n\u001b[1;32m--> 238\u001b[1;33m     \u001b[1;32mreturn\u001b[0m \u001b[0mcreate_block_manager_from_blocks\u001b[0m\u001b[1;33m(\u001b[0m\u001b[0mblock_values\u001b[0m\u001b[1;33m,\u001b[0m \u001b[1;33m[\u001b[0m\u001b[0mcolumns\u001b[0m\u001b[1;33m,\u001b[0m \u001b[0mindex\u001b[0m\u001b[1;33m]\u001b[0m\u001b[1;33m)\u001b[0m\u001b[1;33m\u001b[0m\u001b[1;33m\u001b[0m\u001b[0m\n\u001b[0m\u001b[0;32m    239\u001b[0m \u001b[1;33m\u001b[0m\u001b[0m\n\u001b[0;32m    240\u001b[0m \u001b[1;33m\u001b[0m\u001b[0m\n",
      "\u001b[1;32mc:\\users\\ckiy\\anaconda3\\envs\\comp47350homework2\\lib\\site-packages\\pandas\\core\\internals\\managers.py\u001b[0m in \u001b[0;36mcreate_block_manager_from_blocks\u001b[1;34m(blocks, axes)\u001b[0m\n\u001b[0;32m   1685\u001b[0m         \u001b[0mblocks\u001b[0m \u001b[1;33m=\u001b[0m \u001b[1;33m[\u001b[0m\u001b[0mgetattr\u001b[0m\u001b[1;33m(\u001b[0m\u001b[0mb\u001b[0m\u001b[1;33m,\u001b[0m \u001b[1;34m\"values\"\u001b[0m\u001b[1;33m,\u001b[0m \u001b[0mb\u001b[0m\u001b[1;33m)\u001b[0m \u001b[1;32mfor\u001b[0m \u001b[0mb\u001b[0m \u001b[1;32min\u001b[0m \u001b[0mblocks\u001b[0m\u001b[1;33m]\u001b[0m\u001b[1;33m\u001b[0m\u001b[1;33m\u001b[0m\u001b[0m\n\u001b[0;32m   1686\u001b[0m         \u001b[0mtot_items\u001b[0m \u001b[1;33m=\u001b[0m \u001b[0msum\u001b[0m\u001b[1;33m(\u001b[0m\u001b[0mb\u001b[0m\u001b[1;33m.\u001b[0m\u001b[0mshape\u001b[0m\u001b[1;33m[\u001b[0m\u001b[1;36m0\u001b[0m\u001b[1;33m]\u001b[0m \u001b[1;32mfor\u001b[0m \u001b[0mb\u001b[0m \u001b[1;32min\u001b[0m \u001b[0mblocks\u001b[0m\u001b[1;33m)\u001b[0m\u001b[1;33m\u001b[0m\u001b[1;33m\u001b[0m\u001b[0m\n\u001b[1;32m-> 1687\u001b[1;33m         \u001b[1;32mraise\u001b[0m \u001b[0mconstruction_error\u001b[0m\u001b[1;33m(\u001b[0m\u001b[0mtot_items\u001b[0m\u001b[1;33m,\u001b[0m \u001b[0mblocks\u001b[0m\u001b[1;33m[\u001b[0m\u001b[1;36m0\u001b[0m\u001b[1;33m]\u001b[0m\u001b[1;33m.\u001b[0m\u001b[0mshape\u001b[0m\u001b[1;33m[\u001b[0m\u001b[1;36m1\u001b[0m\u001b[1;33m:\u001b[0m\u001b[1;33m]\u001b[0m\u001b[1;33m,\u001b[0m \u001b[0maxes\u001b[0m\u001b[1;33m,\u001b[0m \u001b[0me\u001b[0m\u001b[1;33m)\u001b[0m\u001b[1;33m\u001b[0m\u001b[1;33m\u001b[0m\u001b[0m\n\u001b[0m\u001b[0;32m   1688\u001b[0m \u001b[1;33m\u001b[0m\u001b[0m\n\u001b[0;32m   1689\u001b[0m \u001b[1;33m\u001b[0m\u001b[0m\n",
      "\u001b[1;31mValueError\u001b[0m: Shape of passed values is (5956, 1), indices imply (8509, 1)"
     ]
    }
   ],
   "source": [
    "# Print the predicted target feature value for the first 10 training examples\n",
    "random_forest_predictions = random_forest.predict(X_train)\n",
    "print(\"\\nPredictions with logistic regression: \\n\")\n",
    "actual_vs_predicted_random_forest = pd.concat([y_train, pd.DataFrame(random_forest_predictions, columns=['Predicted'], index=y.index)], axis=1)\n",
    "actual_vs_predicted_random_forest.head(10)"
   ]
  },
  {
   "cell_type": "markdown",
   "id": "c0b2ebe8",
   "metadata": {},
   "source": [
    "#### Classification Measures"
   ]
  },
  {
   "cell_type": "code",
   "execution_count": 153,
   "id": "0e1a418f",
   "metadata": {
    "scrolled": true
   },
   "outputs": [
    {
     "name": "stdout",
     "output_type": "stream",
     "text": [
      "Accuracy:  0.9699462726662189\n",
      "\n",
      "Out-of-Bag Accuracy:  0.9630624580255205\n",
      "\n",
      "Confusion Matrix: \n",
      " [[5721   23]\n",
      " [ 156   56]]\n",
      "\n",
      "Classification Report: \n",
      "               precision    recall  f1-score   support\n",
      "\n",
      "         0.0       0.97      1.00      0.98      5744\n",
      "         1.0       0.71      0.26      0.38       212\n",
      "\n",
      "    accuracy                           0.97      5956\n",
      "   macro avg       0.84      0.63      0.68      5956\n",
      "weighted avg       0.96      0.97      0.96      5956\n",
      "\n"
     ]
    }
   ],
   "source": [
    "# Print Accuracy\n",
    "print('Accuracy: ', metrics.accuracy_score(y_train, random_forest_predictions) )\n",
    "\n",
    "# Print OOB Score\n",
    "print('\\nOut-of-Bag Accuracy: ', random_forest.oob_score_)\n",
    "\n",
    "# Print Confusion Matrix\n",
    "print('\\nConfusion Matrix: \\n', metrics.confusion_matrix(y_train, random_forest_predictions) )\n",
    "\n",
    "# Print Classification Report\n",
    "print('\\nClassification Report: \\n', metrics.classification_report(y_train, random_forest_predictions))"
   ]
  },
  {
   "cell_type": "markdown",
   "id": "ec6e0ef5",
   "metadata": {},
   "source": [
    "The accuracy of the model on the training dataset and the Out-of-Bag accuracy are very high. However, again this could be due to the fact that the dataset is heavily imbalanced. The recall value for the target feature is slightly higher than that of the logistic regression."
   ]
  },
  {
   "cell_type": "markdown",
   "id": "9eb49817",
   "metadata": {},
   "source": [
    "<a id=\"5.4\"></a>\n",
    "## 5.4. Model Evaluation"
   ]
  },
  {
   "cell_type": "code",
   "execution_count": 161,
   "id": "6626b60e",
   "metadata": {
    "scrolled": true
   },
   "outputs": [
    {
     "data": {
      "text/html": [
       "<div>\n",
       "<style scoped>\n",
       "    .dataframe tbody tr th:only-of-type {\n",
       "        vertical-align: middle;\n",
       "    }\n",
       "\n",
       "    .dataframe tbody tr th {\n",
       "        vertical-align: top;\n",
       "    }\n",
       "\n",
       "    .dataframe thead th {\n",
       "        text-align: right;\n",
       "    }\n",
       "</style>\n",
       "<table border=\"1\" class=\"dataframe\">\n",
       "  <thead>\n",
       "    <tr style=\"text-align: right;\">\n",
       "      <th></th>\n",
       "      <th>DeathClass</th>\n",
       "      <th>Predicted</th>\n",
       "    </tr>\n",
       "  </thead>\n",
       "  <tbody>\n",
       "    <tr>\n",
       "      <th>5179</th>\n",
       "      <td>0.0</td>\n",
       "      <td>0.0</td>\n",
       "    </tr>\n",
       "    <tr>\n",
       "      <th>5467</th>\n",
       "      <td>0.0</td>\n",
       "      <td>0.0</td>\n",
       "    </tr>\n",
       "    <tr>\n",
       "      <th>3501</th>\n",
       "      <td>0.0</td>\n",
       "      <td>0.0</td>\n",
       "    </tr>\n",
       "    <tr>\n",
       "      <th>6039</th>\n",
       "      <td>0.0</td>\n",
       "      <td>0.0</td>\n",
       "    </tr>\n",
       "    <tr>\n",
       "      <th>7999</th>\n",
       "      <td>0.0</td>\n",
       "      <td>0.0</td>\n",
       "    </tr>\n",
       "    <tr>\n",
       "      <th>...</th>\n",
       "      <td>...</td>\n",
       "      <td>...</td>\n",
       "    </tr>\n",
       "    <tr>\n",
       "      <th>4228</th>\n",
       "      <td>0.0</td>\n",
       "      <td>0.0</td>\n",
       "    </tr>\n",
       "    <tr>\n",
       "      <th>7209</th>\n",
       "      <td>0.0</td>\n",
       "      <td>0.0</td>\n",
       "    </tr>\n",
       "    <tr>\n",
       "      <th>6995</th>\n",
       "      <td>1.0</td>\n",
       "      <td>0.0</td>\n",
       "    </tr>\n",
       "    <tr>\n",
       "      <th>1355</th>\n",
       "      <td>0.0</td>\n",
       "      <td>0.0</td>\n",
       "    </tr>\n",
       "    <tr>\n",
       "      <th>5882</th>\n",
       "      <td>0.0</td>\n",
       "      <td>0.0</td>\n",
       "    </tr>\n",
       "  </tbody>\n",
       "</table>\n",
       "<p>2553 rows × 2 columns</p>\n",
       "</div>"
      ],
      "text/plain": [
       "      DeathClass  Predicted\n",
       "5179         0.0        0.0\n",
       "5467         0.0        0.0\n",
       "3501         0.0        0.0\n",
       "6039         0.0        0.0\n",
       "7999         0.0        0.0\n",
       "...          ...        ...\n",
       "4228         0.0        0.0\n",
       "7209         0.0        0.0\n",
       "6995         1.0        0.0\n",
       "1355         0.0        0.0\n",
       "5882         0.0        0.0\n",
       "\n",
       "[2553 rows x 2 columns]"
      ]
     },
     "execution_count": 161,
     "metadata": {},
     "output_type": "execute_result"
    }
   ],
   "source": [
    "# Evaluate the model using classification evaluation measures on the hold-out (30%) test set.\n",
    "random_forest_predictions_test = (random_forest.predict(X_test) >= 0.5) * 1.0\n",
    "\n",
    "# Print predictions\n",
    "actual_vs_predicted_random_forest_test = pd.DataFrame(y_test)\n",
    "actual_vs_predicted_random_forest_test['Predicted'] = random_forest_predictions_test\n",
    "#print(\"\\nPredictions with random forest on test set: \\n\")\n",
    "actual_vs_predicted_random_forest_test"
   ]
  },
  {
   "cell_type": "code",
   "execution_count": 162,
   "id": "b7864845",
   "metadata": {
    "scrolled": true
   },
   "outputs": [
    {
     "name": "stdout",
     "output_type": "stream",
     "text": [
      "Accuracy:  0.9690560125342734\n",
      "\n",
      "Confusion Matrix: \n",
      " [[2462    8]\n",
      " [  71   12]]\n",
      "\n",
      "Classification Report: \n",
      "               precision    recall  f1-score   support\n",
      "\n",
      "         0.0       0.97      1.00      0.98      2470\n",
      "         1.0       0.60      0.14      0.23        83\n",
      "\n",
      "    accuracy                           0.97      2553\n",
      "   macro avg       0.79      0.57      0.61      2553\n",
      "weighted avg       0.96      0.97      0.96      2553\n",
      "\n"
     ]
    }
   ],
   "source": [
    "# Print Accuracy\n",
    "print('Accuracy: ', metrics.accuracy_score(actual_vs_predicted_random_forest_test['DeathClass'], actual_vs_predicted_random_forest_test['Predicted']) )\n",
    "\n",
    "# Print Confusion Matrix\n",
    "print('\\nConfusion Matrix: \\n', metrics.confusion_matrix(actual_vs_predicted_random_forest_test['DeathClass'], actual_vs_predicted_random_forest_test['Predicted']) )\n",
    "\n",
    "# Print Classification Report\n",
    "print('\\nClassification Report: \\n', metrics.classification_report(actual_vs_predicted_random_forest_test['DeathClass'], actual_vs_predicted_random_forest_test['Predicted']) )"
   ]
  },
  {
   "cell_type": "markdown",
   "id": "b8e64b3c",
   "metadata": {},
   "source": [
    "The accuracy has remained almost the same. The recall value has dropped slightly and is the same as the logistic regression."
   ]
  },
  {
   "cell_type": "markdown",
   "id": "ba06d7a9",
   "metadata": {},
   "source": [
    "#### Cross-validated model"
   ]
  },
  {
   "cell_type": "code",
   "execution_count": 183,
   "id": "5106587d",
   "metadata": {},
   "outputs": [
    {
     "name": "stdout",
     "output_type": "stream",
     "text": [
      "[0.960047   0.96239718 0.96709753 0.9706228  0.96709753 0.960047\n",
      " 0.96944771 0.96944771 0.96592244 0.96705882]\n",
      "0.9659185733047625\n"
     ]
    }
   ],
   "source": [
    "scores = cross_val_score(RandomForestClassifier(n_estimators=100, max_features='auto', oob_score=True, random_state=1), X, y['DeathClass'], cv=10)\n",
    "print(scores)\n",
    "print(scores.mean())"
   ]
  },
  {
   "cell_type": "markdown",
   "id": "73179504",
   "metadata": {},
   "source": [
    "The cross-validated model resulted in a similar accuracy. This could be due to the multpiple splits accounting for the high imbalance in the target feature."
   ]
  },
  {
   "cell_type": "markdown",
   "id": "71979bca",
   "metadata": {},
   "source": [
    "***"
   ]
  },
  {
   "cell_type": "markdown",
   "id": "abf83e83",
   "metadata": {},
   "source": [
    "<a id=\"6\"></a>\n",
    "# 6. Improving the Predictive Models"
   ]
  },
  {
   "cell_type": "markdown",
   "id": "1bcf810f",
   "metadata": {},
   "source": [
    "<a id=\"6.1\"></a>\n",
    "## 6.1. Best Predictive Model"
   ]
  },
  {
   "cell_type": "markdown",
   "id": "65417788",
   "metadata": {},
   "source": [
    "The model I have chosen which I beleive is best at predicted the target feature is the Random Forest model.\n",
    "\n",
    "This model had the highest accuracy of the three models, however, I am cautious that this is a very unbalanced dataset. One key aspect of this model is that it predicted the lowest number of False Negatives. Given the problem domain is in the health sector and in particular these models are predicting the occurence of death, I strongly believe that we should aim to minimise this evaluation measure.\n",
    "\n",
    "While this model does predict a slightly higher number of False Positives compared to the Linear Regression, it also predicts a higher number of True Positives which is the target feature and the aim of this project."
   ]
  },
  {
   "cell_type": "markdown",
   "id": "81fd9b1f",
   "metadata": {},
   "source": [
    "<a id=\"6.2\"></a>\n",
    "## 6.2. Problem Summary"
   ]
  },
  {
   "cell_type": "markdown",
   "id": "0ed0c22a",
   "metadata": {},
   "source": [
    "It was hard to definitively capture the relationship between the descriptive features and the target feature. Each model initially returned a very high accuracy measure, however, I would be extremely skeptical of these results and there was a very high imbalance in the target feature in this dataset. Cross-validation proved the linear regression to be very inaccurate, while the accuracy of the other two model remained relatively the same. \n",
    "The models may be improved by training on a more robust dataset. The dataset used in this project had a very high number of unknown values for many of the features.\n",
    "Adding a new feature, such as the time from infection to the first sign of symptoms, may also help to improve the models."
   ]
  },
  {
   "cell_type": "markdown",
   "id": "47c52219",
   "metadata": {},
   "source": [
    "<a id=\"6.3\"></a>\n",
    "## 6.3. Model Evaluation on New Test Dataset"
   ]
  },
  {
   "cell_type": "code",
   "execution_count": 130,
   "id": "53fda075",
   "metadata": {},
   "outputs": [],
   "source": [
    "# Load in cleaned dataset from Homework 1\n",
    "df_unseen = pd.read_csv('data/24032021-covid19-cdc-deathyn-recent-10k.csv')"
   ]
  },
  {
   "cell_type": "code",
   "execution_count": 131,
   "id": "8a7f37db",
   "metadata": {},
   "outputs": [
    {
     "data": {
      "text/html": [
       "<div>\n",
       "<style scoped>\n",
       "    .dataframe tbody tr th:only-of-type {\n",
       "        vertical-align: middle;\n",
       "    }\n",
       "\n",
       "    .dataframe tbody tr th {\n",
       "        vertical-align: top;\n",
       "    }\n",
       "\n",
       "    .dataframe thead th {\n",
       "        text-align: right;\n",
       "    }\n",
       "</style>\n",
       "<table border=\"1\" class=\"dataframe\">\n",
       "  <thead>\n",
       "    <tr style=\"text-align: right;\">\n",
       "      <th></th>\n",
       "      <th>cdc_case_earliest_dt</th>\n",
       "      <th>cdc_report_dt</th>\n",
       "      <th>pos_spec_dt</th>\n",
       "      <th>onset_dt</th>\n",
       "      <th>current_status</th>\n",
       "      <th>sex</th>\n",
       "      <th>age_group</th>\n",
       "      <th>race_ethnicity_combined</th>\n",
       "      <th>hosp_yn</th>\n",
       "      <th>icu_yn</th>\n",
       "      <th>death_yn</th>\n",
       "      <th>medcond_yn</th>\n",
       "    </tr>\n",
       "  </thead>\n",
       "  <tbody>\n",
       "    <tr>\n",
       "      <th>0</th>\n",
       "      <td>2021/01/22</td>\n",
       "      <td>2021/01/22</td>\n",
       "      <td>NaN</td>\n",
       "      <td>NaN</td>\n",
       "      <td>Probable Case</td>\n",
       "      <td>Female</td>\n",
       "      <td>0 - 9 Years</td>\n",
       "      <td>Asian, Non-Hispanic</td>\n",
       "      <td>No</td>\n",
       "      <td>Missing</td>\n",
       "      <td>No</td>\n",
       "      <td>Missing</td>\n",
       "    </tr>\n",
       "    <tr>\n",
       "      <th>1</th>\n",
       "      <td>2021/01/26</td>\n",
       "      <td>NaN</td>\n",
       "      <td>NaN</td>\n",
       "      <td>NaN</td>\n",
       "      <td>Laboratory-confirmed case</td>\n",
       "      <td>Female</td>\n",
       "      <td>30 - 39 Years</td>\n",
       "      <td>Unknown</td>\n",
       "      <td>Unknown</td>\n",
       "      <td>Missing</td>\n",
       "      <td>No</td>\n",
       "      <td>Missing</td>\n",
       "    </tr>\n",
       "    <tr>\n",
       "      <th>2</th>\n",
       "      <td>2021/02/03</td>\n",
       "      <td>2021/02/05</td>\n",
       "      <td>NaN</td>\n",
       "      <td>2021/02/03</td>\n",
       "      <td>Laboratory-confirmed case</td>\n",
       "      <td>Female</td>\n",
       "      <td>40 - 49 Years</td>\n",
       "      <td>Asian, Non-Hispanic</td>\n",
       "      <td>Missing</td>\n",
       "      <td>Missing</td>\n",
       "      <td>No</td>\n",
       "      <td>Missing</td>\n",
       "    </tr>\n",
       "    <tr>\n",
       "      <th>3</th>\n",
       "      <td>2021/02/05</td>\n",
       "      <td>2021/02/05</td>\n",
       "      <td>2021/02/07</td>\n",
       "      <td>2021/02/05</td>\n",
       "      <td>Laboratory-confirmed case</td>\n",
       "      <td>Male</td>\n",
       "      <td>40 - 49 Years</td>\n",
       "      <td>Hispanic/Latino</td>\n",
       "      <td>No</td>\n",
       "      <td>Unknown</td>\n",
       "      <td>No</td>\n",
       "      <td>No</td>\n",
       "    </tr>\n",
       "    <tr>\n",
       "      <th>4</th>\n",
       "      <td>2021/01/27</td>\n",
       "      <td>2021/01/27</td>\n",
       "      <td>NaN</td>\n",
       "      <td>NaN</td>\n",
       "      <td>Laboratory-confirmed case</td>\n",
       "      <td>Female</td>\n",
       "      <td>40 - 49 Years</td>\n",
       "      <td>White, Non-Hispanic</td>\n",
       "      <td>No</td>\n",
       "      <td>Missing</td>\n",
       "      <td>No</td>\n",
       "      <td>Missing</td>\n",
       "    </tr>\n",
       "    <tr>\n",
       "      <th>5</th>\n",
       "      <td>2021/02/07</td>\n",
       "      <td>2021/02/07</td>\n",
       "      <td>2021/02/07</td>\n",
       "      <td>NaN</td>\n",
       "      <td>Laboratory-confirmed case</td>\n",
       "      <td>Female</td>\n",
       "      <td>30 - 39 Years</td>\n",
       "      <td>Unknown</td>\n",
       "      <td>Unknown</td>\n",
       "      <td>Unknown</td>\n",
       "      <td>No</td>\n",
       "      <td>Unknown</td>\n",
       "    </tr>\n",
       "    <tr>\n",
       "      <th>6</th>\n",
       "      <td>2021/01/26</td>\n",
       "      <td>NaN</td>\n",
       "      <td>NaN</td>\n",
       "      <td>NaN</td>\n",
       "      <td>Laboratory-confirmed case</td>\n",
       "      <td>Male</td>\n",
       "      <td>20 - 29 Years</td>\n",
       "      <td>White, Non-Hispanic</td>\n",
       "      <td>Unknown</td>\n",
       "      <td>Missing</td>\n",
       "      <td>No</td>\n",
       "      <td>Missing</td>\n",
       "    </tr>\n",
       "    <tr>\n",
       "      <th>7</th>\n",
       "      <td>2021/02/04</td>\n",
       "      <td>NaN</td>\n",
       "      <td>NaN</td>\n",
       "      <td>NaN</td>\n",
       "      <td>Laboratory-confirmed case</td>\n",
       "      <td>Male</td>\n",
       "      <td>70 - 79 Years</td>\n",
       "      <td>White, Non-Hispanic</td>\n",
       "      <td>Missing</td>\n",
       "      <td>Missing</td>\n",
       "      <td>No</td>\n",
       "      <td>Missing</td>\n",
       "    </tr>\n",
       "    <tr>\n",
       "      <th>8</th>\n",
       "      <td>2021/01/23</td>\n",
       "      <td>NaN</td>\n",
       "      <td>NaN</td>\n",
       "      <td>NaN</td>\n",
       "      <td>Laboratory-confirmed case</td>\n",
       "      <td>Male</td>\n",
       "      <td>40 - 49 Years</td>\n",
       "      <td>Unknown</td>\n",
       "      <td>Unknown</td>\n",
       "      <td>Missing</td>\n",
       "      <td>No</td>\n",
       "      <td>Missing</td>\n",
       "    </tr>\n",
       "    <tr>\n",
       "      <th>9</th>\n",
       "      <td>2021/01/25</td>\n",
       "      <td>2021/01/27</td>\n",
       "      <td>NaN</td>\n",
       "      <td>2021/01/25</td>\n",
       "      <td>Probable Case</td>\n",
       "      <td>Female</td>\n",
       "      <td>70 - 79 Years</td>\n",
       "      <td>White, Non-Hispanic</td>\n",
       "      <td>No</td>\n",
       "      <td>Missing</td>\n",
       "      <td>No</td>\n",
       "      <td>Missing</td>\n",
       "    </tr>\n",
       "  </tbody>\n",
       "</table>\n",
       "</div>"
      ],
      "text/plain": [
       "  cdc_case_earliest_dt cdc_report_dt pos_spec_dt    onset_dt  \\\n",
       "0           2021/01/22    2021/01/22         NaN         NaN   \n",
       "1           2021/01/26           NaN         NaN         NaN   \n",
       "2           2021/02/03    2021/02/05         NaN  2021/02/03   \n",
       "3           2021/02/05    2021/02/05  2021/02/07  2021/02/05   \n",
       "4           2021/01/27    2021/01/27         NaN         NaN   \n",
       "5           2021/02/07    2021/02/07  2021/02/07         NaN   \n",
       "6           2021/01/26           NaN         NaN         NaN   \n",
       "7           2021/02/04           NaN         NaN         NaN   \n",
       "8           2021/01/23           NaN         NaN         NaN   \n",
       "9           2021/01/25    2021/01/27         NaN  2021/01/25   \n",
       "\n",
       "              current_status     sex      age_group race_ethnicity_combined  \\\n",
       "0              Probable Case  Female    0 - 9 Years     Asian, Non-Hispanic   \n",
       "1  Laboratory-confirmed case  Female  30 - 39 Years                 Unknown   \n",
       "2  Laboratory-confirmed case  Female  40 - 49 Years     Asian, Non-Hispanic   \n",
       "3  Laboratory-confirmed case    Male  40 - 49 Years         Hispanic/Latino   \n",
       "4  Laboratory-confirmed case  Female  40 - 49 Years     White, Non-Hispanic   \n",
       "5  Laboratory-confirmed case  Female  30 - 39 Years                 Unknown   \n",
       "6  Laboratory-confirmed case    Male  20 - 29 Years     White, Non-Hispanic   \n",
       "7  Laboratory-confirmed case    Male  70 - 79 Years     White, Non-Hispanic   \n",
       "8  Laboratory-confirmed case    Male  40 - 49 Years                 Unknown   \n",
       "9              Probable Case  Female  70 - 79 Years     White, Non-Hispanic   \n",
       "\n",
       "   hosp_yn   icu_yn death_yn medcond_yn  \n",
       "0       No  Missing       No    Missing  \n",
       "1  Unknown  Missing       No    Missing  \n",
       "2  Missing  Missing       No    Missing  \n",
       "3       No  Unknown       No         No  \n",
       "4       No  Missing       No    Missing  \n",
       "5  Unknown  Unknown       No    Unknown  \n",
       "6  Unknown  Missing       No    Missing  \n",
       "7  Missing  Missing       No    Missing  \n",
       "8  Unknown  Missing       No    Missing  \n",
       "9       No  Missing       No    Missing  "
      ]
     },
     "execution_count": 131,
     "metadata": {},
     "output_type": "execute_result"
    }
   ],
   "source": [
    "df_unseen.head(10)"
   ]
  },
  {
   "cell_type": "code",
   "execution_count": 132,
   "id": "5f181178",
   "metadata": {},
   "outputs": [],
   "source": [
    "# Transform dataset"
   ]
  },
  {
   "cell_type": "code",
   "execution_count": 133,
   "id": "e4fe9058",
   "metadata": {},
   "outputs": [],
   "source": [
    "# Drop redundant features\n",
    "df_unseen = df_unseen.drop(columns=[\n",
    "    'cdc_case_earliest_dt', 'cdc_report_dt', 'pos_spec_dt', 'onset_dt',\n",
    "    'current_status', 'race_ethnicity_combined'\n",
    "])"
   ]
  },
  {
   "cell_type": "code",
   "execution_count": 134,
   "id": "052e3e8a",
   "metadata": {
    "scrolled": false
   },
   "outputs": [
    {
     "data": {
      "text/html": [
       "<div>\n",
       "<style scoped>\n",
       "    .dataframe tbody tr th:only-of-type {\n",
       "        vertical-align: middle;\n",
       "    }\n",
       "\n",
       "    .dataframe tbody tr th {\n",
       "        vertical-align: top;\n",
       "    }\n",
       "\n",
       "    .dataframe thead th {\n",
       "        text-align: right;\n",
       "    }\n",
       "</style>\n",
       "<table border=\"1\" class=\"dataframe\">\n",
       "  <thead>\n",
       "    <tr style=\"text-align: right;\">\n",
       "      <th></th>\n",
       "      <th>death_yn</th>\n",
       "      <th>Female</th>\n",
       "      <th>Male</th>\n",
       "      <th>0 - 9 Years</th>\n",
       "      <th>10 - 19 Years</th>\n",
       "      <th>20 - 29 Years</th>\n",
       "      <th>30 - 39 Years</th>\n",
       "      <th>40 - 49 Years</th>\n",
       "      <th>50 - 59 Years</th>\n",
       "      <th>60 - 69 Years</th>\n",
       "      <th>70 - 79 Years</th>\n",
       "      <th>hosp_No</th>\n",
       "      <th>hosp_Yes</th>\n",
       "      <th>icu_No</th>\n",
       "      <th>icu_Yes</th>\n",
       "      <th>medcond_No</th>\n",
       "      <th>medcond_Yes</th>\n",
       "    </tr>\n",
       "  </thead>\n",
       "  <tbody>\n",
       "    <tr>\n",
       "      <th>0</th>\n",
       "      <td>No</td>\n",
       "      <td>1</td>\n",
       "      <td>0</td>\n",
       "      <td>1</td>\n",
       "      <td>0</td>\n",
       "      <td>0</td>\n",
       "      <td>0</td>\n",
       "      <td>0</td>\n",
       "      <td>0</td>\n",
       "      <td>0</td>\n",
       "      <td>0</td>\n",
       "      <td>1</td>\n",
       "      <td>0</td>\n",
       "      <td>0</td>\n",
       "      <td>0</td>\n",
       "      <td>0</td>\n",
       "      <td>0</td>\n",
       "    </tr>\n",
       "    <tr>\n",
       "      <th>1</th>\n",
       "      <td>No</td>\n",
       "      <td>1</td>\n",
       "      <td>0</td>\n",
       "      <td>0</td>\n",
       "      <td>0</td>\n",
       "      <td>0</td>\n",
       "      <td>1</td>\n",
       "      <td>0</td>\n",
       "      <td>0</td>\n",
       "      <td>0</td>\n",
       "      <td>0</td>\n",
       "      <td>0</td>\n",
       "      <td>0</td>\n",
       "      <td>0</td>\n",
       "      <td>0</td>\n",
       "      <td>0</td>\n",
       "      <td>0</td>\n",
       "    </tr>\n",
       "    <tr>\n",
       "      <th>2</th>\n",
       "      <td>No</td>\n",
       "      <td>1</td>\n",
       "      <td>0</td>\n",
       "      <td>0</td>\n",
       "      <td>0</td>\n",
       "      <td>0</td>\n",
       "      <td>0</td>\n",
       "      <td>1</td>\n",
       "      <td>0</td>\n",
       "      <td>0</td>\n",
       "      <td>0</td>\n",
       "      <td>0</td>\n",
       "      <td>0</td>\n",
       "      <td>0</td>\n",
       "      <td>0</td>\n",
       "      <td>0</td>\n",
       "      <td>0</td>\n",
       "    </tr>\n",
       "    <tr>\n",
       "      <th>3</th>\n",
       "      <td>No</td>\n",
       "      <td>0</td>\n",
       "      <td>1</td>\n",
       "      <td>0</td>\n",
       "      <td>0</td>\n",
       "      <td>0</td>\n",
       "      <td>0</td>\n",
       "      <td>1</td>\n",
       "      <td>0</td>\n",
       "      <td>0</td>\n",
       "      <td>0</td>\n",
       "      <td>1</td>\n",
       "      <td>0</td>\n",
       "      <td>0</td>\n",
       "      <td>0</td>\n",
       "      <td>1</td>\n",
       "      <td>0</td>\n",
       "    </tr>\n",
       "    <tr>\n",
       "      <th>4</th>\n",
       "      <td>No</td>\n",
       "      <td>1</td>\n",
       "      <td>0</td>\n",
       "      <td>0</td>\n",
       "      <td>0</td>\n",
       "      <td>0</td>\n",
       "      <td>0</td>\n",
       "      <td>1</td>\n",
       "      <td>0</td>\n",
       "      <td>0</td>\n",
       "      <td>0</td>\n",
       "      <td>1</td>\n",
       "      <td>0</td>\n",
       "      <td>0</td>\n",
       "      <td>0</td>\n",
       "      <td>0</td>\n",
       "      <td>0</td>\n",
       "    </tr>\n",
       "  </tbody>\n",
       "</table>\n",
       "</div>"
      ],
      "text/plain": [
       "  death_yn  Female  Male  0 - 9 Years  10 - 19 Years  20 - 29 Years  \\\n",
       "0       No       1     0            1              0              0   \n",
       "1       No       1     0            0              0              0   \n",
       "2       No       1     0            0              0              0   \n",
       "3       No       0     1            0              0              0   \n",
       "4       No       1     0            0              0              0   \n",
       "\n",
       "   30 - 39 Years  40 - 49 Years  50 - 59 Years  60 - 69 Years  70 - 79 Years  \\\n",
       "0              0              0              0              0              0   \n",
       "1              1              0              0              0              0   \n",
       "2              0              1              0              0              0   \n",
       "3              0              1              0              0              0   \n",
       "4              0              1              0              0              0   \n",
       "\n",
       "   hosp_No  hosp_Yes  icu_No  icu_Yes  medcond_No  medcond_Yes  \n",
       "0        1         0       0        0           0            0  \n",
       "1        0         0       0        0           0            0  \n",
       "2        0         0       0        0           0            0  \n",
       "3        1         0       0        0           1            0  \n",
       "4        1         0       0        0           0            0  "
      ]
     },
     "execution_count": 134,
     "metadata": {},
     "output_type": "execute_result"
    }
   ],
   "source": [
    "# Create Dummy Variables\n",
    "# Create dummy variables for sex\n",
    "df_dummies_sex = pd.get_dummies(df_unseen['sex'])\n",
    "df_dummies_sex.head()\n",
    "# Add dummies to the training set\n",
    "df_unseen = pd.concat([df_unseen, df_dummies_sex[['Female', 'Male']]], axis=1)\n",
    "\n",
    "# Create dummy variables for age_group\n",
    "df_dummies_age = pd.get_dummies(df_unseen['age_group'])\n",
    "# Add dummies to the training set\n",
    "df_unseen = pd.concat([df_unseen, df_dummies_age], axis=1)\n",
    "df_unseen = df_unseen.drop(columns='80+ Years')\n",
    "\n",
    "# Create dummy variables for hosp_yn\n",
    "df_dummies_hosp = pd.get_dummies(df_unseen['hosp_yn'])\n",
    "df_dummies_hosp = df_dummies_hosp.rename(columns={'No':'hosp_No', 'Yes':'hosp_Yes'})\n",
    "df_dummies_hosp = df_dummies_hosp.drop(columns='Unknown')\n",
    "# Add dummies to the training set\n",
    "df_unseen = pd.concat([df_unseen, df_dummies_hosp], axis=1)\n",
    "\n",
    "# Create dummy variables for hosp_yn\n",
    "df_dummies_icu = pd.get_dummies(df_unseen['icu_yn'])\n",
    "df_dummies_icu = df_dummies_icu.rename(columns={'No':'icu_No', 'Yes':'icu_Yes'})\n",
    "df_dummies_icu = df_dummies_icu.drop(columns='Unknown')\n",
    "# Add dummies to the training set\n",
    "df_unseen = pd.concat([df_unseen, df_dummies_icu], axis=1)\n",
    "\n",
    "# Create dummy variables for hosp_yn\n",
    "df_dummies_hosp = pd.get_dummies(df_unseen['medcond_yn'])\n",
    "df_dummies_hosp = df_dummies_hosp.rename(columns={'No':'medcond_No', 'Yes':'medcond_Yes'})\n",
    "df_dummies_hosp = df_dummies_hosp.drop(columns='Unknown')\n",
    "# Add dummies to the training set\n",
    "df_unseen = pd.concat([df_unseen, df_dummies_hosp], axis=1)\n",
    "\n",
    "# Drop original features\n",
    "df_unseen = df_unseen.drop(columns=['sex', 'age_group', 'hosp_yn', 'icu_yn', 'medcond_yn', 'Missing'])\n",
    "df_unseen.head()\n"
   ]
  },
  {
   "cell_type": "code",
   "execution_count": 135,
   "id": "eddd8896",
   "metadata": {},
   "outputs": [],
   "source": [
    "X_unseen = df_unseen.drop(columns='death_yn')"
   ]
  },
  {
   "cell_type": "code",
   "execution_count": 138,
   "id": "3bb9138f",
   "metadata": {
    "collapsed": true
   },
   "outputs": [
    {
     "data": {
      "text/html": [
       "<div>\n",
       "<style scoped>\n",
       "    .dataframe tbody tr th:only-of-type {\n",
       "        vertical-align: middle;\n",
       "    }\n",
       "\n",
       "    .dataframe tbody tr th {\n",
       "        vertical-align: top;\n",
       "    }\n",
       "\n",
       "    .dataframe thead th {\n",
       "        text-align: right;\n",
       "    }\n",
       "</style>\n",
       "<table border=\"1\" class=\"dataframe\">\n",
       "  <thead>\n",
       "    <tr style=\"text-align: right;\">\n",
       "      <th></th>\n",
       "      <th>DeathClass</th>\n",
       "    </tr>\n",
       "  </thead>\n",
       "  <tbody>\n",
       "    <tr>\n",
       "      <th>0</th>\n",
       "      <td>0.0</td>\n",
       "    </tr>\n",
       "    <tr>\n",
       "      <th>1</th>\n",
       "      <td>0.0</td>\n",
       "    </tr>\n",
       "    <tr>\n",
       "      <th>2</th>\n",
       "      <td>0.0</td>\n",
       "    </tr>\n",
       "    <tr>\n",
       "      <th>3</th>\n",
       "      <td>0.0</td>\n",
       "    </tr>\n",
       "    <tr>\n",
       "      <th>4</th>\n",
       "      <td>0.0</td>\n",
       "    </tr>\n",
       "    <tr>\n",
       "      <th>...</th>\n",
       "      <td>...</td>\n",
       "    </tr>\n",
       "    <tr>\n",
       "      <th>9995</th>\n",
       "      <td>0.0</td>\n",
       "    </tr>\n",
       "    <tr>\n",
       "      <th>9996</th>\n",
       "      <td>0.0</td>\n",
       "    </tr>\n",
       "    <tr>\n",
       "      <th>9997</th>\n",
       "      <td>0.0</td>\n",
       "    </tr>\n",
       "    <tr>\n",
       "      <th>9998</th>\n",
       "      <td>0.0</td>\n",
       "    </tr>\n",
       "    <tr>\n",
       "      <th>9999</th>\n",
       "      <td>0.0</td>\n",
       "    </tr>\n",
       "  </tbody>\n",
       "</table>\n",
       "<p>10000 rows × 1 columns</p>\n",
       "</div>"
      ],
      "text/plain": [
       "      DeathClass\n",
       "0            0.0\n",
       "1            0.0\n",
       "2            0.0\n",
       "3            0.0\n",
       "4            0.0\n",
       "...          ...\n",
       "9995         0.0\n",
       "9996         0.0\n",
       "9997         0.0\n",
       "9998         0.0\n",
       "9999         0.0\n",
       "\n",
       "[10000 rows x 1 columns]"
      ]
     },
     "execution_count": 138,
     "metadata": {},
     "output_type": "execute_result"
    }
   ],
   "source": [
    "# Transform target feature death_yn into a categorical feature named death class\n",
    "y_unseen = pd.DataFrame(df_unseen['death_yn'])\n",
    "DeathClass = (y_unseen.death_yn == \"Yes\") * 1.0\n",
    "\n",
    "# Add DeathClass to dataframe and drop death_yn\n",
    "y_unseen['DeathClass'] = DeathClass\n",
    "y_unseen.drop('death_yn', axis=1, inplace=True)\n",
    "#y_unseen"
   ]
  },
  {
   "cell_type": "code",
   "execution_count": 145,
   "id": "9da4c6e7",
   "metadata": {},
   "outputs": [
    {
     "name": "stdout",
     "output_type": "stream",
     "text": [
      "\n",
      "Predictions with logistic regression: \n",
      "\n"
     ]
    },
    {
     "data": {
      "text/html": [
       "<div>\n",
       "<style scoped>\n",
       "    .dataframe tbody tr th:only-of-type {\n",
       "        vertical-align: middle;\n",
       "    }\n",
       "\n",
       "    .dataframe tbody tr th {\n",
       "        vertical-align: top;\n",
       "    }\n",
       "\n",
       "    .dataframe thead th {\n",
       "        text-align: right;\n",
       "    }\n",
       "</style>\n",
       "<table border=\"1\" class=\"dataframe\">\n",
       "  <thead>\n",
       "    <tr style=\"text-align: right;\">\n",
       "      <th></th>\n",
       "      <th>DeathClass</th>\n",
       "      <th>Predicted</th>\n",
       "    </tr>\n",
       "  </thead>\n",
       "  <tbody>\n",
       "    <tr>\n",
       "      <th>0</th>\n",
       "      <td>0.0</td>\n",
       "      <td>0.0</td>\n",
       "    </tr>\n",
       "    <tr>\n",
       "      <th>1</th>\n",
       "      <td>0.0</td>\n",
       "      <td>0.0</td>\n",
       "    </tr>\n",
       "    <tr>\n",
       "      <th>2</th>\n",
       "      <td>0.0</td>\n",
       "      <td>0.0</td>\n",
       "    </tr>\n",
       "    <tr>\n",
       "      <th>3</th>\n",
       "      <td>0.0</td>\n",
       "      <td>0.0</td>\n",
       "    </tr>\n",
       "    <tr>\n",
       "      <th>4</th>\n",
       "      <td>0.0</td>\n",
       "      <td>0.0</td>\n",
       "    </tr>\n",
       "    <tr>\n",
       "      <th>5</th>\n",
       "      <td>0.0</td>\n",
       "      <td>0.0</td>\n",
       "    </tr>\n",
       "    <tr>\n",
       "      <th>6</th>\n",
       "      <td>0.0</td>\n",
       "      <td>0.0</td>\n",
       "    </tr>\n",
       "    <tr>\n",
       "      <th>7</th>\n",
       "      <td>0.0</td>\n",
       "      <td>0.0</td>\n",
       "    </tr>\n",
       "    <tr>\n",
       "      <th>8</th>\n",
       "      <td>0.0</td>\n",
       "      <td>0.0</td>\n",
       "    </tr>\n",
       "    <tr>\n",
       "      <th>9</th>\n",
       "      <td>0.0</td>\n",
       "      <td>0.0</td>\n",
       "    </tr>\n",
       "  </tbody>\n",
       "</table>\n",
       "</div>"
      ],
      "text/plain": [
       "   DeathClass  Predicted\n",
       "0         0.0        0.0\n",
       "1         0.0        0.0\n",
       "2         0.0        0.0\n",
       "3         0.0        0.0\n",
       "4         0.0        0.0\n",
       "5         0.0        0.0\n",
       "6         0.0        0.0\n",
       "7         0.0        0.0\n",
       "8         0.0        0.0\n",
       "9         0.0        0.0"
      ]
     },
     "execution_count": 145,
     "metadata": {},
     "output_type": "execute_result"
    }
   ],
   "source": [
    "# Evaluate model on the new test dataset\n",
    "# Print the predicted target feature value for the first 10 training examples\n",
    "unseen_predictions = random_forest.predict(X_unseen)\n",
    "print(\"\\nPredictions with logistic regression: \\n\")\n",
    "#actual_vs_predicted_unseen = pd.concat([y_unseen, pd.DataFrame(unseen_predictions, columns=['Predicted'], index=y.index)], axis=1)\n",
    "#actual_vs_predicted_unseen.head(10)\n",
    "actual_vs_predicted_unseen = pd.DataFrame(y_unseen)\n",
    "actual_vs_predicted_unseen['Predicted'] = unseen_predictions\n",
    "actual_vs_predicted_unseen.head(10)"
   ]
  },
  {
   "cell_type": "code",
   "execution_count": 151,
   "id": "b4a31870",
   "metadata": {
    "scrolled": true
   },
   "outputs": [
    {
     "name": "stdout",
     "output_type": "stream",
     "text": [
      "Accuracy:  0.9866\n",
      "\n",
      "Confusion Matrix: \n",
      " [[9857   22]\n",
      " [ 112    9]]\n",
      "\n",
      "Classification Report: \n",
      "               precision    recall  f1-score   support\n",
      "\n",
      "         0.0       0.99      1.00      0.99      9879\n",
      "         1.0       0.29      0.07      0.12       121\n",
      "\n",
      "    accuracy                           0.99     10000\n",
      "   macro avg       0.64      0.54      0.56     10000\n",
      "weighted avg       0.98      0.99      0.98     10000\n",
      "\n"
     ]
    }
   ],
   "source": [
    "# Print Accuracy\n",
    "print('Accuracy: ', metrics.accuracy_score(actual_vs_predicted_unseen['DeathClass'], actual_vs_predicted_unseen['Predicted']) )\n",
    "\n",
    "# Print Confusion Matrix\n",
    "print('\\nConfusion Matrix: \\n', metrics.confusion_matrix(actual_vs_predicted_unseen['DeathClass'], actual_vs_predicted_unseen['Predicted']) )\n",
    "\n",
    "# Print Classification Report\n",
    "print('\\nClassification Report: \\n', metrics.classification_report(actual_vs_predicted_unseen['DeathClass'], actual_vs_predicted_unseen['Predicted']) )"
   ]
  },
  {
   "cell_type": "markdown",
   "id": "0daacb90",
   "metadata": {},
   "source": [
    "Through the evaluation on the unseen dataset this model shows to have a very high accuracy however I don't believe this statistic to be very accurate.  \n",
    "The balance between the False Negatives and True Positives is highly skewed towards the False Negatives."
   ]
  },
  {
   "cell_type": "markdown",
   "id": "72439bf3",
   "metadata": {},
   "source": [
    "***"
   ]
  },
  {
   "cell_type": "markdown",
   "id": "c71573bd",
   "metadata": {},
   "source": [
    "[Back to top](#top)"
   ]
  }
 ],
 "metadata": {
  "kernelspec": {
   "display_name": "Python 3",
   "language": "python",
   "name": "python3"
  },
  "language_info": {
   "codemirror_mode": {
    "name": "ipython",
    "version": 3
   },
   "file_extension": ".py",
   "mimetype": "text/x-python",
   "name": "python",
   "nbconvert_exporter": "python",
   "pygments_lexer": "ipython3",
   "version": "3.8.8"
  }
 },
 "nbformat": 4,
 "nbformat_minor": 5
}
